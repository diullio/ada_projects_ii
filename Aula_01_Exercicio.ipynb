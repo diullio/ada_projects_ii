{
 "cells": [
  {
   "cell_type": "code",
   "execution_count": 1,
   "metadata": {},
   "outputs": [],
   "source": [
    "vals = [1584, 1656.5, 1629.8, 1712, 1647, 1736,\n",
    "       1681, 1757, 1689, 1730, 1697, 1809, 1789, 1840,\n",
    "       1867, 1930, 1865, 1885, 1914, 1932, 1894, 1891,\n",
    "       1965, 1946, 1939, 2061, 1962, 2296, 2029, 2080,\n",
    "       1974, 2083, 1949, 2007, 2090, 2081, 2117, 2149,\n",
    "       2105, 2326, 2050, 2140, 2342, 2163, 2207, 2239,\n",
    "       2236, 2343, 2290, 2380, 2350, 2538, 2416, 2397,\n",
    "       2564, 2407, 2562, 2407, 2403, 2592, 2507, 2501,\n",
    "       2448, 2619, 2626, 2694, 2476, 2548, 2540, 2486,\n",
    "       2523, 2638, 2485, 2733, 2555, 2753, 2654, 2643,\n",
    "       2797, 2692, 2655, 2518, 2710, 2767, 2741, 2907,\n",
    "       2787, 3018, 2936, 2711, 2870, 2985, 2945, 2884,\n",
    "       3038, 3028, 3053, 3197, 3082, 3430, 3157, 3274,\n",
    "       3113, 3225, 3020, 3104, 3217, 3174, 3207, 3241,\n",
    "       3181, 3581, 3345, 3301, 3550, 3258, 3320, 3291,\n",
    "       3171, 3501, 3443, 3367, 3408, 3528, 3636, 3476,\n",
    "       3717, 3555, 3547, 3609, 3530, 3844, 3704, 3808,\n",
    "       3701, 4090, 3865, 3954, 4107, 3917, 3934, 3713,\n",
    "       3871, 4103, 4125, 4290, 3982, 4425, 4240, 4059,\n",
    "       4204, 4256, 4268, 4050, 4291, 4276, 4272, 4440]"
   ]
  },
  {
   "attachments": {},
   "cell_type": "markdown",
   "metadata": {},
   "source": [
    "Media = soma / n"
   ]
  },
  {
   "cell_type": "code",
   "execution_count": 5,
   "metadata": {},
   "outputs": [
    {
     "data": {
      "text/plain": [
       "2831.2424050632912"
      ]
     },
     "execution_count": 5,
     "metadata": {},
     "output_type": "execute_result"
    }
   ],
   "source": [
    "soma = 0\n",
    "\n",
    "for i in range(len(vals)):\n",
    "    soma += vals[i]\n",
    "\n",
    "media = soma/(len(vals))\n",
    "media"
   ]
  },
  {
   "attachments": {},
   "cell_type": "markdown",
   "metadata": {},
   "source": [
    "Variancia (desvio pd)² = [soma(x-media)²] / n"
   ]
  },
  {
   "cell_type": "code",
   "execution_count": 6,
   "metadata": {},
   "outputs": [
    {
     "data": {
      "text/plain": [
       "599180.1671258612"
      ]
     },
     "execution_count": 6,
     "metadata": {},
     "output_type": "execute_result"
    }
   ],
   "source": [
    "var = 0\n",
    "\n",
    "for i in vals:\n",
    "    var += (i - media)**2\n",
    "\n",
    "variancia = var/len(vals)\n",
    "variancia"
   ]
  },
  {
   "attachments": {},
   "cell_type": "markdown",
   "metadata": {},
   "source": [
    "# Numpy"
   ]
  },
  {
   "cell_type": "code",
   "execution_count": 7,
   "metadata": {},
   "outputs": [],
   "source": [
    "import numpy as np"
   ]
  },
  {
   "cell_type": "code",
   "execution_count": 12,
   "metadata": {},
   "outputs": [
    {
     "name": "stdout",
     "output_type": "stream",
     "text": [
      "[1 2 3]\n",
      "[1, 2, 3]\n"
     ]
    }
   ],
   "source": [
    "lista = [1, 2, 3]\n",
    "np_lista = np.array(lista)\n",
    "print(np_lista)\n",
    "print(lista)"
   ]
  },
  {
   "cell_type": "code",
   "execution_count": 13,
   "metadata": {},
   "outputs": [
    {
     "data": {
      "text/plain": [
       "3"
      ]
     },
     "execution_count": 13,
     "metadata": {},
     "output_type": "execute_result"
    }
   ],
   "source": [
    "np_lista[-1]"
   ]
  },
  {
   "cell_type": "code",
   "execution_count": 14,
   "metadata": {},
   "outputs": [
    {
     "data": {
      "text/plain": [
       "list"
      ]
     },
     "execution_count": 14,
     "metadata": {},
     "output_type": "execute_result"
    }
   ],
   "source": [
    "type(vals)"
   ]
  },
  {
   "cell_type": "code",
   "execution_count": 17,
   "metadata": {},
   "outputs": [
    {
     "data": {
      "text/plain": [
       "array([1584. , 1656.5, 1629.8, 1712. , 1647. , 1736. , 1681. , 1757. ,\n",
       "       1689. , 1730. , 1697. , 1809. , 1789. , 1840. , 1867. , 1930. ,\n",
       "       1865. , 1885. , 1914. , 1932. , 1894. , 1891. , 1965. , 1946. ,\n",
       "       1939. , 2061. , 1962. , 2296. , 2029. , 2080. , 1974. , 2083. ,\n",
       "       1949. , 2007. , 2090. , 2081. , 2117. , 2149. , 2105. , 2326. ,\n",
       "       2050. , 2140. , 2342. , 2163. , 2207. , 2239. , 2236. , 2343. ,\n",
       "       2290. , 2380. , 2350. , 2538. , 2416. , 2397. , 2564. , 2407. ,\n",
       "       2562. , 2407. , 2403. , 2592. , 2507. , 2501. , 2448. , 2619. ,\n",
       "       2626. , 2694. , 2476. , 2548. , 2540. , 2486. , 2523. , 2638. ,\n",
       "       2485. , 2733. , 2555. , 2753. , 2654. , 2643. , 2797. , 2692. ,\n",
       "       2655. , 2518. , 2710. , 2767. , 2741. , 2907. , 2787. , 3018. ,\n",
       "       2936. , 2711. , 2870. , 2985. , 2945. , 2884. , 3038. , 3028. ,\n",
       "       3053. , 3197. , 3082. , 3430. , 3157. , 3274. , 3113. , 3225. ,\n",
       "       3020. , 3104. , 3217. , 3174. , 3207. , 3241. , 3181. , 3581. ,\n",
       "       3345. , 3301. , 3550. , 3258. , 3320. , 3291. , 3171. , 3501. ,\n",
       "       3443. , 3367. , 3408. , 3528. , 3636. , 3476. , 3717. , 3555. ,\n",
       "       3547. , 3609. , 3530. , 3844. , 3704. , 3808. , 3701. , 4090. ,\n",
       "       3865. , 3954. , 4107. , 3917. , 3934. , 3713. , 3871. , 4103. ,\n",
       "       4125. , 4290. , 3982. , 4425. , 4240. , 4059. , 4204. , 4256. ,\n",
       "       4268. , 4050. , 4291. , 4276. , 4272. , 4440. ])"
      ]
     },
     "execution_count": 17,
     "metadata": {},
     "output_type": "execute_result"
    }
   ],
   "source": [
    "np_vals = np.array(vals)\n",
    "np_vals"
   ]
  },
  {
   "cell_type": "code",
   "execution_count": 22,
   "metadata": {},
   "outputs": [
    {
     "data": {
      "text/plain": [
       "2831.2424050632912"
      ]
     },
     "execution_count": 22,
     "metadata": {},
     "output_type": "execute_result"
    }
   ],
   "source": [
    "media = np.mean(np_vals)\n",
    "media"
   ]
  },
  {
   "cell_type": "code",
   "execution_count": 21,
   "metadata": {},
   "outputs": [
    {
     "data": {
      "text/plain": [
       "774.0672885000769"
      ]
     },
     "execution_count": 21,
     "metadata": {},
     "output_type": "execute_result"
    }
   ],
   "source": [
    "desvio_pd = np.std(np_vals)\n",
    "desvio_pd"
   ]
  },
  {
   "attachments": {},
   "cell_type": "markdown",
   "metadata": {},
   "source": [
    "Um `np.array` não é necessariamente igual a uma lista. \n",
    "\n",
    "Uma das principais diferenças é que os elementos de um vetor devem ser do **mesmo** tipo."
   ]
  },
  {
   "cell_type": "code",
   "execution_count": 23,
   "metadata": {},
   "outputs": [
    {
     "data": {
      "text/plain": [
       "array([1584. , 1656.5, 1629.8, 1712. , 1647. , 1736. , 1681. , 1757. ,\n",
       "       1689. , 1730. , 1697. , 1809. , 1789. , 1840. , 1867. , 1930. ,\n",
       "       1865. , 1885. , 1914. , 1932. , 1894. , 1891. , 1965. , 1946. ,\n",
       "       1939. , 2061. , 1962. , 2296. , 2029. , 2080. , 1974. , 2083. ,\n",
       "       1949. , 2007. , 2090. , 2081. , 2117. , 2149. , 2105. , 2326. ,\n",
       "       2050. , 2140. , 2342. , 2163. , 2207. , 2239. , 2236. , 2343. ,\n",
       "       2290. , 2380. , 2350. , 2538. , 2416. , 2397. , 2564. , 2407. ,\n",
       "       2562. , 2407. , 2403. , 2592. , 2507. , 2501. , 2448. , 2619. ,\n",
       "       2626. , 2694. , 2476. , 2548. , 2540. , 2486. , 2523. , 2638. ,\n",
       "       2485. , 2733. , 2555. , 2753. , 2654. , 2643. , 2797. , 2692. ,\n",
       "       2655. , 2518. , 2710. , 2767. , 2741. , 2907. , 2787. , 3018. ,\n",
       "       2936. , 2711. , 2870. , 2985. , 2945. , 2884. , 3038. , 3028. ,\n",
       "       3053. , 3197. , 3082. , 3430. , 3157. , 3274. , 3113. , 3225. ,\n",
       "       3020. , 3104. , 3217. , 3174. , 3207. , 3241. , 3181. , 3581. ,\n",
       "       3345. , 3301. , 3550. , 3258. , 3320. , 3291. , 3171. , 3501. ,\n",
       "       3443. , 3367. , 3408. , 3528. , 3636. , 3476. , 3717. , 3555. ,\n",
       "       3547. , 3609. , 3530. , 3844. , 3704. , 3808. , 3701. , 4090. ,\n",
       "       3865. , 3954. , 4107. , 3917. , 3934. , 3713. , 3871. , 4103. ,\n",
       "       4125. , 4290. , 3982. , 4425. , 4240. , 4059. , 4204. , 4256. ,\n",
       "       4268. , 4050. , 4291. , 4276. , 4272. , 4440. ])"
      ]
     },
     "execution_count": 23,
     "metadata": {},
     "output_type": "execute_result"
    }
   ],
   "source": [
    "np_vals"
   ]
  },
  {
   "cell_type": "code",
   "execution_count": 25,
   "metadata": {},
   "outputs": [
    {
     "data": {
      "text/plain": [
       "array([False, False, False, False, False, False, False, False, False,\n",
       "       False, False, False, False, False, False, False, False, False,\n",
       "       False, False, False, False, False, False, False,  True, False,\n",
       "        True,  True,  True, False,  True, False,  True,  True,  True,\n",
       "        True,  True,  True,  True,  True,  True,  True,  True,  True,\n",
       "        True,  True,  True,  True,  True,  True,  True,  True,  True,\n",
       "        True,  True,  True,  True,  True,  True,  True,  True,  True,\n",
       "        True,  True,  True,  True,  True,  True,  True,  True,  True,\n",
       "        True,  True,  True,  True,  True,  True,  True,  True,  True,\n",
       "        True,  True,  True,  True,  True,  True,  True,  True,  True,\n",
       "        True,  True,  True,  True,  True,  True,  True,  True,  True,\n",
       "        True,  True,  True,  True,  True,  True,  True,  True,  True,\n",
       "        True,  True,  True,  True,  True,  True,  True,  True,  True,\n",
       "        True,  True,  True,  True,  True,  True,  True,  True,  True,\n",
       "        True,  True,  True,  True,  True,  True,  True,  True,  True,\n",
       "        True,  True,  True,  True,  True,  True,  True,  True,  True,\n",
       "        True,  True,  True,  True,  True,  True,  True,  True,  True,\n",
       "        True,  True,  True,  True,  True])"
      ]
     },
     "execution_count": 25,
     "metadata": {},
     "output_type": "execute_result"
    }
   ],
   "source": [
    "vals_2000 = np_vals > 2000\n",
    "vals_2000"
   ]
  },
  {
   "cell_type": "code",
   "execution_count": 27,
   "metadata": {},
   "outputs": [
    {
     "data": {
      "text/plain": [
       "130"
      ]
     },
     "execution_count": 27,
     "metadata": {},
     "output_type": "execute_result"
    }
   ],
   "source": [
    "np.sum(vals_2000) #soma os verdadeiros (V = 1, F = 0)"
   ]
  },
  {
   "cell_type": "code",
   "execution_count": 30,
   "metadata": {},
   "outputs": [
    {
     "data": {
      "text/plain": [
       "array([4107., 3917., 3934., 3713., 3871., 4103., 4125., 4290., 3982.,\n",
       "       4425., 4240., 4059., 4204., 4256., 4268., 4050., 4291., 4276.,\n",
       "       4272., 4440.])"
      ]
     },
     "execution_count": 30,
     "metadata": {},
     "output_type": "execute_result"
    }
   ],
   "source": [
    "np_vals[-20:]"
   ]
  },
  {
   "cell_type": "code",
   "execution_count": 31,
   "metadata": {},
   "outputs": [
    {
     "data": {
      "text/plain": [
       "array([1584. , 1656.5])"
      ]
     },
     "execution_count": 31,
     "metadata": {},
     "output_type": "execute_result"
    }
   ],
   "source": [
    "np_vals[0:2]"
   ]
  },
  {
   "cell_type": "code",
   "execution_count": 29,
   "metadata": {},
   "outputs": [
    {
     "data": {
      "text/plain": [
       "array([2061., 2296., 2029., 2080., 2083., 2007., 2090., 2081., 2117.,\n",
       "       2149., 2105., 2326., 2050., 2140., 2342., 2163., 2207., 2239.,\n",
       "       2236., 2343., 2290., 2380., 2350., 2538., 2416., 2397., 2564.,\n",
       "       2407., 2562., 2407., 2403., 2592., 2507., 2501., 2448., 2619.,\n",
       "       2626., 2694., 2476., 2548., 2540., 2486., 2523., 2638., 2485.,\n",
       "       2733., 2555., 2753., 2654., 2643., 2797., 2692., 2655., 2518.,\n",
       "       2710., 2767., 2741., 2907., 2787., 3018., 2936., 2711., 2870.,\n",
       "       2985., 2945., 2884., 3038., 3028., 3053., 3197., 3082., 3430.,\n",
       "       3157., 3274., 3113., 3225., 3020., 3104., 3217., 3174., 3207.,\n",
       "       3241., 3181., 3581., 3345., 3301., 3550., 3258., 3320., 3291.,\n",
       "       3171., 3501., 3443., 3367., 3408., 3528., 3636., 3476., 3717.,\n",
       "       3555., 3547., 3609., 3530., 3844., 3704., 3808., 3701., 4090.,\n",
       "       3865., 3954., 4107., 3917., 3934., 3713., 3871., 4103., 4125.,\n",
       "       4290., 3982., 4425., 4240., 4059., 4204., 4256., 4268., 4050.,\n",
       "       4291., 4276., 4272., 4440.])"
      ]
     },
     "execution_count": 29,
     "metadata": {},
     "output_type": "execute_result"
    }
   ],
   "source": [
    "np_vals[vals_2000] #Filtrar"
   ]
  },
  {
   "cell_type": "code",
   "execution_count": 34,
   "metadata": {},
   "outputs": [
    {
     "data": {
      "text/plain": [
       "array([4440., 4272., 4276., 4291., 4050., 4268., 4256., 4204., 4059.,\n",
       "       4240., 4425., 3982., 4290., 4125., 4103., 3871., 3713., 3934.,\n",
       "       3917., 4107., 3954., 3865., 4090., 3701., 3808., 3704., 3844.,\n",
       "       3530., 3609., 3547., 3555., 3717., 3476., 3636., 3528., 3408.,\n",
       "       3367., 3443., 3501., 3171., 3291., 3320., 3258., 3550., 3301.,\n",
       "       3345., 3581., 3181., 3241., 3207., 3174., 3217., 3104., 3020.,\n",
       "       3225., 3113., 3274., 3157., 3430., 3082., 3197., 3053., 3028.,\n",
       "       3038., 2884., 2945., 2985., 2870., 2711., 2936., 3018., 2787.,\n",
       "       2907., 2741., 2767., 2710., 2518., 2655., 2692., 2797., 2643.,\n",
       "       2654., 2753., 2555., 2733., 2485., 2638., 2523., 2486., 2540.,\n",
       "       2548., 2476., 2694., 2626., 2619., 2448., 2501., 2507., 2592.,\n",
       "       2403., 2407., 2562., 2407., 2564., 2397., 2416., 2538., 2350.,\n",
       "       2380., 2290., 2343., 2236., 2239., 2207., 2163., 2342., 2140.,\n",
       "       2050., 2326., 2105., 2149., 2117., 2081., 2090., 2007., 2083.,\n",
       "       2080., 2029., 2296., 2061.])"
      ]
     },
     "execution_count": 34,
     "metadata": {},
     "output_type": "execute_result"
    }
   ],
   "source": [
    "np_maior_2000 = np_vals[np_vals>2000][::-1]\n",
    "\n",
    "np_maior_2000"
   ]
  },
  {
   "cell_type": "code",
   "execution_count": 36,
   "metadata": {},
   "outputs": [
    {
     "data": {
      "text/plain": [
       "array([3954., 3865., 4090., 3701., 3808., 3704., 3844., 3530., 3609.,\n",
       "       3547., 3555., 3717., 3476., 3636., 3528., 3408., 3367., 3443.,\n",
       "       3501., 3171., 3291., 3320., 3258., 3550., 3301., 3345., 3581.,\n",
       "       3181., 3241., 3207., 3174., 3217., 3104., 3020., 3225., 3113.,\n",
       "       3274., 3157., 3430., 3082., 3197., 3053., 3028., 3038., 2884.,\n",
       "       2945., 2985., 2870., 2711., 2936., 3018., 2787., 2907., 2741.,\n",
       "       2767., 2710., 2518., 2655., 2692., 2797., 2643., 2654., 2753.,\n",
       "       2555., 2733., 2485., 2638., 2523., 2486., 2540., 2548., 2476.,\n",
       "       2694., 2626., 2619., 2448., 2501., 2507., 2592., 2403., 2407.,\n",
       "       2562., 2407., 2564., 2397., 2416., 2538., 2350., 2380., 2290.,\n",
       "       2343., 2236., 2239., 2207., 2163., 2342., 2140., 2050., 2326.,\n",
       "       2105., 2149., 2117., 2081., 2090., 2007., 2083., 2080., 2029.,\n",
       "       2296., 2061.])"
      ]
     },
     "execution_count": 36,
     "metadata": {},
     "output_type": "execute_result"
    }
   ],
   "source": [
    "copiar = np.copy(np_maior_2000[20:])\n",
    "copiar"
   ]
  },
  {
   "attachments": {},
   "cell_type": "markdown",
   "metadata": {},
   "source": [
    "1. Escreva um programa para criar um array Numpy e encontrar os índices de todos os elementos iguais a um valor específico."
   ]
  },
  {
   "cell_type": "code",
   "execution_count": 42,
   "metadata": {},
   "outputs": [
    {
     "data": {
      "text/plain": [
       "array([1, 0, 1, 2, 5, 6])"
      ]
     },
     "execution_count": 42,
     "metadata": {},
     "output_type": "execute_result"
    }
   ],
   "source": [
    "lista = [1,0,1,2,5,6]\n",
    "x = np.array(lista)\n",
    "x\n",
    "\n"
   ]
  },
  {
   "attachments": {},
   "cell_type": "markdown",
   "metadata": {},
   "source": [
    "2. Escreva um programa para criar um array Numpy e extrair todos os elementos maiores que um valor específico usando slicing e masking."
   ]
  },
  {
   "cell_type": "code",
   "execution_count": 51,
   "metadata": {},
   "outputs": [
    {
     "data": {
      "text/plain": [
       "array([2, 5, 6])"
      ]
     },
     "execution_count": 51,
     "metadata": {},
     "output_type": "execute_result"
    }
   ],
   "source": [
    "x[x > 1]"
   ]
  },
  {
   "attachments": {},
   "cell_type": "markdown",
   "metadata": {},
   "source": [
    "3. Escreva um programa para criar um array Numpy e usar indexação para extrair elementos em uma linha e coluna específicas."
   ]
  },
  {
   "cell_type": "code",
   "execution_count": 44,
   "metadata": {},
   "outputs": [
    {
     "data": {
      "text/plain": [
       "array([0, 1, 2, 5, 6])"
      ]
     },
     "execution_count": 44,
     "metadata": {},
     "output_type": "execute_result"
    }
   ],
   "source": [
    "x[1:]"
   ]
  },
  {
   "attachments": {},
   "cell_type": "markdown",
   "metadata": {},
   "source": [
    "4. Escreva um programa para criar um array Numpy e calcular a soma de todos os elementos maiores que um valor específico."
   ]
  },
  {
   "cell_type": "code",
   "execution_count": 45,
   "metadata": {},
   "outputs": [
    {
     "data": {
      "text/plain": [
       "15"
      ]
     },
     "execution_count": 45,
     "metadata": {},
     "output_type": "execute_result"
    }
   ],
   "source": [
    "np.sum(x)"
   ]
  },
  {
   "attachments": {},
   "cell_type": "markdown",
   "metadata": {},
   "source": [
    "5. Escreva um programa que faça a soma de todos os elementos pares de um numpy array. "
   ]
  },
  {
   "cell_type": "code",
   "execution_count": 52,
   "metadata": {},
   "outputs": [
    {
     "name": "stdout",
     "output_type": "stream",
     "text": [
      "[0 2 6]\n"
     ]
    },
    {
     "data": {
      "text/plain": [
       "8"
      ]
     },
     "execution_count": 52,
     "metadata": {},
     "output_type": "execute_result"
    }
   ],
   "source": [
    "print(x[x % 2 == 0])\n",
    "np.sum(x[x % 2 == 0])"
   ]
  },
  {
   "attachments": {},
   "cell_type": "markdown",
   "metadata": {},
   "source": [
    "6. Escreva um programa que readeque todos os valores de um array Numpy entre 0 e 5. Para isso, valores menores que 0 devem ser substituídos por 0, e valores maiores que 5 devem ser substituídas por 5."
   ]
  },
  {
   "cell_type": "code",
   "execution_count": 49,
   "metadata": {},
   "outputs": [
    {
     "data": {
      "text/plain": [
       "array([1, 0, 1, 2, 5, 6])"
      ]
     },
     "execution_count": 49,
     "metadata": {},
     "output_type": "execute_result"
    }
   ],
   "source": [
    "x_1 = np.copy(x)\n",
    "x_1\n",
    "\n"
   ]
  }
 ],
 "metadata": {
  "kernelspec": {
   "display_name": "Python 3",
   "language": "python",
   "name": "python3"
  },
  "language_info": {
   "codemirror_mode": {
    "name": "ipython",
    "version": 3
   },
   "file_extension": ".py",
   "mimetype": "text/x-python",
   "name": "python",
   "nbconvert_exporter": "python",
   "pygments_lexer": "ipython3",
   "version": "3.9.7"
  },
  "orig_nbformat": 4,
  "vscode": {
   "interpreter": {
    "hash": "2e96785bde83c4b909073f4aef95e876cb25e3137a1efcd36203a030f53a6ec6"
   }
  }
 },
 "nbformat": 4,
 "nbformat_minor": 2
}
