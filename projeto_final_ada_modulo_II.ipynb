{
 "cells": [
  {
   "cell_type": "code",
   "execution_count": 1,
   "metadata": {},
   "outputs": [],
   "source": [
    "import numpy as np\n",
    "import pandas as pd"
   ]
  },
  {
   "cell_type": "markdown",
   "metadata": {},
   "source": [
    "# Perguntas:\n",
    "* Principios ativos mais vendidos do pais (5 mais vendidos)\n",
    "* Principios ativos mais vendidos por estado. (5 mais vendidos por estado)\n",
    "* Principios ativos mais vendidos por faixa etaria. Compradores de 20 a 30, 31 a 40, 41 a 50.. (5 mais vendidos por faixa etária)\n",
    "* Quantidade vendida / habitante (Medicamentos vendidos per capita por estado)\n",
    "* Municipios que mais vende medicamentos em cada estado e quais os medicamentos mais vendidos nesses estados (5 mais vendidos)).\n",
    "\n"
   ]
  },
  {
   "cell_type": "code",
   "execution_count": 2,
   "metadata": {},
   "outputs": [],
   "source": [
    "farmacos = pd.read_csv(\"EDA_Industrializados_202110.csv\", sep=\";\", encoding=\"latin1\")"
   ]
  },
  {
   "cell_type": "code",
   "execution_count": 3,
   "metadata": {},
   "outputs": [
    {
     "data": {
      "text/html": [
       "<div>\n",
       "<style scoped>\n",
       "    .dataframe tbody tr th:only-of-type {\n",
       "        vertical-align: middle;\n",
       "    }\n",
       "\n",
       "    .dataframe tbody tr th {\n",
       "        vertical-align: top;\n",
       "    }\n",
       "\n",
       "    .dataframe thead th {\n",
       "        text-align: right;\n",
       "    }\n",
       "</style>\n",
       "<table border=\"1\" class=\"dataframe\">\n",
       "  <thead>\n",
       "    <tr style=\"text-align: right;\">\n",
       "      <th></th>\n",
       "      <th>ANO_VENDA</th>\n",
       "      <th>MES_VENDA</th>\n",
       "      <th>UF_VENDA</th>\n",
       "      <th>MUNICIPIO_VENDA</th>\n",
       "      <th>PRINCIPIO_ATIVO</th>\n",
       "      <th>DESCRICAO_APRESENTACAO</th>\n",
       "      <th>QTD_VENDIDA</th>\n",
       "      <th>UNIDADE_MEDIDA</th>\n",
       "      <th>CONSELHO_PRESCRITOR</th>\n",
       "      <th>UF_CONSELHO_PRESCRITOR</th>\n",
       "      <th>TIPO_RECEITUARIO</th>\n",
       "      <th>CID10</th>\n",
       "      <th>SEXO</th>\n",
       "      <th>IDADE</th>\n",
       "      <th>UNIDADE_IDADE</th>\n",
       "    </tr>\n",
       "  </thead>\n",
       "  <tbody>\n",
       "    <tr>\n",
       "      <th>0</th>\n",
       "      <td>2021</td>\n",
       "      <td>10</td>\n",
       "      <td>SP</td>\n",
       "      <td>IGARAÇU DO TIETÊ</td>\n",
       "      <td>CELECOXIBE</td>\n",
       "      <td>200 MG CAP DURA CT BL AL PLAS PVC/PCTFE TRANS ...</td>\n",
       "      <td>14</td>\n",
       "      <td>CAIXA</td>\n",
       "      <td>CRM</td>\n",
       "      <td>SP</td>\n",
       "      <td>1.0</td>\n",
       "      <td>NaN</td>\n",
       "      <td>NaN</td>\n",
       "      <td>NaN</td>\n",
       "      <td>NaN</td>\n",
       "    </tr>\n",
       "    <tr>\n",
       "      <th>1</th>\n",
       "      <td>2021</td>\n",
       "      <td>10</td>\n",
       "      <td>SP</td>\n",
       "      <td>IGARAÇU DO TIETÊ</td>\n",
       "      <td>CELECOXIBE</td>\n",
       "      <td>200 MG CAP DURA CT BL AL PLAS PVC/PCTFE TRANS ...</td>\n",
       "      <td>1</td>\n",
       "      <td>CAIXA</td>\n",
       "      <td>CRM</td>\n",
       "      <td>SP</td>\n",
       "      <td>5.0</td>\n",
       "      <td>NaN</td>\n",
       "      <td>1.0</td>\n",
       "      <td>56.0</td>\n",
       "      <td>1.0</td>\n",
       "    </tr>\n",
       "  </tbody>\n",
       "</table>\n",
       "</div>"
      ],
      "text/plain": [
       "   ANO_VENDA  MES_VENDA UF_VENDA   MUNICIPIO_VENDA PRINCIPIO_ATIVO  \\\n",
       "0       2021         10       SP  IGARAÇU DO TIETÊ      CELECOXIBE   \n",
       "1       2021         10       SP  IGARAÇU DO TIETÊ      CELECOXIBE   \n",
       "\n",
       "                              DESCRICAO_APRESENTACAO  QTD_VENDIDA  \\\n",
       "0  200 MG CAP DURA CT BL AL PLAS PVC/PCTFE TRANS ...           14   \n",
       "1  200 MG CAP DURA CT BL AL PLAS PVC/PCTFE TRANS ...            1   \n",
       "\n",
       "  UNIDADE_MEDIDA CONSELHO_PRESCRITOR UF_CONSELHO_PRESCRITOR  TIPO_RECEITUARIO  \\\n",
       "0          CAIXA                 CRM                     SP               1.0   \n",
       "1          CAIXA                 CRM                     SP               5.0   \n",
       "\n",
       "  CID10  SEXO  IDADE  UNIDADE_IDADE  \n",
       "0   NaN   NaN    NaN            NaN  \n",
       "1   NaN   1.0   56.0            1.0  "
      ]
     },
     "execution_count": 3,
     "metadata": {},
     "output_type": "execute_result"
    }
   ],
   "source": [
    "farmacos.head(2)"
   ]
  },
  {
   "cell_type": "code",
   "execution_count": 4,
   "metadata": {},
   "outputs": [
    {
     "data": {
      "text/html": [
       "<div>\n",
       "<style scoped>\n",
       "    .dataframe tbody tr th:only-of-type {\n",
       "        vertical-align: middle;\n",
       "    }\n",
       "\n",
       "    .dataframe tbody tr th {\n",
       "        vertical-align: top;\n",
       "    }\n",
       "\n",
       "    .dataframe thead th {\n",
       "        text-align: right;\n",
       "    }\n",
       "</style>\n",
       "<table border=\"1\" class=\"dataframe\">\n",
       "  <thead>\n",
       "    <tr style=\"text-align: right;\">\n",
       "      <th></th>\n",
       "      <th>ANO_VENDA</th>\n",
       "      <th>MES_VENDA</th>\n",
       "      <th>QTD_VENDIDA</th>\n",
       "      <th>TIPO_RECEITUARIO</th>\n",
       "      <th>SEXO</th>\n",
       "      <th>IDADE</th>\n",
       "      <th>UNIDADE_IDADE</th>\n",
       "    </tr>\n",
       "  </thead>\n",
       "  <tbody>\n",
       "    <tr>\n",
       "      <th>count</th>\n",
       "      <td>5989708.0</td>\n",
       "      <td>5989708.0</td>\n",
       "      <td>5.989708e+06</td>\n",
       "      <td>5.989708e+06</td>\n",
       "      <td>4.285276e+06</td>\n",
       "      <td>4.285276e+06</td>\n",
       "      <td>4.285276e+06</td>\n",
       "    </tr>\n",
       "    <tr>\n",
       "      <th>mean</th>\n",
       "      <td>2021.0</td>\n",
       "      <td>10.0</td>\n",
       "      <td>5.534829e+00</td>\n",
       "      <td>3.624664e+00</td>\n",
       "      <td>1.554298e+00</td>\n",
       "      <td>4.139040e+01</td>\n",
       "      <td>1.016557e+00</td>\n",
       "    </tr>\n",
       "    <tr>\n",
       "      <th>std</th>\n",
       "      <td>0.0</td>\n",
       "      <td>0.0</td>\n",
       "      <td>8.941821e+02</td>\n",
       "      <td>1.821485e+00</td>\n",
       "      <td>4.970430e-01</td>\n",
       "      <td>3.785119e+01</td>\n",
       "      <td>1.276041e-01</td>\n",
       "    </tr>\n",
       "    <tr>\n",
       "      <th>min</th>\n",
       "      <td>2021.0</td>\n",
       "      <td>10.0</td>\n",
       "      <td>1.000000e+00</td>\n",
       "      <td>1.000000e+00</td>\n",
       "      <td>1.000000e+00</td>\n",
       "      <td>0.000000e+00</td>\n",
       "      <td>1.000000e+00</td>\n",
       "    </tr>\n",
       "    <tr>\n",
       "      <th>25%</th>\n",
       "      <td>2021.0</td>\n",
       "      <td>10.0</td>\n",
       "      <td>1.000000e+00</td>\n",
       "      <td>1.000000e+00</td>\n",
       "      <td>1.000000e+00</td>\n",
       "      <td>2.500000e+01</td>\n",
       "      <td>1.000000e+00</td>\n",
       "    </tr>\n",
       "    <tr>\n",
       "      <th>50%</th>\n",
       "      <td>2021.0</td>\n",
       "      <td>10.0</td>\n",
       "      <td>1.000000e+00</td>\n",
       "      <td>5.000000e+00</td>\n",
       "      <td>2.000000e+00</td>\n",
       "      <td>3.900000e+01</td>\n",
       "      <td>1.000000e+00</td>\n",
       "    </tr>\n",
       "    <tr>\n",
       "      <th>75%</th>\n",
       "      <td>2021.0</td>\n",
       "      <td>10.0</td>\n",
       "      <td>3.000000e+00</td>\n",
       "      <td>5.000000e+00</td>\n",
       "      <td>2.000000e+00</td>\n",
       "      <td>5.600000e+01</td>\n",
       "      <td>1.000000e+00</td>\n",
       "    </tr>\n",
       "    <tr>\n",
       "      <th>max</th>\n",
       "      <td>2021.0</td>\n",
       "      <td>10.0</td>\n",
       "      <td>1.440897e+06</td>\n",
       "      <td>5.000000e+00</td>\n",
       "      <td>2.000000e+00</td>\n",
       "      <td>9.990000e+02</td>\n",
       "      <td>2.000000e+00</td>\n",
       "    </tr>\n",
       "  </tbody>\n",
       "</table>\n",
       "</div>"
      ],
      "text/plain": [
       "       ANO_VENDA  MES_VENDA   QTD_VENDIDA  TIPO_RECEITUARIO          SEXO  \\\n",
       "count  5989708.0  5989708.0  5.989708e+06      5.989708e+06  4.285276e+06   \n",
       "mean      2021.0       10.0  5.534829e+00      3.624664e+00  1.554298e+00   \n",
       "std          0.0        0.0  8.941821e+02      1.821485e+00  4.970430e-01   \n",
       "min       2021.0       10.0  1.000000e+00      1.000000e+00  1.000000e+00   \n",
       "25%       2021.0       10.0  1.000000e+00      1.000000e+00  1.000000e+00   \n",
       "50%       2021.0       10.0  1.000000e+00      5.000000e+00  2.000000e+00   \n",
       "75%       2021.0       10.0  3.000000e+00      5.000000e+00  2.000000e+00   \n",
       "max       2021.0       10.0  1.440897e+06      5.000000e+00  2.000000e+00   \n",
       "\n",
       "              IDADE  UNIDADE_IDADE  \n",
       "count  4.285276e+06   4.285276e+06  \n",
       "mean   4.139040e+01   1.016557e+00  \n",
       "std    3.785119e+01   1.276041e-01  \n",
       "min    0.000000e+00   1.000000e+00  \n",
       "25%    2.500000e+01   1.000000e+00  \n",
       "50%    3.900000e+01   1.000000e+00  \n",
       "75%    5.600000e+01   1.000000e+00  \n",
       "max    9.990000e+02   2.000000e+00  "
      ]
     },
     "execution_count": 4,
     "metadata": {},
     "output_type": "execute_result"
    }
   ],
   "source": [
    "farmacos.describe()"
   ]
  },
  {
   "cell_type": "code",
   "execution_count": 5,
   "metadata": {},
   "outputs": [],
   "source": [
    "df = farmacos.filter([\"UF_VENDA\", \"MUNICIPIO_VENDA\", \"PRINCIPIO_ATIVO\", \"QTD_VENDIDA\", \"IDADE\"])"
   ]
  },
  {
   "cell_type": "code",
   "execution_count": 6,
   "metadata": {},
   "outputs": [
    {
     "data": {
      "text/html": [
       "<div>\n",
       "<style scoped>\n",
       "    .dataframe tbody tr th:only-of-type {\n",
       "        vertical-align: middle;\n",
       "    }\n",
       "\n",
       "    .dataframe tbody tr th {\n",
       "        vertical-align: top;\n",
       "    }\n",
       "\n",
       "    .dataframe thead th {\n",
       "        text-align: right;\n",
       "    }\n",
       "</style>\n",
       "<table border=\"1\" class=\"dataframe\">\n",
       "  <thead>\n",
       "    <tr style=\"text-align: right;\">\n",
       "      <th></th>\n",
       "      <th>UF_VENDA</th>\n",
       "      <th>MUNICIPIO_VENDA</th>\n",
       "      <th>PRINCIPIO_ATIVO</th>\n",
       "      <th>QTD_VENDIDA</th>\n",
       "      <th>IDADE</th>\n",
       "    </tr>\n",
       "  </thead>\n",
       "  <tbody>\n",
       "    <tr>\n",
       "      <th>0</th>\n",
       "      <td>SP</td>\n",
       "      <td>IGARAÇU DO TIETÊ</td>\n",
       "      <td>CELECOXIBE</td>\n",
       "      <td>14</td>\n",
       "      <td>NaN</td>\n",
       "    </tr>\n",
       "    <tr>\n",
       "      <th>1</th>\n",
       "      <td>SP</td>\n",
       "      <td>IGARAÇU DO TIETÊ</td>\n",
       "      <td>CELECOXIBE</td>\n",
       "      <td>1</td>\n",
       "      <td>56.0</td>\n",
       "    </tr>\n",
       "    <tr>\n",
       "      <th>2</th>\n",
       "      <td>SP</td>\n",
       "      <td>IGARAÇU DO TIETÊ</td>\n",
       "      <td>CELECOXIBE</td>\n",
       "      <td>3</td>\n",
       "      <td>NaN</td>\n",
       "    </tr>\n",
       "    <tr>\n",
       "      <th>3</th>\n",
       "      <td>SP</td>\n",
       "      <td>IGARAÇU DO TIETÊ</td>\n",
       "      <td>CELECOXIBE</td>\n",
       "      <td>1</td>\n",
       "      <td>NaN</td>\n",
       "    </tr>\n",
       "    <tr>\n",
       "      <th>4</th>\n",
       "      <td>SP</td>\n",
       "      <td>IGARAÇU DO TIETÊ</td>\n",
       "      <td>CELECOXIBE</td>\n",
       "      <td>3</td>\n",
       "      <td>NaN</td>\n",
       "    </tr>\n",
       "  </tbody>\n",
       "</table>\n",
       "</div>"
      ],
      "text/plain": [
       "  UF_VENDA   MUNICIPIO_VENDA PRINCIPIO_ATIVO  QTD_VENDIDA  IDADE\n",
       "0       SP  IGARAÇU DO TIETÊ      CELECOXIBE           14    NaN\n",
       "1       SP  IGARAÇU DO TIETÊ      CELECOXIBE            1   56.0\n",
       "2       SP  IGARAÇU DO TIETÊ      CELECOXIBE            3    NaN\n",
       "3       SP  IGARAÇU DO TIETÊ      CELECOXIBE            1    NaN\n",
       "4       SP  IGARAÇU DO TIETÊ      CELECOXIBE            3    NaN"
      ]
     },
     "execution_count": 6,
     "metadata": {},
     "output_type": "execute_result"
    }
   ],
   "source": [
    "df.head(5)"
   ]
  },
  {
   "cell_type": "code",
   "execution_count": 7,
   "metadata": {},
   "outputs": [],
   "source": [
    "qtd_vendida_idade = df.groupby([\"UF_VENDA\", \"MUNICIPIO_VENDA\", \"PRINCIPIO_ATIVO\", \"IDADE\"])[\"QTD_VENDIDA\"].sum().reset_index()"
   ]
  },
  {
   "cell_type": "code",
   "execution_count": 8,
   "metadata": {},
   "outputs": [
    {
     "data": {
      "text/html": [
       "<div>\n",
       "<style scoped>\n",
       "    .dataframe tbody tr th:only-of-type {\n",
       "        vertical-align: middle;\n",
       "    }\n",
       "\n",
       "    .dataframe tbody tr th {\n",
       "        vertical-align: top;\n",
       "    }\n",
       "\n",
       "    .dataframe thead th {\n",
       "        text-align: right;\n",
       "    }\n",
       "</style>\n",
       "<table border=\"1\" class=\"dataframe\">\n",
       "  <thead>\n",
       "    <tr style=\"text-align: right;\">\n",
       "      <th></th>\n",
       "      <th>UF_VENDA</th>\n",
       "      <th>MUNICIPIO_VENDA</th>\n",
       "      <th>PRINCIPIO_ATIVO</th>\n",
       "      <th>IDADE</th>\n",
       "      <th>QTD_VENDIDA</th>\n",
       "    </tr>\n",
       "  </thead>\n",
       "  <tbody>\n",
       "    <tr>\n",
       "      <th>0</th>\n",
       "      <td>AC</td>\n",
       "      <td>ACRELÂNDIA</td>\n",
       "      <td>AMOXICILINA</td>\n",
       "      <td>2.0</td>\n",
       "      <td>3</td>\n",
       "    </tr>\n",
       "    <tr>\n",
       "      <th>1</th>\n",
       "      <td>AC</td>\n",
       "      <td>ACRELÂNDIA</td>\n",
       "      <td>AMOXICILINA</td>\n",
       "      <td>5.0</td>\n",
       "      <td>1</td>\n",
       "    </tr>\n",
       "    <tr>\n",
       "      <th>2</th>\n",
       "      <td>AC</td>\n",
       "      <td>ACRELÂNDIA</td>\n",
       "      <td>AMOXICILINA</td>\n",
       "      <td>8.0</td>\n",
       "      <td>3</td>\n",
       "    </tr>\n",
       "    <tr>\n",
       "      <th>3</th>\n",
       "      <td>AC</td>\n",
       "      <td>ACRELÂNDIA</td>\n",
       "      <td>AMOXICILINA</td>\n",
       "      <td>9.0</td>\n",
       "      <td>1</td>\n",
       "    </tr>\n",
       "    <tr>\n",
       "      <th>4</th>\n",
       "      <td>AC</td>\n",
       "      <td>ACRELÂNDIA</td>\n",
       "      <td>AMOXICILINA</td>\n",
       "      <td>15.0</td>\n",
       "      <td>1</td>\n",
       "    </tr>\n",
       "    <tr>\n",
       "      <th>...</th>\n",
       "      <td>...</td>\n",
       "      <td>...</td>\n",
       "      <td>...</td>\n",
       "      <td>...</td>\n",
       "      <td>...</td>\n",
       "    </tr>\n",
       "    <tr>\n",
       "      <th>2254187</th>\n",
       "      <td>TO</td>\n",
       "      <td>XAMBIOÁ</td>\n",
       "      <td>SULFAMETOXAZOL + TRIMETOPRIMA</td>\n",
       "      <td>51.0</td>\n",
       "      <td>1</td>\n",
       "    </tr>\n",
       "    <tr>\n",
       "      <th>2254188</th>\n",
       "      <td>TO</td>\n",
       "      <td>XAMBIOÁ</td>\n",
       "      <td>SULFAMETOXAZOL + TRIMETOPRIMA</td>\n",
       "      <td>56.0</td>\n",
       "      <td>1</td>\n",
       "    </tr>\n",
       "    <tr>\n",
       "      <th>2254189</th>\n",
       "      <td>TO</td>\n",
       "      <td>XAMBIOÁ</td>\n",
       "      <td>SULFAMETOXAZOL + TRIMETOPRIMA</td>\n",
       "      <td>90.0</td>\n",
       "      <td>1</td>\n",
       "    </tr>\n",
       "    <tr>\n",
       "      <th>2254190</th>\n",
       "      <td>TO</td>\n",
       "      <td>XAMBIOÁ</td>\n",
       "      <td>TOBRAMICINA</td>\n",
       "      <td>36.0</td>\n",
       "      <td>2</td>\n",
       "    </tr>\n",
       "    <tr>\n",
       "      <th>2254191</th>\n",
       "      <td>TO</td>\n",
       "      <td>XAMBIOÁ</td>\n",
       "      <td>TOBRAMICINA</td>\n",
       "      <td>45.0</td>\n",
       "      <td>2</td>\n",
       "    </tr>\n",
       "  </tbody>\n",
       "</table>\n",
       "<p>2254192 rows × 5 columns</p>\n",
       "</div>"
      ],
      "text/plain": [
       "        UF_VENDA MUNICIPIO_VENDA                PRINCIPIO_ATIVO  IDADE  \\\n",
       "0             AC      ACRELÂNDIA                    AMOXICILINA    2.0   \n",
       "1             AC      ACRELÂNDIA                    AMOXICILINA    5.0   \n",
       "2             AC      ACRELÂNDIA                    AMOXICILINA    8.0   \n",
       "3             AC      ACRELÂNDIA                    AMOXICILINA    9.0   \n",
       "4             AC      ACRELÂNDIA                    AMOXICILINA   15.0   \n",
       "...          ...             ...                            ...    ...   \n",
       "2254187       TO         XAMBIOÁ  SULFAMETOXAZOL + TRIMETOPRIMA   51.0   \n",
       "2254188       TO         XAMBIOÁ  SULFAMETOXAZOL + TRIMETOPRIMA   56.0   \n",
       "2254189       TO         XAMBIOÁ  SULFAMETOXAZOL + TRIMETOPRIMA   90.0   \n",
       "2254190       TO         XAMBIOÁ                    TOBRAMICINA   36.0   \n",
       "2254191       TO         XAMBIOÁ                    TOBRAMICINA   45.0   \n",
       "\n",
       "         QTD_VENDIDA  \n",
       "0                  3  \n",
       "1                  1  \n",
       "2                  3  \n",
       "3                  1  \n",
       "4                  1  \n",
       "...              ...  \n",
       "2254187            1  \n",
       "2254188            1  \n",
       "2254189            1  \n",
       "2254190            2  \n",
       "2254191            2  \n",
       "\n",
       "[2254192 rows x 5 columns]"
      ]
     },
     "execution_count": 8,
     "metadata": {},
     "output_type": "execute_result"
    }
   ],
   "source": [
    "qtd_vendida_idade"
   ]
  },
  {
   "cell_type": "markdown",
   "metadata": {},
   "source": [
    "- 5 medicamentos mais vendidos no pais considerando faixa etaria"
   ]
  },
  {
   "cell_type": "code",
   "execution_count": 9,
   "metadata": {},
   "outputs": [
    {
     "data": {
      "text/plain": [
       "948760     72600\n",
       "1790690    32026\n",
       "2185151     3493\n",
       "2184752     3224\n",
       "2184753     2846\n",
       "Name: QTD_VENDIDA, dtype: int64"
      ]
     },
     "execution_count": 9,
     "metadata": {},
     "output_type": "execute_result"
    }
   ],
   "source": [
    "maximos_total_idade = qtd_vendida_idade[\"QTD_VENDIDA\"].nlargest(5)\n",
    "maximos_total_idade"
   ]
  },
  {
   "cell_type": "code",
   "execution_count": 10,
   "metadata": {},
   "outputs": [
    {
     "data": {
      "text/html": [
       "<div>\n",
       "<style scoped>\n",
       "    .dataframe tbody tr th:only-of-type {\n",
       "        vertical-align: middle;\n",
       "    }\n",
       "\n",
       "    .dataframe tbody tr th {\n",
       "        vertical-align: top;\n",
       "    }\n",
       "\n",
       "    .dataframe thead th {\n",
       "        text-align: right;\n",
       "    }\n",
       "</style>\n",
       "<table border=\"1\" class=\"dataframe\">\n",
       "  <thead>\n",
       "    <tr style=\"text-align: right;\">\n",
       "      <th></th>\n",
       "      <th>UF_VENDA</th>\n",
       "      <th>MUNICIPIO_VENDA</th>\n",
       "      <th>PRINCIPIO_ATIVO</th>\n",
       "      <th>IDADE</th>\n",
       "      <th>QTD_VENDIDA</th>\n",
       "    </tr>\n",
       "  </thead>\n",
       "  <tbody>\n",
       "    <tr>\n",
       "      <th>948760</th>\n",
       "      <td>PE</td>\n",
       "      <td>RECIFE</td>\n",
       "      <td>VALPROATO DE SÓDIO</td>\n",
       "      <td>45.0</td>\n",
       "      <td>72600</td>\n",
       "    </tr>\n",
       "    <tr>\n",
       "      <th>1790690</th>\n",
       "      <td>SP</td>\n",
       "      <td>ARARAS</td>\n",
       "      <td>AMOXICILINA TRI-HIDRATADA + CLAVULANATO DE POT...</td>\n",
       "      <td>36.0</td>\n",
       "      <td>32026</td>\n",
       "    </tr>\n",
       "    <tr>\n",
       "      <th>2185151</th>\n",
       "      <td>SP</td>\n",
       "      <td>SÃO PAULO</td>\n",
       "      <td>AMOXICILINA TRI-HIDRATADA + CLAVULANATO DE POT...</td>\n",
       "      <td>2.0</td>\n",
       "      <td>3493</td>\n",
       "    </tr>\n",
       "    <tr>\n",
       "      <th>2184752</th>\n",
       "      <td>SP</td>\n",
       "      <td>SÃO PAULO</td>\n",
       "      <td>AMOXICILINA TRI-HIDRATADA</td>\n",
       "      <td>2.0</td>\n",
       "      <td>3224</td>\n",
       "    </tr>\n",
       "    <tr>\n",
       "      <th>2184753</th>\n",
       "      <td>SP</td>\n",
       "      <td>SÃO PAULO</td>\n",
       "      <td>AMOXICILINA TRI-HIDRATADA</td>\n",
       "      <td>3.0</td>\n",
       "      <td>2846</td>\n",
       "    </tr>\n",
       "  </tbody>\n",
       "</table>\n",
       "</div>"
      ],
      "text/plain": [
       "        UF_VENDA MUNICIPIO_VENDA  \\\n",
       "948760        PE          RECIFE   \n",
       "1790690       SP          ARARAS   \n",
       "2185151       SP       SÃO PAULO   \n",
       "2184752       SP       SÃO PAULO   \n",
       "2184753       SP       SÃO PAULO   \n",
       "\n",
       "                                           PRINCIPIO_ATIVO  IDADE  QTD_VENDIDA  \n",
       "948760                                  VALPROATO DE SÓDIO   45.0        72600  \n",
       "1790690  AMOXICILINA TRI-HIDRATADA + CLAVULANATO DE POT...   36.0        32026  \n",
       "2185151  AMOXICILINA TRI-HIDRATADA + CLAVULANATO DE POT...    2.0         3493  \n",
       "2184752                          AMOXICILINA TRI-HIDRATADA    2.0         3224  \n",
       "2184753                          AMOXICILINA TRI-HIDRATADA    3.0         2846  "
      ]
     },
     "execution_count": 10,
     "metadata": {},
     "output_type": "execute_result"
    }
   ],
   "source": [
    "qtd_vendida_idade.loc[maximos_total_idade.index]"
   ]
  },
  {
   "cell_type": "markdown",
   "metadata": {},
   "source": [
    "* 5 Medicamentos mais vendido do pais por região"
   ]
  },
  {
   "cell_type": "code",
   "execution_count": 11,
   "metadata": {},
   "outputs": [],
   "source": [
    "qtd_vendida = df.groupby([\"UF_VENDA\", \"MUNICIPIO_VENDA\", \"PRINCIPIO_ATIVO\"])[\"QTD_VENDIDA\"].sum()"
   ]
  },
  {
   "cell_type": "code",
   "execution_count": 12,
   "metadata": {},
   "outputs": [],
   "source": [
    "qtd_vendida = qtd_vendida.reset_index()"
   ]
  },
  {
   "cell_type": "code",
   "execution_count": 13,
   "metadata": {},
   "outputs": [
    {
     "data": {
      "text/html": [
       "<div>\n",
       "<style scoped>\n",
       "    .dataframe tbody tr th:only-of-type {\n",
       "        vertical-align: middle;\n",
       "    }\n",
       "\n",
       "    .dataframe tbody tr th {\n",
       "        vertical-align: top;\n",
       "    }\n",
       "\n",
       "    .dataframe thead th {\n",
       "        text-align: right;\n",
       "    }\n",
       "</style>\n",
       "<table border=\"1\" class=\"dataframe\">\n",
       "  <thead>\n",
       "    <tr style=\"text-align: right;\">\n",
       "      <th></th>\n",
       "      <th>UF_VENDA</th>\n",
       "      <th>MUNICIPIO_VENDA</th>\n",
       "      <th>PRINCIPIO_ATIVO</th>\n",
       "      <th>QTD_VENDIDA</th>\n",
       "    </tr>\n",
       "  </thead>\n",
       "  <tbody>\n",
       "    <tr>\n",
       "      <th>0</th>\n",
       "      <td>AC</td>\n",
       "      <td>ACRELÂNDIA</td>\n",
       "      <td>ALPRAZOLAM</td>\n",
       "      <td>7</td>\n",
       "    </tr>\n",
       "    <tr>\n",
       "      <th>1</th>\n",
       "      <td>AC</td>\n",
       "      <td>ACRELÂNDIA</td>\n",
       "      <td>AMOXICILINA</td>\n",
       "      <td>41</td>\n",
       "    </tr>\n",
       "    <tr>\n",
       "      <th>2</th>\n",
       "      <td>AC</td>\n",
       "      <td>ACRELÂNDIA</td>\n",
       "      <td>AMOXICILINA + CLAVULANATO DE POTÁSSIO</td>\n",
       "      <td>29</td>\n",
       "    </tr>\n",
       "    <tr>\n",
       "      <th>3</th>\n",
       "      <td>AC</td>\n",
       "      <td>ACRELÂNDIA</td>\n",
       "      <td>AMOXICILINA TRI-HIDRATADA</td>\n",
       "      <td>19</td>\n",
       "    </tr>\n",
       "    <tr>\n",
       "      <th>4</th>\n",
       "      <td>AC</td>\n",
       "      <td>ACRELÂNDIA</td>\n",
       "      <td>AMOXICILINA TRI-HIDRATADA + CLARITROMICINA + E...</td>\n",
       "      <td>2</td>\n",
       "    </tr>\n",
       "    <tr>\n",
       "      <th>...</th>\n",
       "      <td>...</td>\n",
       "      <td>...</td>\n",
       "      <td>...</td>\n",
       "      <td>...</td>\n",
       "    </tr>\n",
       "    <tr>\n",
       "      <th>502361</th>\n",
       "      <td>TO</td>\n",
       "      <td>XAMBIOÁ</td>\n",
       "      <td>SUCCINATO DE DESVENLAFAXINA MONOIDRATADO</td>\n",
       "      <td>4</td>\n",
       "    </tr>\n",
       "    <tr>\n",
       "      <th>502362</th>\n",
       "      <td>TO</td>\n",
       "      <td>XAMBIOÁ</td>\n",
       "      <td>SULFADIAZINA DE PRATA</td>\n",
       "      <td>1</td>\n",
       "    </tr>\n",
       "    <tr>\n",
       "      <th>502363</th>\n",
       "      <td>TO</td>\n",
       "      <td>XAMBIOÁ</td>\n",
       "      <td>SULFAMETOXAZOL + TRIMETOPRIMA</td>\n",
       "      <td>12</td>\n",
       "    </tr>\n",
       "    <tr>\n",
       "      <th>502364</th>\n",
       "      <td>TO</td>\n",
       "      <td>XAMBIOÁ</td>\n",
       "      <td>TOBRAMICINA</td>\n",
       "      <td>4</td>\n",
       "    </tr>\n",
       "    <tr>\n",
       "      <th>502365</th>\n",
       "      <td>TO</td>\n",
       "      <td>XAMBIOÁ</td>\n",
       "      <td>ÁCIDO VALPRÓICO + VALPROATO DE SÓDIO</td>\n",
       "      <td>3</td>\n",
       "    </tr>\n",
       "  </tbody>\n",
       "</table>\n",
       "<p>502366 rows × 4 columns</p>\n",
       "</div>"
      ],
      "text/plain": [
       "       UF_VENDA MUNICIPIO_VENDA  \\\n",
       "0            AC      ACRELÂNDIA   \n",
       "1            AC      ACRELÂNDIA   \n",
       "2            AC      ACRELÂNDIA   \n",
       "3            AC      ACRELÂNDIA   \n",
       "4            AC      ACRELÂNDIA   \n",
       "...         ...             ...   \n",
       "502361       TO         XAMBIOÁ   \n",
       "502362       TO         XAMBIOÁ   \n",
       "502363       TO         XAMBIOÁ   \n",
       "502364       TO         XAMBIOÁ   \n",
       "502365       TO         XAMBIOÁ   \n",
       "\n",
       "                                          PRINCIPIO_ATIVO  QTD_VENDIDA  \n",
       "0                                              ALPRAZOLAM            7  \n",
       "1                                             AMOXICILINA           41  \n",
       "2                   AMOXICILINA + CLAVULANATO DE POTÁSSIO           29  \n",
       "3                               AMOXICILINA TRI-HIDRATADA           19  \n",
       "4       AMOXICILINA TRI-HIDRATADA + CLARITROMICINA + E...            2  \n",
       "...                                                   ...          ...  \n",
       "502361           SUCCINATO DE DESVENLAFAXINA MONOIDRATADO            4  \n",
       "502362                              SULFADIAZINA DE PRATA            1  \n",
       "502363                      SULFAMETOXAZOL + TRIMETOPRIMA           12  \n",
       "502364                                        TOBRAMICINA            4  \n",
       "502365               ÁCIDO VALPRÓICO + VALPROATO DE SÓDIO            3  \n",
       "\n",
       "[502366 rows x 4 columns]"
      ]
     },
     "execution_count": 13,
     "metadata": {},
     "output_type": "execute_result"
    }
   ],
   "source": [
    "qtd_vendida"
   ]
  },
  {
   "cell_type": "code",
   "execution_count": 14,
   "metadata": {},
   "outputs": [
    {
     "data": {
      "text/plain": [
       "380757    1440990\n",
       "336884     789861\n",
       "344055     789622\n",
       "55539      722676\n",
       "485325     722170\n",
       "402235     635581\n",
       "488786     118699\n",
       "488825      90383\n",
       "488784      75073\n",
       "249474      74417\n",
       "Name: QTD_VENDIDA, dtype: int64"
      ]
     },
     "execution_count": 14,
     "metadata": {},
     "output_type": "execute_result"
    }
   ],
   "source": [
    "maximos_total = qtd_vendida[\"QTD_VENDIDA\"].nlargest(10)\n",
    "maximos_total"
   ]
  },
  {
   "cell_type": "markdown",
   "metadata": {},
   "source": [
    "- 5 principios ativos mais vendidos do pais / região"
   ]
  },
  {
   "cell_type": "code",
   "execution_count": 15,
   "metadata": {},
   "outputs": [
    {
     "data": {
      "text/html": [
       "<div>\n",
       "<style scoped>\n",
       "    .dataframe tbody tr th:only-of-type {\n",
       "        vertical-align: middle;\n",
       "    }\n",
       "\n",
       "    .dataframe tbody tr th {\n",
       "        vertical-align: top;\n",
       "    }\n",
       "\n",
       "    .dataframe thead th {\n",
       "        text-align: right;\n",
       "    }\n",
       "</style>\n",
       "<table border=\"1\" class=\"dataframe\">\n",
       "  <thead>\n",
       "    <tr style=\"text-align: right;\">\n",
       "      <th></th>\n",
       "      <th>UF_VENDA</th>\n",
       "      <th>MUNICIPIO_VENDA</th>\n",
       "      <th>PRINCIPIO_ATIVO</th>\n",
       "      <th>QTD_VENDIDA</th>\n",
       "    </tr>\n",
       "  </thead>\n",
       "  <tbody>\n",
       "    <tr>\n",
       "      <th>380757</th>\n",
       "      <td>RS</td>\n",
       "      <td>TUPANCIRETÃ</td>\n",
       "      <td>HEMIFUMARATO DE QUETIAPINA</td>\n",
       "      <td>1440990</td>\n",
       "    </tr>\n",
       "    <tr>\n",
       "      <th>336884</th>\n",
       "      <td>RS</td>\n",
       "      <td>BAGÉ</td>\n",
       "      <td>CLORIDRATO DE TRAMADOL + PARACETAMOL</td>\n",
       "      <td>789861</td>\n",
       "    </tr>\n",
       "    <tr>\n",
       "      <th>344055</th>\n",
       "      <td>RS</td>\n",
       "      <td>CERRO GRANDE</td>\n",
       "      <td>CLORIDRATO DE DULOXETINA</td>\n",
       "      <td>789622</td>\n",
       "    </tr>\n",
       "    <tr>\n",
       "      <th>55539</th>\n",
       "      <td>DF</td>\n",
       "      <td>BRASÍLIA</td>\n",
       "      <td>CARBONATO DE LÍTIO</td>\n",
       "      <td>722676</td>\n",
       "    </tr>\n",
       "    <tr>\n",
       "      <th>485325</th>\n",
       "      <td>SP</td>\n",
       "      <td>SOROCABA</td>\n",
       "      <td>DECANOATO DE NANDROLONA</td>\n",
       "      <td>722170</td>\n",
       "    </tr>\n",
       "    <tr>\n",
       "      <th>402235</th>\n",
       "      <td>SC</td>\n",
       "      <td>NOVA VENEZA</td>\n",
       "      <td>UNDECILATO DE TESTOSTERONA</td>\n",
       "      <td>635581</td>\n",
       "    </tr>\n",
       "    <tr>\n",
       "      <th>488786</th>\n",
       "      <td>SP</td>\n",
       "      <td>SÃO PAULO</td>\n",
       "      <td>HEMITARTARATO DE ZOLPIDEM</td>\n",
       "      <td>118699</td>\n",
       "    </tr>\n",
       "    <tr>\n",
       "      <th>488825</th>\n",
       "      <td>SP</td>\n",
       "      <td>SÃO PAULO</td>\n",
       "      <td>OXALATO DE ESCITALOPRAM</td>\n",
       "      <td>90383</td>\n",
       "    </tr>\n",
       "    <tr>\n",
       "      <th>488784</th>\n",
       "      <td>SP</td>\n",
       "      <td>SÃO PAULO</td>\n",
       "      <td>HEMIFUMARATO DE QUETIAPINA</td>\n",
       "      <td>75073</td>\n",
       "    </tr>\n",
       "    <tr>\n",
       "      <th>249474</th>\n",
       "      <td>PE</td>\n",
       "      <td>RECIFE</td>\n",
       "      <td>VALPROATO DE SÓDIO</td>\n",
       "      <td>74417</td>\n",
       "    </tr>\n",
       "  </tbody>\n",
       "</table>\n",
       "</div>"
      ],
      "text/plain": [
       "       UF_VENDA MUNICIPIO_VENDA                       PRINCIPIO_ATIVO  \\\n",
       "380757       RS     TUPANCIRETÃ            HEMIFUMARATO DE QUETIAPINA   \n",
       "336884       RS            BAGÉ  CLORIDRATO DE TRAMADOL + PARACETAMOL   \n",
       "344055       RS    CERRO GRANDE              CLORIDRATO DE DULOXETINA   \n",
       "55539        DF        BRASÍLIA                    CARBONATO DE LÍTIO   \n",
       "485325       SP        SOROCABA               DECANOATO DE NANDROLONA   \n",
       "402235       SC     NOVA VENEZA            UNDECILATO DE TESTOSTERONA   \n",
       "488786       SP       SÃO PAULO             HEMITARTARATO DE ZOLPIDEM   \n",
       "488825       SP       SÃO PAULO               OXALATO DE ESCITALOPRAM   \n",
       "488784       SP       SÃO PAULO            HEMIFUMARATO DE QUETIAPINA   \n",
       "249474       PE          RECIFE                    VALPROATO DE SÓDIO   \n",
       "\n",
       "        QTD_VENDIDA  \n",
       "380757      1440990  \n",
       "336884       789861  \n",
       "344055       789622  \n",
       "55539        722676  \n",
       "485325       722170  \n",
       "402235       635581  \n",
       "488786       118699  \n",
       "488825        90383  \n",
       "488784        75073  \n",
       "249474        74417  "
      ]
     },
     "execution_count": 15,
     "metadata": {},
     "output_type": "execute_result"
    }
   ],
   "source": [
    "qtd_vendida.loc[maximos_total.index]"
   ]
  },
  {
   "cell_type": "code",
   "execution_count": 16,
   "metadata": {},
   "outputs": [],
   "source": [
    "qtd_vendida_go = qtd_vendida.query(\"UF_VENDA == 'GO'\")"
   ]
  },
  {
   "cell_type": "code",
   "execution_count": 17,
   "metadata": {},
   "outputs": [
    {
     "data": {
      "text/html": [
       "<div>\n",
       "<style scoped>\n",
       "    .dataframe tbody tr th:only-of-type {\n",
       "        vertical-align: middle;\n",
       "    }\n",
       "\n",
       "    .dataframe tbody tr th {\n",
       "        vertical-align: top;\n",
       "    }\n",
       "\n",
       "    .dataframe thead th {\n",
       "        text-align: right;\n",
       "    }\n",
       "</style>\n",
       "<table border=\"1\" class=\"dataframe\">\n",
       "  <thead>\n",
       "    <tr style=\"text-align: right;\">\n",
       "      <th></th>\n",
       "      <th>UF_VENDA</th>\n",
       "      <th>MUNICIPIO_VENDA</th>\n",
       "      <th>PRINCIPIO_ATIVO</th>\n",
       "      <th>QTD_VENDIDA</th>\n",
       "    </tr>\n",
       "  </thead>\n",
       "  <tbody>\n",
       "    <tr>\n",
       "      <th>68789</th>\n",
       "      <td>GO</td>\n",
       "      <td>ABADIA DE GOIÁS</td>\n",
       "      <td>ACETATO DE RETINOL + AMINOÁCIDOS + CLORANFENIC...</td>\n",
       "      <td>4</td>\n",
       "    </tr>\n",
       "    <tr>\n",
       "      <th>68790</th>\n",
       "      <td>GO</td>\n",
       "      <td>ABADIA DE GOIÁS</td>\n",
       "      <td>ALPRAZOLAM</td>\n",
       "      <td>38</td>\n",
       "    </tr>\n",
       "    <tr>\n",
       "      <th>68791</th>\n",
       "      <td>GO</td>\n",
       "      <td>ABADIA DE GOIÁS</td>\n",
       "      <td>AMOXICILINA</td>\n",
       "      <td>47</td>\n",
       "    </tr>\n",
       "    <tr>\n",
       "      <th>68792</th>\n",
       "      <td>GO</td>\n",
       "      <td>ABADIA DE GOIÁS</td>\n",
       "      <td>AMOXICILINA + CLAVULANATO DE POTÁSSIO</td>\n",
       "      <td>13</td>\n",
       "    </tr>\n",
       "    <tr>\n",
       "      <th>68793</th>\n",
       "      <td>GO</td>\n",
       "      <td>ABADIA DE GOIÁS</td>\n",
       "      <td>AMOXICILINA TRI-HIDRATADA</td>\n",
       "      <td>20</td>\n",
       "    </tr>\n",
       "    <tr>\n",
       "      <th>...</th>\n",
       "      <td>...</td>\n",
       "      <td>...</td>\n",
       "      <td>...</td>\n",
       "      <td>...</td>\n",
       "    </tr>\n",
       "    <tr>\n",
       "      <th>94145</th>\n",
       "      <td>GO</td>\n",
       "      <td>ÁGUAS LINDAS DE GOIÁS</td>\n",
       "      <td>ÁCIDO FUSÍDICO</td>\n",
       "      <td>1</td>\n",
       "    </tr>\n",
       "    <tr>\n",
       "      <th>94146</th>\n",
       "      <td>GO</td>\n",
       "      <td>ÁGUAS LINDAS DE GOIÁS</td>\n",
       "      <td>ÁCIDO FUSÍDICO + FUROATO DE MOMETASONA</td>\n",
       "      <td>1</td>\n",
       "    </tr>\n",
       "    <tr>\n",
       "      <th>94147</th>\n",
       "      <td>GO</td>\n",
       "      <td>ÁGUAS LINDAS DE GOIÁS</td>\n",
       "      <td>ÁCIDO FUSÍDICO + VALERATO DE BETAMETASONA</td>\n",
       "      <td>3</td>\n",
       "    </tr>\n",
       "    <tr>\n",
       "      <th>94148</th>\n",
       "      <td>GO</td>\n",
       "      <td>ÁGUAS LINDAS DE GOIÁS</td>\n",
       "      <td>ÁCIDO VALPRÓICO</td>\n",
       "      <td>49</td>\n",
       "    </tr>\n",
       "    <tr>\n",
       "      <th>94149</th>\n",
       "      <td>GO</td>\n",
       "      <td>ÁGUAS LINDAS DE GOIÁS</td>\n",
       "      <td>ÁCIDO VALPRÓICO + VALPROATO DE SÓDIO</td>\n",
       "      <td>32</td>\n",
       "    </tr>\n",
       "  </tbody>\n",
       "</table>\n",
       "<p>25361 rows × 4 columns</p>\n",
       "</div>"
      ],
      "text/plain": [
       "      UF_VENDA        MUNICIPIO_VENDA  \\\n",
       "68789       GO        ABADIA DE GOIÁS   \n",
       "68790       GO        ABADIA DE GOIÁS   \n",
       "68791       GO        ABADIA DE GOIÁS   \n",
       "68792       GO        ABADIA DE GOIÁS   \n",
       "68793       GO        ABADIA DE GOIÁS   \n",
       "...        ...                    ...   \n",
       "94145       GO  ÁGUAS LINDAS DE GOIÁS   \n",
       "94146       GO  ÁGUAS LINDAS DE GOIÁS   \n",
       "94147       GO  ÁGUAS LINDAS DE GOIÁS   \n",
       "94148       GO  ÁGUAS LINDAS DE GOIÁS   \n",
       "94149       GO  ÁGUAS LINDAS DE GOIÁS   \n",
       "\n",
       "                                         PRINCIPIO_ATIVO  QTD_VENDIDA  \n",
       "68789  ACETATO DE RETINOL + AMINOÁCIDOS + CLORANFENIC...            4  \n",
       "68790                                         ALPRAZOLAM           38  \n",
       "68791                                        AMOXICILINA           47  \n",
       "68792              AMOXICILINA + CLAVULANATO DE POTÁSSIO           13  \n",
       "68793                          AMOXICILINA TRI-HIDRATADA           20  \n",
       "...                                                  ...          ...  \n",
       "94145                                     ÁCIDO FUSÍDICO            1  \n",
       "94146             ÁCIDO FUSÍDICO + FUROATO DE MOMETASONA            1  \n",
       "94147          ÁCIDO FUSÍDICO + VALERATO DE BETAMETASONA            3  \n",
       "94148                                    ÁCIDO VALPRÓICO           49  \n",
       "94149               ÁCIDO VALPRÓICO + VALPROATO DE SÓDIO           32  \n",
       "\n",
       "[25361 rows x 4 columns]"
      ]
     },
     "execution_count": 17,
     "metadata": {},
     "output_type": "execute_result"
    }
   ],
   "source": [
    "qtd_vendida_go"
   ]
  },
  {
   "cell_type": "code",
   "execution_count": 18,
   "metadata": {},
   "outputs": [
    {
     "data": {
      "text/plain": [
       "78715    25482\n",
       "78755    16711\n",
       "78713    16434\n",
       "78761    15617\n",
       "78646    13879\n",
       "78592    13114\n",
       "78522    12605\n",
       "78770    12091\n",
       "78552     9319\n",
       "78534     9121\n",
       "Name: QTD_VENDIDA, dtype: int64"
      ]
     },
     "execution_count": 18,
     "metadata": {},
     "output_type": "execute_result"
    }
   ],
   "source": [
    "maximos_go = qtd_vendida_go[\"QTD_VENDIDA\"].nlargest(10)\n",
    "maximos_go"
   ]
  },
  {
   "cell_type": "code",
   "execution_count": 19,
   "metadata": {},
   "outputs": [
    {
     "data": {
      "text/html": [
       "<div>\n",
       "<style scoped>\n",
       "    .dataframe tbody tr th:only-of-type {\n",
       "        vertical-align: middle;\n",
       "    }\n",
       "\n",
       "    .dataframe tbody tr th {\n",
       "        vertical-align: top;\n",
       "    }\n",
       "\n",
       "    .dataframe thead th {\n",
       "        text-align: right;\n",
       "    }\n",
       "</style>\n",
       "<table border=\"1\" class=\"dataframe\">\n",
       "  <thead>\n",
       "    <tr style=\"text-align: right;\">\n",
       "      <th></th>\n",
       "      <th>UF_VENDA</th>\n",
       "      <th>MUNICIPIO_VENDA</th>\n",
       "      <th>PRINCIPIO_ATIVO</th>\n",
       "      <th>QTD_VENDIDA</th>\n",
       "    </tr>\n",
       "  </thead>\n",
       "  <tbody>\n",
       "    <tr>\n",
       "      <th>78715</th>\n",
       "      <td>GO</td>\n",
       "      <td>GOIÂNIA</td>\n",
       "      <td>HEMITARTARATO DE ZOLPIDEM</td>\n",
       "      <td>25482</td>\n",
       "    </tr>\n",
       "    <tr>\n",
       "      <th>78755</th>\n",
       "      <td>GO</td>\n",
       "      <td>GOIÂNIA</td>\n",
       "      <td>OXALATO DE ESCITALOPRAM</td>\n",
       "      <td>16711</td>\n",
       "    </tr>\n",
       "    <tr>\n",
       "      <th>78713</th>\n",
       "      <td>GO</td>\n",
       "      <td>GOIÂNIA</td>\n",
       "      <td>HEMIFUMARATO DE QUETIAPINA</td>\n",
       "      <td>16434</td>\n",
       "    </tr>\n",
       "    <tr>\n",
       "      <th>78761</th>\n",
       "      <td>GO</td>\n",
       "      <td>GOIÂNIA</td>\n",
       "      <td>PREGABALINA</td>\n",
       "      <td>15617</td>\n",
       "    </tr>\n",
       "    <tr>\n",
       "      <th>78646</th>\n",
       "      <td>GO</td>\n",
       "      <td>GOIÂNIA</td>\n",
       "      <td>CLORIDRATO DE SERTRALINA</td>\n",
       "      <td>13879</td>\n",
       "    </tr>\n",
       "    <tr>\n",
       "      <th>78592</th>\n",
       "      <td>GO</td>\n",
       "      <td>GOIÂNIA</td>\n",
       "      <td>CLONAZEPAM</td>\n",
       "      <td>13114</td>\n",
       "    </tr>\n",
       "    <tr>\n",
       "      <th>78522</th>\n",
       "      <td>GO</td>\n",
       "      <td>GOIÂNIA</td>\n",
       "      <td>ALPRAZOLAM</td>\n",
       "      <td>12605</td>\n",
       "    </tr>\n",
       "    <tr>\n",
       "      <th>78770</th>\n",
       "      <td>GO</td>\n",
       "      <td>GOIÂNIA</td>\n",
       "      <td>SOMATROPINA</td>\n",
       "      <td>12091</td>\n",
       "    </tr>\n",
       "    <tr>\n",
       "      <th>78552</th>\n",
       "      <td>GO</td>\n",
       "      <td>GOIÂNIA</td>\n",
       "      <td>AZITROMICINA DI-HIDRATADA</td>\n",
       "      <td>9319</td>\n",
       "    </tr>\n",
       "    <tr>\n",
       "      <th>78534</th>\n",
       "      <td>GO</td>\n",
       "      <td>GOIÂNIA</td>\n",
       "      <td>AMOXICILINA TRI-HIDRATADA + CLAVULANATO DE POT...</td>\n",
       "      <td>9121</td>\n",
       "    </tr>\n",
       "  </tbody>\n",
       "</table>\n",
       "</div>"
      ],
      "text/plain": [
       "      UF_VENDA MUNICIPIO_VENDA  \\\n",
       "78715       GO         GOIÂNIA   \n",
       "78755       GO         GOIÂNIA   \n",
       "78713       GO         GOIÂNIA   \n",
       "78761       GO         GOIÂNIA   \n",
       "78646       GO         GOIÂNIA   \n",
       "78592       GO         GOIÂNIA   \n",
       "78522       GO         GOIÂNIA   \n",
       "78770       GO         GOIÂNIA   \n",
       "78552       GO         GOIÂNIA   \n",
       "78534       GO         GOIÂNIA   \n",
       "\n",
       "                                         PRINCIPIO_ATIVO  QTD_VENDIDA  \n",
       "78715                          HEMITARTARATO DE ZOLPIDEM        25482  \n",
       "78755                            OXALATO DE ESCITALOPRAM        16711  \n",
       "78713                         HEMIFUMARATO DE QUETIAPINA        16434  \n",
       "78761                                        PREGABALINA        15617  \n",
       "78646                           CLORIDRATO DE SERTRALINA        13879  \n",
       "78592                                         CLONAZEPAM        13114  \n",
       "78522                                         ALPRAZOLAM        12605  \n",
       "78770                                        SOMATROPINA        12091  \n",
       "78552                          AZITROMICINA DI-HIDRATADA         9319  \n",
       "78534  AMOXICILINA TRI-HIDRATADA + CLAVULANATO DE POT...         9121  "
      ]
     },
     "execution_count": 19,
     "metadata": {},
     "output_type": "execute_result"
    }
   ],
   "source": [
    "qtd_vendida_go.loc[maximos_go.index]"
   ]
  },
  {
   "cell_type": "markdown",
   "metadata": {},
   "source": [
    "- Indices pra filtrar os estados"
   ]
  },
  {
   "cell_type": "code",
   "execution_count": 20,
   "metadata": {},
   "outputs": [
    {
     "data": {
      "text/plain": [
       "array(['AC', 'AL', 'AM', 'AP', 'BA', 'CE', 'DF', 'ES', 'GO', 'MA', 'MG',\n",
       "       'MS', 'MT', 'PA', 'PB', 'PE', 'PI', 'PR', 'RJ', 'RN', 'RO', 'RR',\n",
       "       'RS', 'SC', 'SE', 'SP', 'TO'], dtype=object)"
      ]
     },
     "execution_count": 20,
     "metadata": {},
     "output_type": "execute_result"
    }
   ],
   "source": [
    "qtd_vendida[\"UF_VENDA\"].unique()"
   ]
  },
  {
   "cell_type": "code",
   "execution_count": 21,
   "metadata": {},
   "outputs": [
    {
     "data": {
      "text/html": [
       "<div>\n",
       "<style scoped>\n",
       "    .dataframe tbody tr th:only-of-type {\n",
       "        vertical-align: middle;\n",
       "    }\n",
       "\n",
       "    .dataframe tbody tr th {\n",
       "        vertical-align: top;\n",
       "    }\n",
       "\n",
       "    .dataframe thead th {\n",
       "        text-align: right;\n",
       "    }\n",
       "</style>\n",
       "<table border=\"1\" class=\"dataframe\">\n",
       "  <thead>\n",
       "    <tr style=\"text-align: right;\">\n",
       "      <th></th>\n",
       "      <th>UF_VENDA</th>\n",
       "      <th>Indices</th>\n",
       "    </tr>\n",
       "  </thead>\n",
       "  <tbody>\n",
       "    <tr>\n",
       "      <th>0</th>\n",
       "      <td>AC</td>\n",
       "      <td>[0, 1, 2, 3, 4, 5, 6, 7, 8, 9, 10, 11, 12, 13,...</td>\n",
       "    </tr>\n",
       "    <tr>\n",
       "      <th>1</th>\n",
       "      <td>AL</td>\n",
       "      <td>[1367, 1368, 1369, 1370, 1371, 1372, 1373, 137...</td>\n",
       "    </tr>\n",
       "    <tr>\n",
       "      <th>2</th>\n",
       "      <td>AM</td>\n",
       "      <td>[6959, 6960, 6961, 6962, 6963, 6964, 6965, 696...</td>\n",
       "    </tr>\n",
       "    <tr>\n",
       "      <th>3</th>\n",
       "      <td>AP</td>\n",
       "      <td>[8204, 8205, 8206, 8207, 8208, 8209, 8210, 821...</td>\n",
       "    </tr>\n",
       "    <tr>\n",
       "      <th>4</th>\n",
       "      <td>BA</td>\n",
       "      <td>[8706, 8707, 8708, 8709, 8710, 8711, 8712, 871...</td>\n",
       "    </tr>\n",
       "    <tr>\n",
       "      <th>5</th>\n",
       "      <td>CE</td>\n",
       "      <td>[41026, 41027, 41028, 41029, 41030, 41031, 410...</td>\n",
       "    </tr>\n",
       "    <tr>\n",
       "      <th>6</th>\n",
       "      <td>DF</td>\n",
       "      <td>[54951, 54952, 54953, 54954, 54955, 54956, 549...</td>\n",
       "    </tr>\n",
       "    <tr>\n",
       "      <th>7</th>\n",
       "      <td>ES</td>\n",
       "      <td>[58836, 58837, 58838, 58839, 58840, 58841, 588...</td>\n",
       "    </tr>\n",
       "    <tr>\n",
       "      <th>8</th>\n",
       "      <td>GO</td>\n",
       "      <td>[68789, 68790, 68791, 68792, 68793, 68794, 687...</td>\n",
       "    </tr>\n",
       "    <tr>\n",
       "      <th>9</th>\n",
       "      <td>MA</td>\n",
       "      <td>[94150, 94151, 94152, 94153, 94154, 94155, 941...</td>\n",
       "    </tr>\n",
       "    <tr>\n",
       "      <th>10</th>\n",
       "      <td>MG</td>\n",
       "      <td>[105053, 105054, 105055, 105056, 105057, 10505...</td>\n",
       "    </tr>\n",
       "    <tr>\n",
       "      <th>11</th>\n",
       "      <td>MS</td>\n",
       "      <td>[192230, 192231, 192232, 192233, 192234, 19223...</td>\n",
       "    </tr>\n",
       "    <tr>\n",
       "      <th>12</th>\n",
       "      <td>MT</td>\n",
       "      <td>[200274, 200275, 200276, 200277, 200278, 20027...</td>\n",
       "    </tr>\n",
       "    <tr>\n",
       "      <th>13</th>\n",
       "      <td>PA</td>\n",
       "      <td>[212701, 212702, 212703, 212704, 212705, 21270...</td>\n",
       "    </tr>\n",
       "    <tr>\n",
       "      <th>14</th>\n",
       "      <td>PB</td>\n",
       "      <td>[220288, 220289, 220290, 220291, 220292, 22029...</td>\n",
       "    </tr>\n",
       "    <tr>\n",
       "      <th>15</th>\n",
       "      <td>PE</td>\n",
       "      <td>[236747, 236748, 236749, 236750, 236751, 23675...</td>\n",
       "    </tr>\n",
       "    <tr>\n",
       "      <th>16</th>\n",
       "      <td>PI</td>\n",
       "      <td>[254435, 254436, 254437, 254438, 254439, 25444...</td>\n",
       "    </tr>\n",
       "    <tr>\n",
       "      <th>17</th>\n",
       "      <td>PR</td>\n",
       "      <td>[260279, 260280, 260281, 260282, 260283, 26028...</td>\n",
       "    </tr>\n",
       "    <tr>\n",
       "      <th>18</th>\n",
       "      <td>RJ</td>\n",
       "      <td>[299823, 299824, 299825, 299826, 299827, 29982...</td>\n",
       "    </tr>\n",
       "    <tr>\n",
       "      <th>19</th>\n",
       "      <td>RN</td>\n",
       "      <td>[314034, 314035, 314036, 314037, 314038, 31403...</td>\n",
       "    </tr>\n",
       "    <tr>\n",
       "      <th>20</th>\n",
       "      <td>RO</td>\n",
       "      <td>[327896, 327897, 327898, 327899, 327900, 32790...</td>\n",
       "    </tr>\n",
       "    <tr>\n",
       "      <th>21</th>\n",
       "      <td>RR</td>\n",
       "      <td>[333196, 333197, 333198, 333199, 333200, 33320...</td>\n",
       "    </tr>\n",
       "    <tr>\n",
       "      <th>22</th>\n",
       "      <td>RS</td>\n",
       "      <td>[333930, 333931, 333932, 333933, 333934, 33393...</td>\n",
       "    </tr>\n",
       "    <tr>\n",
       "      <th>23</th>\n",
       "      <td>SC</td>\n",
       "      <td>[383392, 383393, 383394, 383395, 383396, 38339...</td>\n",
       "    </tr>\n",
       "    <tr>\n",
       "      <th>24</th>\n",
       "      <td>SE</td>\n",
       "      <td>[414943, 414944, 414945, 414946, 414947, 41494...</td>\n",
       "    </tr>\n",
       "    <tr>\n",
       "      <th>25</th>\n",
       "      <td>SP</td>\n",
       "      <td>[420720, 420721, 420722, 420723, 420724, 42072...</td>\n",
       "    </tr>\n",
       "    <tr>\n",
       "      <th>26</th>\n",
       "      <td>TO</td>\n",
       "      <td>[497134, 497135, 497136, 497137, 497138, 49713...</td>\n",
       "    </tr>\n",
       "  </tbody>\n",
       "</table>\n",
       "</div>"
      ],
      "text/plain": [
       "   UF_VENDA                                            Indices\n",
       "0        AC  [0, 1, 2, 3, 4, 5, 6, 7, 8, 9, 10, 11, 12, 13,...\n",
       "1        AL  [1367, 1368, 1369, 1370, 1371, 1372, 1373, 137...\n",
       "2        AM  [6959, 6960, 6961, 6962, 6963, 6964, 6965, 696...\n",
       "3        AP  [8204, 8205, 8206, 8207, 8208, 8209, 8210, 821...\n",
       "4        BA  [8706, 8707, 8708, 8709, 8710, 8711, 8712, 871...\n",
       "5        CE  [41026, 41027, 41028, 41029, 41030, 41031, 410...\n",
       "6        DF  [54951, 54952, 54953, 54954, 54955, 54956, 549...\n",
       "7        ES  [58836, 58837, 58838, 58839, 58840, 58841, 588...\n",
       "8        GO  [68789, 68790, 68791, 68792, 68793, 68794, 687...\n",
       "9        MA  [94150, 94151, 94152, 94153, 94154, 94155, 941...\n",
       "10       MG  [105053, 105054, 105055, 105056, 105057, 10505...\n",
       "11       MS  [192230, 192231, 192232, 192233, 192234, 19223...\n",
       "12       MT  [200274, 200275, 200276, 200277, 200278, 20027...\n",
       "13       PA  [212701, 212702, 212703, 212704, 212705, 21270...\n",
       "14       PB  [220288, 220289, 220290, 220291, 220292, 22029...\n",
       "15       PE  [236747, 236748, 236749, 236750, 236751, 23675...\n",
       "16       PI  [254435, 254436, 254437, 254438, 254439, 25444...\n",
       "17       PR  [260279, 260280, 260281, 260282, 260283, 26028...\n",
       "18       RJ  [299823, 299824, 299825, 299826, 299827, 29982...\n",
       "19       RN  [314034, 314035, 314036, 314037, 314038, 31403...\n",
       "20       RO  [327896, 327897, 327898, 327899, 327900, 32790...\n",
       "21       RR  [333196, 333197, 333198, 333199, 333200, 33320...\n",
       "22       RS  [333930, 333931, 333932, 333933, 333934, 33393...\n",
       "23       SC  [383392, 383393, 383394, 383395, 383396, 38339...\n",
       "24       SE  [414943, 414944, 414945, 414946, 414947, 41494...\n",
       "25       SP  [420720, 420721, 420722, 420723, 420724, 42072...\n",
       "26       TO  [497134, 497135, 497136, 497137, 497138, 49713..."
      ]
     },
     "execution_count": 21,
     "metadata": {},
     "output_type": "execute_result"
    }
   ],
   "source": [
    "qtd_vendida.groupby('UF_VENDA').apply(lambda x: x.index.tolist()).reset_index(name='Indices')"
   ]
  },
  {
   "cell_type": "code",
   "execution_count": 22,
   "metadata": {},
   "outputs": [],
   "source": [
    "resultados = []"
   ]
  },
  {
   "cell_type": "code",
   "execution_count": 23,
   "metadata": {},
   "outputs": [],
   "source": [
    "for estado in qtd_vendida[\"UF_VENDA\"].unique():\n",
    "    df_estado = qtd_vendida[qtd_vendida[\"UF_VENDA\"] == estado]\n",
    "    maximos = df_estado[\"QTD_VENDIDA\"].nlargest(5)\n",
    "    maximos = df_estado.loc[maximos.index]\n",
    "    resultados.append({\"estado\": estado, \"Indices\" : maximos})\n"
   ]
  },
  {
   "cell_type": "code",
   "execution_count": 24,
   "metadata": {},
   "outputs": [
    {
     "data": {
      "text/plain": [
       "{'estado': 'AL',\n",
       " 'Indices':      UF_VENDA MUNICIPIO_VENDA              PRINCIPIO_ATIVO  QTD_VENDIDA\n",
       " 3522       AL          MACEIÓ                   CLONAZEPAM         8000\n",
       " 3624       AL          MACEIÓ   HEMIFUMARATO DE QUETIAPINA         4876\n",
       " 3626       AL          MACEIÓ    HEMITARTARATO DE ZOLPIDEM         4569\n",
       " 3661       AL          MACEIÓ      OXALATO DE ESCITALOPRAM         4522\n",
       " 3528       AL          MACEIÓ  CLORIDRATO DE AMITRIPTILINA         4474}"
      ]
     },
     "execution_count": 24,
     "metadata": {},
     "output_type": "execute_result"
    }
   ],
   "source": [
    "resultados[1]"
   ]
  },
  {
   "cell_type": "code",
   "execution_count": 25,
   "metadata": {},
   "outputs": [
    {
     "data": {
      "text/html": [
       "<div>\n",
       "<style scoped>\n",
       "    .dataframe tbody tr th:only-of-type {\n",
       "        vertical-align: middle;\n",
       "    }\n",
       "\n",
       "    .dataframe tbody tr th {\n",
       "        vertical-align: top;\n",
       "    }\n",
       "\n",
       "    .dataframe thead th {\n",
       "        text-align: right;\n",
       "    }\n",
       "</style>\n",
       "<table border=\"1\" class=\"dataframe\">\n",
       "  <thead>\n",
       "    <tr style=\"text-align: right;\">\n",
       "      <th></th>\n",
       "      <th>UF_VENDA</th>\n",
       "      <th>MUNICIPIO_VENDA</th>\n",
       "      <th>PRINCIPIO_ATIVO</th>\n",
       "      <th>QTD_VENDIDA</th>\n",
       "    </tr>\n",
       "  </thead>\n",
       "  <tbody>\n",
       "    <tr>\n",
       "      <th>801</th>\n",
       "      <td>AC</td>\n",
       "      <td>RIO BRANCO</td>\n",
       "      <td>CLONAZEPAM</td>\n",
       "      <td>2413</td>\n",
       "    </tr>\n",
       "    <tr>\n",
       "      <th>891</th>\n",
       "      <td>AC</td>\n",
       "      <td>RIO BRANCO</td>\n",
       "      <td>HEMITARTARATO DE ZOLPIDEM</td>\n",
       "      <td>1489</td>\n",
       "    </tr>\n",
       "    <tr>\n",
       "      <th>788</th>\n",
       "      <td>AC</td>\n",
       "      <td>RIO BRANCO</td>\n",
       "      <td>CEFALEXINA MONOIDRATADA</td>\n",
       "      <td>1475</td>\n",
       "    </tr>\n",
       "    <tr>\n",
       "      <th>843</th>\n",
       "      <td>AC</td>\n",
       "      <td>RIO BRANCO</td>\n",
       "      <td>CLORIDRATO DE SERTRALINA</td>\n",
       "      <td>1375</td>\n",
       "    </tr>\n",
       "    <tr>\n",
       "      <th>889</th>\n",
       "      <td>AC</td>\n",
       "      <td>RIO BRANCO</td>\n",
       "      <td>HEMIFUMARATO DE QUETIAPINA</td>\n",
       "      <td>1214</td>\n",
       "    </tr>\n",
       "  </tbody>\n",
       "</table>\n",
       "</div>"
      ],
      "text/plain": [
       "    UF_VENDA MUNICIPIO_VENDA             PRINCIPIO_ATIVO  QTD_VENDIDA\n",
       "801       AC      RIO BRANCO                  CLONAZEPAM         2413\n",
       "891       AC      RIO BRANCO   HEMITARTARATO DE ZOLPIDEM         1489\n",
       "788       AC      RIO BRANCO     CEFALEXINA MONOIDRATADA         1475\n",
       "843       AC      RIO BRANCO    CLORIDRATO DE SERTRALINA         1375\n",
       "889       AC      RIO BRANCO  HEMIFUMARATO DE QUETIAPINA         1214"
      ]
     },
     "execution_count": 25,
     "metadata": {},
     "output_type": "execute_result"
    }
   ],
   "source": [
    "resultado_AC = pd.DataFrame(resultados[0][\"Indices\"])\n",
    "resultado_AC"
   ]
  },
  {
   "cell_type": "code",
   "execution_count": 26,
   "metadata": {},
   "outputs": [
    {
     "data": {
      "text/plain": [
       "array(['AC', 'AL', 'AM', 'AP', 'BA', 'CE', 'DF', 'ES', 'GO', 'MA', 'MG',\n",
       "       'MS', 'MT', 'PA', 'PB', 'PE', 'PI', 'PR', 'RJ', 'RN', 'RO', 'RR',\n",
       "       'RS', 'SC', 'SE', 'SP', 'TO'], dtype=object)"
      ]
     },
     "execution_count": 26,
     "metadata": {},
     "output_type": "execute_result"
    }
   ],
   "source": [
    "qtd_vendida[\"UF_VENDA\"].unique()"
   ]
  },
  {
   "cell_type": "code",
   "execution_count": 27,
   "metadata": {},
   "outputs": [
    {
     "data": {
      "text/html": [
       "<div>\n",
       "<style scoped>\n",
       "    .dataframe tbody tr th:only-of-type {\n",
       "        vertical-align: middle;\n",
       "    }\n",
       "\n",
       "    .dataframe tbody tr th {\n",
       "        vertical-align: top;\n",
       "    }\n",
       "\n",
       "    .dataframe thead th {\n",
       "        text-align: right;\n",
       "    }\n",
       "</style>\n",
       "<table border=\"1\" class=\"dataframe\">\n",
       "  <thead>\n",
       "    <tr style=\"text-align: right;\">\n",
       "      <th></th>\n",
       "      <th>UF_VENDA</th>\n",
       "      <th>MUNICIPIO_VENDA</th>\n",
       "      <th>PRINCIPIO_ATIVO</th>\n",
       "      <th>QTD_VENDIDA</th>\n",
       "    </tr>\n",
       "  </thead>\n",
       "  <tbody>\n",
       "    <tr>\n",
       "      <th>3522</th>\n",
       "      <td>AL</td>\n",
       "      <td>MACEIÓ</td>\n",
       "      <td>CLONAZEPAM</td>\n",
       "      <td>8000</td>\n",
       "    </tr>\n",
       "    <tr>\n",
       "      <th>3624</th>\n",
       "      <td>AL</td>\n",
       "      <td>MACEIÓ</td>\n",
       "      <td>HEMIFUMARATO DE QUETIAPINA</td>\n",
       "      <td>4876</td>\n",
       "    </tr>\n",
       "    <tr>\n",
       "      <th>3626</th>\n",
       "      <td>AL</td>\n",
       "      <td>MACEIÓ</td>\n",
       "      <td>HEMITARTARATO DE ZOLPIDEM</td>\n",
       "      <td>4569</td>\n",
       "    </tr>\n",
       "    <tr>\n",
       "      <th>3661</th>\n",
       "      <td>AL</td>\n",
       "      <td>MACEIÓ</td>\n",
       "      <td>OXALATO DE ESCITALOPRAM</td>\n",
       "      <td>4522</td>\n",
       "    </tr>\n",
       "    <tr>\n",
       "      <th>3528</th>\n",
       "      <td>AL</td>\n",
       "      <td>MACEIÓ</td>\n",
       "      <td>CLORIDRATO DE AMITRIPTILINA</td>\n",
       "      <td>4474</td>\n",
       "    </tr>\n",
       "  </tbody>\n",
       "</table>\n",
       "</div>"
      ],
      "text/plain": [
       "     UF_VENDA MUNICIPIO_VENDA              PRINCIPIO_ATIVO  QTD_VENDIDA\n",
       "3522       AL          MACEIÓ                   CLONAZEPAM         8000\n",
       "3624       AL          MACEIÓ   HEMIFUMARATO DE QUETIAPINA         4876\n",
       "3626       AL          MACEIÓ    HEMITARTARATO DE ZOLPIDEM         4569\n",
       "3661       AL          MACEIÓ      OXALATO DE ESCITALOPRAM         4522\n",
       "3528       AL          MACEIÓ  CLORIDRATO DE AMITRIPTILINA         4474"
      ]
     },
     "execution_count": 27,
     "metadata": {},
     "output_type": "execute_result"
    }
   ],
   "source": [
    "resultado_AL = pd.DataFrame(resultados[1][\"Indices\"])\n",
    "resultado_AL"
   ]
  },
  {
   "cell_type": "code",
   "execution_count": 28,
   "metadata": {},
   "outputs": [
    {
     "data": {
      "text/html": [
       "<div>\n",
       "<style scoped>\n",
       "    .dataframe tbody tr th:only-of-type {\n",
       "        vertical-align: middle;\n",
       "    }\n",
       "\n",
       "    .dataframe tbody tr th {\n",
       "        vertical-align: top;\n",
       "    }\n",
       "\n",
       "    .dataframe thead th {\n",
       "        text-align: right;\n",
       "    }\n",
       "</style>\n",
       "<table border=\"1\" class=\"dataframe\">\n",
       "  <thead>\n",
       "    <tr style=\"text-align: right;\">\n",
       "      <th></th>\n",
       "      <th>UF_VENDA</th>\n",
       "      <th>MUNICIPIO_VENDA</th>\n",
       "      <th>PRINCIPIO_ATIVO</th>\n",
       "      <th>QTD_VENDIDA</th>\n",
       "    </tr>\n",
       "  </thead>\n",
       "  <tbody>\n",
       "    <tr>\n",
       "      <th>7658</th>\n",
       "      <td>AM</td>\n",
       "      <td>MANAUS</td>\n",
       "      <td>CEFALEXINA MONOIDRATADA</td>\n",
       "      <td>5723</td>\n",
       "    </tr>\n",
       "    <tr>\n",
       "      <th>7673</th>\n",
       "      <td>AM</td>\n",
       "      <td>MANAUS</td>\n",
       "      <td>CLONAZEPAM</td>\n",
       "      <td>5212</td>\n",
       "    </tr>\n",
       "    <tr>\n",
       "      <th>7657</th>\n",
       "      <td>AM</td>\n",
       "      <td>MANAUS</td>\n",
       "      <td>CEFALEXINA</td>\n",
       "      <td>3578</td>\n",
       "    </tr>\n",
       "    <tr>\n",
       "      <th>7637</th>\n",
       "      <td>AM</td>\n",
       "      <td>MANAUS</td>\n",
       "      <td>AZITROMICINA DI-HIDRATADA</td>\n",
       "      <td>3530</td>\n",
       "    </tr>\n",
       "    <tr>\n",
       "      <th>7619</th>\n",
       "      <td>AM</td>\n",
       "      <td>MANAUS</td>\n",
       "      <td>AMOXICILINA TRI-HIDRATADA</td>\n",
       "      <td>3253</td>\n",
       "    </tr>\n",
       "  </tbody>\n",
       "</table>\n",
       "</div>"
      ],
      "text/plain": [
       "     UF_VENDA MUNICIPIO_VENDA            PRINCIPIO_ATIVO  QTD_VENDIDA\n",
       "7658       AM          MANAUS    CEFALEXINA MONOIDRATADA         5723\n",
       "7673       AM          MANAUS                 CLONAZEPAM         5212\n",
       "7657       AM          MANAUS                 CEFALEXINA         3578\n",
       "7637       AM          MANAUS  AZITROMICINA DI-HIDRATADA         3530\n",
       "7619       AM          MANAUS  AMOXICILINA TRI-HIDRATADA         3253"
      ]
     },
     "execution_count": 28,
     "metadata": {},
     "output_type": "execute_result"
    }
   ],
   "source": [
    "resultados_AM = pd.DataFrame(resultados[2][\"Indices\"])\n",
    "resultados_AM"
   ]
  },
  {
   "cell_type": "code",
   "execution_count": 29,
   "metadata": {},
   "outputs": [],
   "source": [
    "resultados_2 = []"
   ]
  },
  {
   "cell_type": "code",
   "execution_count": 30,
   "metadata": {},
   "outputs": [],
   "source": [
    "for estado in qtd_vendida[\"UF_VENDA\"].unique():\n",
    "    df_estado = qtd_vendida[qtd_vendida[\"UF_VENDA\"] == estado]\n",
    "    top_5_medicamentos = df_estado.sort_values('QTD_VENDIDA', ascending=False).head(5)\n",
    "    medicamentos_vendidos = top_5_medicamentos[[\"MUNICIPIO_VENDA\", 'PRINCIPIO_ATIVO', 'QTD_VENDIDA']].to_dict('records')\n",
    "    resultados_2.append({'estado': estado, 'medicamentos': medicamentos_vendidos})"
   ]
  },
  {
   "cell_type": "code",
   "execution_count": 31,
   "metadata": {},
   "outputs": [],
   "source": [
    "df_resultados_2 = pd.DataFrame(resultados_2)"
   ]
  },
  {
   "cell_type": "code",
   "execution_count": 32,
   "metadata": {},
   "outputs": [
    {
     "data": {
      "text/html": [
       "<div>\n",
       "<style scoped>\n",
       "    .dataframe tbody tr th:only-of-type {\n",
       "        vertical-align: middle;\n",
       "    }\n",
       "\n",
       "    .dataframe tbody tr th {\n",
       "        vertical-align: top;\n",
       "    }\n",
       "\n",
       "    .dataframe thead th {\n",
       "        text-align: right;\n",
       "    }\n",
       "</style>\n",
       "<table border=\"1\" class=\"dataframe\">\n",
       "  <thead>\n",
       "    <tr style=\"text-align: right;\">\n",
       "      <th></th>\n",
       "      <th>estado</th>\n",
       "      <th>medicamentos</th>\n",
       "    </tr>\n",
       "  </thead>\n",
       "  <tbody>\n",
       "    <tr>\n",
       "      <th>0</th>\n",
       "      <td>AC</td>\n",
       "      <td>[{'MUNICIPIO_VENDA': 'RIO BRANCO', 'PRINCIPIO_...</td>\n",
       "    </tr>\n",
       "    <tr>\n",
       "      <th>1</th>\n",
       "      <td>AL</td>\n",
       "      <td>[{'MUNICIPIO_VENDA': 'MACEIÓ', 'PRINCIPIO_ATIV...</td>\n",
       "    </tr>\n",
       "    <tr>\n",
       "      <th>2</th>\n",
       "      <td>AM</td>\n",
       "      <td>[{'MUNICIPIO_VENDA': 'MANAUS', 'PRINCIPIO_ATIV...</td>\n",
       "    </tr>\n",
       "    <tr>\n",
       "      <th>3</th>\n",
       "      <td>AP</td>\n",
       "      <td>[{'MUNICIPIO_VENDA': 'MACAPÁ', 'PRINCIPIO_ATIV...</td>\n",
       "    </tr>\n",
       "    <tr>\n",
       "      <th>4</th>\n",
       "      <td>BA</td>\n",
       "      <td>[{'MUNICIPIO_VENDA': 'SALVADOR', 'PRINCIPIO_AT...</td>\n",
       "    </tr>\n",
       "    <tr>\n",
       "      <th>5</th>\n",
       "      <td>CE</td>\n",
       "      <td>[{'MUNICIPIO_VENDA': 'FORTALEZA', 'PRINCIPIO_A...</td>\n",
       "    </tr>\n",
       "    <tr>\n",
       "      <th>6</th>\n",
       "      <td>DF</td>\n",
       "      <td>[{'MUNICIPIO_VENDA': 'BRASÍLIA', 'PRINCIPIO_AT...</td>\n",
       "    </tr>\n",
       "    <tr>\n",
       "      <th>7</th>\n",
       "      <td>ES</td>\n",
       "      <td>[{'MUNICIPIO_VENDA': 'VITÓRIA', 'PRINCIPIO_ATI...</td>\n",
       "    </tr>\n",
       "    <tr>\n",
       "      <th>8</th>\n",
       "      <td>GO</td>\n",
       "      <td>[{'MUNICIPIO_VENDA': 'GOIÂNIA', 'PRINCIPIO_ATI...</td>\n",
       "    </tr>\n",
       "    <tr>\n",
       "      <th>9</th>\n",
       "      <td>MA</td>\n",
       "      <td>[{'MUNICIPIO_VENDA': 'SÃO LUÍS', 'PRINCIPIO_AT...</td>\n",
       "    </tr>\n",
       "    <tr>\n",
       "      <th>10</th>\n",
       "      <td>MG</td>\n",
       "      <td>[{'MUNICIPIO_VENDA': 'BELO HORIZONTE', 'PRINCI...</td>\n",
       "    </tr>\n",
       "    <tr>\n",
       "      <th>11</th>\n",
       "      <td>MS</td>\n",
       "      <td>[{'MUNICIPIO_VENDA': 'CAMPO GRANDE', 'PRINCIPI...</td>\n",
       "    </tr>\n",
       "    <tr>\n",
       "      <th>12</th>\n",
       "      <td>MT</td>\n",
       "      <td>[{'MUNICIPIO_VENDA': 'CUIABÁ', 'PRINCIPIO_ATIV...</td>\n",
       "    </tr>\n",
       "    <tr>\n",
       "      <th>13</th>\n",
       "      <td>PA</td>\n",
       "      <td>[{'MUNICIPIO_VENDA': 'BELÉM', 'PRINCIPIO_ATIVO...</td>\n",
       "    </tr>\n",
       "    <tr>\n",
       "      <th>14</th>\n",
       "      <td>PB</td>\n",
       "      <td>[{'MUNICIPIO_VENDA': 'JOÃO PESSOA', 'PRINCIPIO...</td>\n",
       "    </tr>\n",
       "    <tr>\n",
       "      <th>15</th>\n",
       "      <td>PE</td>\n",
       "      <td>[{'MUNICIPIO_VENDA': 'RECIFE', 'PRINCIPIO_ATIV...</td>\n",
       "    </tr>\n",
       "    <tr>\n",
       "      <th>16</th>\n",
       "      <td>PI</td>\n",
       "      <td>[{'MUNICIPIO_VENDA': 'TERESINA', 'PRINCIPIO_AT...</td>\n",
       "    </tr>\n",
       "    <tr>\n",
       "      <th>17</th>\n",
       "      <td>PR</td>\n",
       "      <td>[{'MUNICIPIO_VENDA': 'CURITIBA', 'PRINCIPIO_AT...</td>\n",
       "    </tr>\n",
       "    <tr>\n",
       "      <th>18</th>\n",
       "      <td>RJ</td>\n",
       "      <td>[{'MUNICIPIO_VENDA': 'RIO DE JANEIRO', 'PRINCI...</td>\n",
       "    </tr>\n",
       "    <tr>\n",
       "      <th>19</th>\n",
       "      <td>RN</td>\n",
       "      <td>[{'MUNICIPIO_VENDA': 'PEDRO VELHO', 'PRINCIPIO...</td>\n",
       "    </tr>\n",
       "    <tr>\n",
       "      <th>20</th>\n",
       "      <td>RO</td>\n",
       "      <td>[{'MUNICIPIO_VENDA': 'PORTO VELHO', 'PRINCIPIO...</td>\n",
       "    </tr>\n",
       "    <tr>\n",
       "      <th>21</th>\n",
       "      <td>RR</td>\n",
       "      <td>[{'MUNICIPIO_VENDA': 'BOA VISTA', 'PRINCIPIO_A...</td>\n",
       "    </tr>\n",
       "    <tr>\n",
       "      <th>22</th>\n",
       "      <td>RS</td>\n",
       "      <td>[{'MUNICIPIO_VENDA': 'TUPANCIRETÃ', 'PRINCIPIO...</td>\n",
       "    </tr>\n",
       "    <tr>\n",
       "      <th>23</th>\n",
       "      <td>SC</td>\n",
       "      <td>[{'MUNICIPIO_VENDA': 'NOVA VENEZA', 'PRINCIPIO...</td>\n",
       "    </tr>\n",
       "    <tr>\n",
       "      <th>24</th>\n",
       "      <td>SE</td>\n",
       "      <td>[{'MUNICIPIO_VENDA': 'ARACAJU', 'PRINCIPIO_ATI...</td>\n",
       "    </tr>\n",
       "    <tr>\n",
       "      <th>25</th>\n",
       "      <td>SP</td>\n",
       "      <td>[{'MUNICIPIO_VENDA': 'SOROCABA', 'PRINCIPIO_AT...</td>\n",
       "    </tr>\n",
       "    <tr>\n",
       "      <th>26</th>\n",
       "      <td>TO</td>\n",
       "      <td>[{'MUNICIPIO_VENDA': 'PALMAS', 'PRINCIPIO_ATIV...</td>\n",
       "    </tr>\n",
       "  </tbody>\n",
       "</table>\n",
       "</div>"
      ],
      "text/plain": [
       "   estado                                       medicamentos\n",
       "0      AC  [{'MUNICIPIO_VENDA': 'RIO BRANCO', 'PRINCIPIO_...\n",
       "1      AL  [{'MUNICIPIO_VENDA': 'MACEIÓ', 'PRINCIPIO_ATIV...\n",
       "2      AM  [{'MUNICIPIO_VENDA': 'MANAUS', 'PRINCIPIO_ATIV...\n",
       "3      AP  [{'MUNICIPIO_VENDA': 'MACAPÁ', 'PRINCIPIO_ATIV...\n",
       "4      BA  [{'MUNICIPIO_VENDA': 'SALVADOR', 'PRINCIPIO_AT...\n",
       "5      CE  [{'MUNICIPIO_VENDA': 'FORTALEZA', 'PRINCIPIO_A...\n",
       "6      DF  [{'MUNICIPIO_VENDA': 'BRASÍLIA', 'PRINCIPIO_AT...\n",
       "7      ES  [{'MUNICIPIO_VENDA': 'VITÓRIA', 'PRINCIPIO_ATI...\n",
       "8      GO  [{'MUNICIPIO_VENDA': 'GOIÂNIA', 'PRINCIPIO_ATI...\n",
       "9      MA  [{'MUNICIPIO_VENDA': 'SÃO LUÍS', 'PRINCIPIO_AT...\n",
       "10     MG  [{'MUNICIPIO_VENDA': 'BELO HORIZONTE', 'PRINCI...\n",
       "11     MS  [{'MUNICIPIO_VENDA': 'CAMPO GRANDE', 'PRINCIPI...\n",
       "12     MT  [{'MUNICIPIO_VENDA': 'CUIABÁ', 'PRINCIPIO_ATIV...\n",
       "13     PA  [{'MUNICIPIO_VENDA': 'BELÉM', 'PRINCIPIO_ATIVO...\n",
       "14     PB  [{'MUNICIPIO_VENDA': 'JOÃO PESSOA', 'PRINCIPIO...\n",
       "15     PE  [{'MUNICIPIO_VENDA': 'RECIFE', 'PRINCIPIO_ATIV...\n",
       "16     PI  [{'MUNICIPIO_VENDA': 'TERESINA', 'PRINCIPIO_AT...\n",
       "17     PR  [{'MUNICIPIO_VENDA': 'CURITIBA', 'PRINCIPIO_AT...\n",
       "18     RJ  [{'MUNICIPIO_VENDA': 'RIO DE JANEIRO', 'PRINCI...\n",
       "19     RN  [{'MUNICIPIO_VENDA': 'PEDRO VELHO', 'PRINCIPIO...\n",
       "20     RO  [{'MUNICIPIO_VENDA': 'PORTO VELHO', 'PRINCIPIO...\n",
       "21     RR  [{'MUNICIPIO_VENDA': 'BOA VISTA', 'PRINCIPIO_A...\n",
       "22     RS  [{'MUNICIPIO_VENDA': 'TUPANCIRETÃ', 'PRINCIPIO...\n",
       "23     SC  [{'MUNICIPIO_VENDA': 'NOVA VENEZA', 'PRINCIPIO...\n",
       "24     SE  [{'MUNICIPIO_VENDA': 'ARACAJU', 'PRINCIPIO_ATI...\n",
       "25     SP  [{'MUNICIPIO_VENDA': 'SOROCABA', 'PRINCIPIO_AT...\n",
       "26     TO  [{'MUNICIPIO_VENDA': 'PALMAS', 'PRINCIPIO_ATIV..."
      ]
     },
     "execution_count": 32,
     "metadata": {},
     "output_type": "execute_result"
    }
   ],
   "source": [
    "df_resultados_2"
   ]
  },
  {
   "cell_type": "code",
   "execution_count": 33,
   "metadata": {},
   "outputs": [],
   "source": [
    "resultado_sp = df_resultados_2.loc[df_resultados_2[\"estado\"] == \"SP\"]"
   ]
  },
  {
   "cell_type": "code",
   "execution_count": 34,
   "metadata": {},
   "outputs": [
    {
     "name": "stdout",
     "output_type": "stream",
     "text": [
      "[[{'MUNICIPIO_VENDA': 'SOROCABA', 'PRINCIPIO_ATIVO': 'DECANOATO DE NANDROLONA', 'QTD_VENDIDA': 722170}, {'MUNICIPIO_VENDA': 'SÃO PAULO', 'PRINCIPIO_ATIVO': 'HEMITARTARATO DE ZOLPIDEM', 'QTD_VENDIDA': 118699}, {'MUNICIPIO_VENDA': 'SÃO PAULO', 'PRINCIPIO_ATIVO': 'OXALATO DE ESCITALOPRAM', 'QTD_VENDIDA': 90383}, {'MUNICIPIO_VENDA': 'SÃO PAULO', 'PRINCIPIO_ATIVO': 'HEMIFUMARATO DE QUETIAPINA', 'QTD_VENDIDA': 75073}, {'MUNICIPIO_VENDA': 'SÃO PAULO', 'PRINCIPIO_ATIVO': 'CLORIDRATO DE SERTRALINA', 'QTD_VENDIDA': 72063}]]\n"
     ]
    }
   ],
   "source": [
    "print(resultado_sp[\"medicamentos\"].tolist())"
   ]
  },
  {
   "cell_type": "markdown",
   "metadata": {},
   "source": [
    "# Medicamentos por idade\n"
   ]
  },
  {
   "cell_type": "code",
   "execution_count": 35,
   "metadata": {},
   "outputs": [
    {
     "data": {
      "text/html": [
       "<div>\n",
       "<style scoped>\n",
       "    .dataframe tbody tr th:only-of-type {\n",
       "        vertical-align: middle;\n",
       "    }\n",
       "\n",
       "    .dataframe tbody tr th {\n",
       "        vertical-align: top;\n",
       "    }\n",
       "\n",
       "    .dataframe thead th {\n",
       "        text-align: right;\n",
       "    }\n",
       "</style>\n",
       "<table border=\"1\" class=\"dataframe\">\n",
       "  <thead>\n",
       "    <tr style=\"text-align: right;\">\n",
       "      <th></th>\n",
       "      <th>UF_VENDA</th>\n",
       "      <th>MUNICIPIO_VENDA</th>\n",
       "      <th>PRINCIPIO_ATIVO</th>\n",
       "      <th>IDADE</th>\n",
       "      <th>QTD_VENDIDA</th>\n",
       "    </tr>\n",
       "  </thead>\n",
       "  <tbody>\n",
       "    <tr>\n",
       "      <th>0</th>\n",
       "      <td>AC</td>\n",
       "      <td>ACRELÂNDIA</td>\n",
       "      <td>AMOXICILINA</td>\n",
       "      <td>2.0</td>\n",
       "      <td>3</td>\n",
       "    </tr>\n",
       "    <tr>\n",
       "      <th>1</th>\n",
       "      <td>AC</td>\n",
       "      <td>ACRELÂNDIA</td>\n",
       "      <td>AMOXICILINA</td>\n",
       "      <td>5.0</td>\n",
       "      <td>1</td>\n",
       "    </tr>\n",
       "    <tr>\n",
       "      <th>2</th>\n",
       "      <td>AC</td>\n",
       "      <td>ACRELÂNDIA</td>\n",
       "      <td>AMOXICILINA</td>\n",
       "      <td>8.0</td>\n",
       "      <td>3</td>\n",
       "    </tr>\n",
       "  </tbody>\n",
       "</table>\n",
       "</div>"
      ],
      "text/plain": [
       "  UF_VENDA MUNICIPIO_VENDA PRINCIPIO_ATIVO  IDADE  QTD_VENDIDA\n",
       "0       AC      ACRELÂNDIA     AMOXICILINA    2.0            3\n",
       "1       AC      ACRELÂNDIA     AMOXICILINA    5.0            1\n",
       "2       AC      ACRELÂNDIA     AMOXICILINA    8.0            3"
      ]
     },
     "execution_count": 35,
     "metadata": {},
     "output_type": "execute_result"
    }
   ],
   "source": [
    "qtd_vendida_idade.head(3)"
   ]
  },
  {
   "cell_type": "code",
   "execution_count": 36,
   "metadata": {},
   "outputs": [],
   "source": [
    "df_filtro_idade = qtd_vendida_idade[((qtd_vendida_idade[\"IDADE\"] >= 20) & (qtd_vendida_idade[\"IDADE\"] < 30))]\n"
   ]
  },
  {
   "cell_type": "code",
   "execution_count": 37,
   "metadata": {},
   "outputs": [],
   "source": [
    "df_filtro_idade_30 = qtd_vendida_idade[((qtd_vendida_idade[\"IDADE\"] >= 30) & (qtd_vendida_idade[\"IDADE\"] < 40))]"
   ]
  },
  {
   "cell_type": "code",
   "execution_count": 38,
   "metadata": {},
   "outputs": [],
   "source": [
    "medicamentos_idade_20_30 = df_filtro_idade.groupby(['UF_VENDA', 'PRINCIPIO_ATIVO']).agg({'QTD_VENDIDA': 'sum'}).reset_index()"
   ]
  },
  {
   "cell_type": "code",
   "execution_count": 39,
   "metadata": {},
   "outputs": [
    {
     "data": {
      "text/html": [
       "<div>\n",
       "<style scoped>\n",
       "    .dataframe tbody tr th:only-of-type {\n",
       "        vertical-align: middle;\n",
       "    }\n",
       "\n",
       "    .dataframe tbody tr th {\n",
       "        vertical-align: top;\n",
       "    }\n",
       "\n",
       "    .dataframe thead th {\n",
       "        text-align: right;\n",
       "    }\n",
       "</style>\n",
       "<table border=\"1\" class=\"dataframe\">\n",
       "  <thead>\n",
       "    <tr style=\"text-align: right;\">\n",
       "      <th></th>\n",
       "      <th>UF_VENDA</th>\n",
       "      <th>PRINCIPIO_ATIVO</th>\n",
       "      <th>QTD_VENDIDA</th>\n",
       "    </tr>\n",
       "  </thead>\n",
       "  <tbody>\n",
       "    <tr>\n",
       "      <th>0</th>\n",
       "      <td>AC</td>\n",
       "      <td>ACETATO DE RETINOL + AMINOÁCIDOS + CLORANFENIC...</td>\n",
       "      <td>26</td>\n",
       "    </tr>\n",
       "    <tr>\n",
       "      <th>1</th>\n",
       "      <td>AC</td>\n",
       "      <td>ACETONIDA DE TRIANCINOLONA + GRAMICIDINA + NIS...</td>\n",
       "      <td>3</td>\n",
       "    </tr>\n",
       "    <tr>\n",
       "      <th>2</th>\n",
       "      <td>AC</td>\n",
       "      <td>ADAPALENO</td>\n",
       "      <td>1</td>\n",
       "    </tr>\n",
       "    <tr>\n",
       "      <th>3</th>\n",
       "      <td>AC</td>\n",
       "      <td>ADAPALENO + FOSFATO DE CLINDAMICINA</td>\n",
       "      <td>1</td>\n",
       "    </tr>\n",
       "    <tr>\n",
       "      <th>4</th>\n",
       "      <td>AC</td>\n",
       "      <td>ALPRAZOLAM</td>\n",
       "      <td>2</td>\n",
       "    </tr>\n",
       "    <tr>\n",
       "      <th>...</th>\n",
       "      <td>...</td>\n",
       "      <td>...</td>\n",
       "      <td>...</td>\n",
       "    </tr>\n",
       "    <tr>\n",
       "      <th>5095</th>\n",
       "      <td>TO</td>\n",
       "      <td>ÁCIDO CLAVULÂNICO + AMOXICILINA TRI-HIDRATADA</td>\n",
       "      <td>4</td>\n",
       "    </tr>\n",
       "    <tr>\n",
       "      <th>5096</th>\n",
       "      <td>TO</td>\n",
       "      <td>ÁCIDO CLAVULÂNICO + AMOXICILINA TRIHIDRATADA</td>\n",
       "      <td>3</td>\n",
       "    </tr>\n",
       "    <tr>\n",
       "      <th>5097</th>\n",
       "      <td>TO</td>\n",
       "      <td>ÁCIDO FUSÍDICO</td>\n",
       "      <td>5</td>\n",
       "    </tr>\n",
       "    <tr>\n",
       "      <th>5098</th>\n",
       "      <td>TO</td>\n",
       "      <td>ÁCIDO FUSÍDICO + VALERATO DE BETAMETASONA</td>\n",
       "      <td>9</td>\n",
       "    </tr>\n",
       "    <tr>\n",
       "      <th>5099</th>\n",
       "      <td>TO</td>\n",
       "      <td>ÁCIDO VALPRÓICO + VALPROATO DE SÓDIO</td>\n",
       "      <td>9</td>\n",
       "    </tr>\n",
       "  </tbody>\n",
       "</table>\n",
       "<p>5100 rows × 3 columns</p>\n",
       "</div>"
      ],
      "text/plain": [
       "     UF_VENDA                                    PRINCIPIO_ATIVO  QTD_VENDIDA\n",
       "0          AC  ACETATO DE RETINOL + AMINOÁCIDOS + CLORANFENIC...           26\n",
       "1          AC  ACETONIDA DE TRIANCINOLONA + GRAMICIDINA + NIS...            3\n",
       "2          AC                                          ADAPALENO            1\n",
       "3          AC                ADAPALENO + FOSFATO DE CLINDAMICINA            1\n",
       "4          AC                                         ALPRAZOLAM            2\n",
       "...       ...                                                ...          ...\n",
       "5095       TO      ÁCIDO CLAVULÂNICO + AMOXICILINA TRI-HIDRATADA            4\n",
       "5096       TO       ÁCIDO CLAVULÂNICO + AMOXICILINA TRIHIDRATADA            3\n",
       "5097       TO                                     ÁCIDO FUSÍDICO            5\n",
       "5098       TO          ÁCIDO FUSÍDICO + VALERATO DE BETAMETASONA            9\n",
       "5099       TO               ÁCIDO VALPRÓICO + VALPROATO DE SÓDIO            9\n",
       "\n",
       "[5100 rows x 3 columns]"
      ]
     },
     "execution_count": 39,
     "metadata": {},
     "output_type": "execute_result"
    }
   ],
   "source": [
    "medicamentos_idade_20_30"
   ]
  },
  {
   "cell_type": "code",
   "execution_count": 40,
   "metadata": {},
   "outputs": [],
   "source": [
    "medicamentos_idade = medicamentos_idade_20_30.groupby('UF_VENDA').apply(lambda x: x.nlargest(1, 'QTD_VENDIDA')).reset_index(drop=True)"
   ]
  },
  {
   "cell_type": "code",
   "execution_count": 41,
   "metadata": {},
   "outputs": [],
   "source": [
    "medicamentos_idade_30_40 = df_filtro_idade_30.groupby(['UF_VENDA', 'PRINCIPIO_ATIVO']).agg({'QTD_VENDIDA': 'sum'}).reset_index()"
   ]
  },
  {
   "cell_type": "code",
   "execution_count": 42,
   "metadata": {},
   "outputs": [],
   "source": [
    "medicamentos_idade_30 = medicamentos_idade_30_40.groupby('UF_VENDA').apply(lambda x: x.nlargest(1, 'QTD_VENDIDA')).reset_index(drop=True)"
   ]
  },
  {
   "cell_type": "code",
   "execution_count": 43,
   "metadata": {},
   "outputs": [
    {
     "data": {
      "text/html": [
       "<div>\n",
       "<style scoped>\n",
       "    .dataframe tbody tr th:only-of-type {\n",
       "        vertical-align: middle;\n",
       "    }\n",
       "\n",
       "    .dataframe tbody tr th {\n",
       "        vertical-align: top;\n",
       "    }\n",
       "\n",
       "    .dataframe thead th {\n",
       "        text-align: right;\n",
       "    }\n",
       "</style>\n",
       "<table border=\"1\" class=\"dataframe\">\n",
       "  <thead>\n",
       "    <tr style=\"text-align: right;\">\n",
       "      <th></th>\n",
       "      <th>UF_VENDA</th>\n",
       "      <th>PRINCIPIO_ATIVO</th>\n",
       "      <th>QTD_VENDIDA</th>\n",
       "    </tr>\n",
       "  </thead>\n",
       "  <tbody>\n",
       "    <tr>\n",
       "      <th>0</th>\n",
       "      <td>AC</td>\n",
       "      <td>CEFALEXINA MONOIDRATADA</td>\n",
       "      <td>538</td>\n",
       "    </tr>\n",
       "    <tr>\n",
       "      <th>1</th>\n",
       "      <td>AL</td>\n",
       "      <td>CEFALEXINA MONOIDRATADA</td>\n",
       "      <td>1228</td>\n",
       "    </tr>\n",
       "    <tr>\n",
       "      <th>2</th>\n",
       "      <td>AM</td>\n",
       "      <td>CEFALEXINA MONOIDRATADA</td>\n",
       "      <td>1678</td>\n",
       "    </tr>\n",
       "    <tr>\n",
       "      <th>3</th>\n",
       "      <td>AP</td>\n",
       "      <td>AZITROMICINA DI-HIDRATADA</td>\n",
       "      <td>599</td>\n",
       "    </tr>\n",
       "    <tr>\n",
       "      <th>4</th>\n",
       "      <td>BA</td>\n",
       "      <td>AZITROMICINA DI-HIDRATADA</td>\n",
       "      <td>5358</td>\n",
       "    </tr>\n",
       "    <tr>\n",
       "      <th>5</th>\n",
       "      <td>CE</td>\n",
       "      <td>AZITROMICINA DI-HIDRATADA</td>\n",
       "      <td>2305</td>\n",
       "    </tr>\n",
       "    <tr>\n",
       "      <th>6</th>\n",
       "      <td>DF</td>\n",
       "      <td>AZITROMICINA DI-HIDRATADA</td>\n",
       "      <td>3199</td>\n",
       "    </tr>\n",
       "    <tr>\n",
       "      <th>7</th>\n",
       "      <td>ES</td>\n",
       "      <td>AZITROMICINA DI-HIDRATADA</td>\n",
       "      <td>3871</td>\n",
       "    </tr>\n",
       "    <tr>\n",
       "      <th>8</th>\n",
       "      <td>GO</td>\n",
       "      <td>AZITROMICINA DI-HIDRATADA</td>\n",
       "      <td>7584</td>\n",
       "    </tr>\n",
       "    <tr>\n",
       "      <th>9</th>\n",
       "      <td>MA</td>\n",
       "      <td>CEFALEXINA MONOIDRATADA</td>\n",
       "      <td>2437</td>\n",
       "    </tr>\n",
       "    <tr>\n",
       "      <th>10</th>\n",
       "      <td>MG</td>\n",
       "      <td>AZITROMICINA DI-HIDRATADA</td>\n",
       "      <td>18174</td>\n",
       "    </tr>\n",
       "    <tr>\n",
       "      <th>11</th>\n",
       "      <td>MS</td>\n",
       "      <td>CEFALEXINA MONOIDRATADA</td>\n",
       "      <td>2377</td>\n",
       "    </tr>\n",
       "    <tr>\n",
       "      <th>12</th>\n",
       "      <td>MT</td>\n",
       "      <td>CEFALEXINA MONOIDRATADA</td>\n",
       "      <td>3401</td>\n",
       "    </tr>\n",
       "    <tr>\n",
       "      <th>13</th>\n",
       "      <td>PA</td>\n",
       "      <td>CEFALEXINA MONOIDRATADA</td>\n",
       "      <td>3048</td>\n",
       "    </tr>\n",
       "    <tr>\n",
       "      <th>14</th>\n",
       "      <td>PB</td>\n",
       "      <td>CEFALEXINA</td>\n",
       "      <td>3627</td>\n",
       "    </tr>\n",
       "    <tr>\n",
       "      <th>15</th>\n",
       "      <td>PE</td>\n",
       "      <td>CEFALEXINA MONOIDRATADA</td>\n",
       "      <td>3254</td>\n",
       "    </tr>\n",
       "    <tr>\n",
       "      <th>16</th>\n",
       "      <td>PI</td>\n",
       "      <td>CEFALEXINA MONOIDRATADA</td>\n",
       "      <td>1360</td>\n",
       "    </tr>\n",
       "    <tr>\n",
       "      <th>17</th>\n",
       "      <td>PR</td>\n",
       "      <td>AZITROMICINA DI-HIDRATADA</td>\n",
       "      <td>9789</td>\n",
       "    </tr>\n",
       "    <tr>\n",
       "      <th>18</th>\n",
       "      <td>RJ</td>\n",
       "      <td>AZITROMICINA DI-HIDRATADA</td>\n",
       "      <td>10451</td>\n",
       "    </tr>\n",
       "    <tr>\n",
       "      <th>19</th>\n",
       "      <td>RN</td>\n",
       "      <td>AZITROMICINA DI-HIDRATADA</td>\n",
       "      <td>3143</td>\n",
       "    </tr>\n",
       "    <tr>\n",
       "      <th>20</th>\n",
       "      <td>RO</td>\n",
       "      <td>CEFALEXINA MONOIDRATADA</td>\n",
       "      <td>2213</td>\n",
       "    </tr>\n",
       "    <tr>\n",
       "      <th>21</th>\n",
       "      <td>RR</td>\n",
       "      <td>CEFALEXINA</td>\n",
       "      <td>479</td>\n",
       "    </tr>\n",
       "    <tr>\n",
       "      <th>22</th>\n",
       "      <td>RS</td>\n",
       "      <td>AZITROMICINA DI-HIDRATADA</td>\n",
       "      <td>17112</td>\n",
       "    </tr>\n",
       "    <tr>\n",
       "      <th>23</th>\n",
       "      <td>SC</td>\n",
       "      <td>AZITROMICINA DI-HIDRATADA</td>\n",
       "      <td>8188</td>\n",
       "    </tr>\n",
       "    <tr>\n",
       "      <th>24</th>\n",
       "      <td>SE</td>\n",
       "      <td>CEFALEXINA MONOIDRATADA</td>\n",
       "      <td>1204</td>\n",
       "    </tr>\n",
       "    <tr>\n",
       "      <th>25</th>\n",
       "      <td>SP</td>\n",
       "      <td>AMOXICILINA TRI-HIDRATADA + CLAVULANATO DE POT...</td>\n",
       "      <td>51769</td>\n",
       "    </tr>\n",
       "    <tr>\n",
       "      <th>26</th>\n",
       "      <td>TO</td>\n",
       "      <td>AZITROMICINA DI-HIDRATADA</td>\n",
       "      <td>1285</td>\n",
       "    </tr>\n",
       "  </tbody>\n",
       "</table>\n",
       "</div>"
      ],
      "text/plain": [
       "   UF_VENDA                                    PRINCIPIO_ATIVO  QTD_VENDIDA\n",
       "0        AC                            CEFALEXINA MONOIDRATADA          538\n",
       "1        AL                            CEFALEXINA MONOIDRATADA         1228\n",
       "2        AM                            CEFALEXINA MONOIDRATADA         1678\n",
       "3        AP                          AZITROMICINA DI-HIDRATADA          599\n",
       "4        BA                          AZITROMICINA DI-HIDRATADA         5358\n",
       "5        CE                          AZITROMICINA DI-HIDRATADA         2305\n",
       "6        DF                          AZITROMICINA DI-HIDRATADA         3199\n",
       "7        ES                          AZITROMICINA DI-HIDRATADA         3871\n",
       "8        GO                          AZITROMICINA DI-HIDRATADA         7584\n",
       "9        MA                            CEFALEXINA MONOIDRATADA         2437\n",
       "10       MG                          AZITROMICINA DI-HIDRATADA        18174\n",
       "11       MS                            CEFALEXINA MONOIDRATADA         2377\n",
       "12       MT                            CEFALEXINA MONOIDRATADA         3401\n",
       "13       PA                            CEFALEXINA MONOIDRATADA         3048\n",
       "14       PB                                         CEFALEXINA         3627\n",
       "15       PE                            CEFALEXINA MONOIDRATADA         3254\n",
       "16       PI                            CEFALEXINA MONOIDRATADA         1360\n",
       "17       PR                          AZITROMICINA DI-HIDRATADA         9789\n",
       "18       RJ                          AZITROMICINA DI-HIDRATADA        10451\n",
       "19       RN                          AZITROMICINA DI-HIDRATADA         3143\n",
       "20       RO                            CEFALEXINA MONOIDRATADA         2213\n",
       "21       RR                                         CEFALEXINA          479\n",
       "22       RS                          AZITROMICINA DI-HIDRATADA        17112\n",
       "23       SC                          AZITROMICINA DI-HIDRATADA         8188\n",
       "24       SE                            CEFALEXINA MONOIDRATADA         1204\n",
       "25       SP  AMOXICILINA TRI-HIDRATADA + CLAVULANATO DE POT...        51769\n",
       "26       TO                          AZITROMICINA DI-HIDRATADA         1285"
      ]
     },
     "execution_count": 43,
     "metadata": {},
     "output_type": "execute_result"
    }
   ],
   "source": [
    "medicamentos_idade_30"
   ]
  },
  {
   "cell_type": "markdown",
   "metadata": {},
   "source": [
    "- medicamento mais vendido de 20 a 30 anos por estado"
   ]
  },
  {
   "cell_type": "code",
   "execution_count": 44,
   "metadata": {},
   "outputs": [
    {
     "data": {
      "text/html": [
       "<div>\n",
       "<style scoped>\n",
       "    .dataframe tbody tr th:only-of-type {\n",
       "        vertical-align: middle;\n",
       "    }\n",
       "\n",
       "    .dataframe tbody tr th {\n",
       "        vertical-align: top;\n",
       "    }\n",
       "\n",
       "    .dataframe thead th {\n",
       "        text-align: right;\n",
       "    }\n",
       "</style>\n",
       "<table border=\"1\" class=\"dataframe\">\n",
       "  <thead>\n",
       "    <tr style=\"text-align: right;\">\n",
       "      <th></th>\n",
       "      <th>UF_VENDA</th>\n",
       "      <th>PRINCIPIO_ATIVO</th>\n",
       "      <th>QTD_VENDIDA</th>\n",
       "    </tr>\n",
       "  </thead>\n",
       "  <tbody>\n",
       "    <tr>\n",
       "      <th>0</th>\n",
       "      <td>AC</td>\n",
       "      <td>CEFALEXINA MONOIDRATADA</td>\n",
       "      <td>446</td>\n",
       "    </tr>\n",
       "    <tr>\n",
       "      <th>1</th>\n",
       "      <td>AL</td>\n",
       "      <td>CEFALEXINA MONOIDRATADA</td>\n",
       "      <td>1248</td>\n",
       "    </tr>\n",
       "    <tr>\n",
       "      <th>2</th>\n",
       "      <td>AM</td>\n",
       "      <td>CEFALEXINA MONOIDRATADA</td>\n",
       "      <td>1809</td>\n",
       "    </tr>\n",
       "    <tr>\n",
       "      <th>3</th>\n",
       "      <td>AP</td>\n",
       "      <td>CEFALEXINA MONOIDRATADA</td>\n",
       "      <td>862</td>\n",
       "    </tr>\n",
       "    <tr>\n",
       "      <th>4</th>\n",
       "      <td>BA</td>\n",
       "      <td>AZITROMICINA DI-HIDRATADA</td>\n",
       "      <td>4158</td>\n",
       "    </tr>\n",
       "    <tr>\n",
       "      <th>5</th>\n",
       "      <td>CE</td>\n",
       "      <td>AZITROMICINA DI-HIDRATADA</td>\n",
       "      <td>2037</td>\n",
       "    </tr>\n",
       "    <tr>\n",
       "      <th>6</th>\n",
       "      <td>DF</td>\n",
       "      <td>AZITROMICINA DI-HIDRATADA</td>\n",
       "      <td>2289</td>\n",
       "    </tr>\n",
       "    <tr>\n",
       "      <th>7</th>\n",
       "      <td>ES</td>\n",
       "      <td>AZITROMICINA DI-HIDRATADA</td>\n",
       "      <td>2657</td>\n",
       "    </tr>\n",
       "    <tr>\n",
       "      <th>8</th>\n",
       "      <td>GO</td>\n",
       "      <td>AZITROMICINA DI-HIDRATADA</td>\n",
       "      <td>5951</td>\n",
       "    </tr>\n",
       "    <tr>\n",
       "      <th>9</th>\n",
       "      <td>MA</td>\n",
       "      <td>AZITROMICINA DI-HIDRATADA</td>\n",
       "      <td>2213</td>\n",
       "    </tr>\n",
       "    <tr>\n",
       "      <th>10</th>\n",
       "      <td>MG</td>\n",
       "      <td>AZITROMICINA DI-HIDRATADA</td>\n",
       "      <td>14114</td>\n",
       "    </tr>\n",
       "    <tr>\n",
       "      <th>11</th>\n",
       "      <td>MS</td>\n",
       "      <td>AZITROMICINA DI-HIDRATADA</td>\n",
       "      <td>1330</td>\n",
       "    </tr>\n",
       "    <tr>\n",
       "      <th>12</th>\n",
       "      <td>MT</td>\n",
       "      <td>CEFALEXINA MONOIDRATADA</td>\n",
       "      <td>2484</td>\n",
       "    </tr>\n",
       "    <tr>\n",
       "      <th>13</th>\n",
       "      <td>PA</td>\n",
       "      <td>CEFALEXINA MONOIDRATADA</td>\n",
       "      <td>3345</td>\n",
       "    </tr>\n",
       "    <tr>\n",
       "      <th>14</th>\n",
       "      <td>PB</td>\n",
       "      <td>CEFALEXINA</td>\n",
       "      <td>3343</td>\n",
       "    </tr>\n",
       "    <tr>\n",
       "      <th>15</th>\n",
       "      <td>PE</td>\n",
       "      <td>CEFALEXINA MONOIDRATADA</td>\n",
       "      <td>2775</td>\n",
       "    </tr>\n",
       "    <tr>\n",
       "      <th>16</th>\n",
       "      <td>PI</td>\n",
       "      <td>CEFALEXINA MONOIDRATADA</td>\n",
       "      <td>941</td>\n",
       "    </tr>\n",
       "    <tr>\n",
       "      <th>17</th>\n",
       "      <td>PR</td>\n",
       "      <td>AZITROMICINA DI-HIDRATADA</td>\n",
       "      <td>7524</td>\n",
       "    </tr>\n",
       "    <tr>\n",
       "      <th>18</th>\n",
       "      <td>RJ</td>\n",
       "      <td>AZITROMICINA DI-HIDRATADA</td>\n",
       "      <td>7768</td>\n",
       "    </tr>\n",
       "    <tr>\n",
       "      <th>19</th>\n",
       "      <td>RN</td>\n",
       "      <td>AZITROMICINA DI-HIDRATADA</td>\n",
       "      <td>2815</td>\n",
       "    </tr>\n",
       "    <tr>\n",
       "      <th>20</th>\n",
       "      <td>RO</td>\n",
       "      <td>CEFALEXINA MONOIDRATADA</td>\n",
       "      <td>1864</td>\n",
       "    </tr>\n",
       "    <tr>\n",
       "      <th>21</th>\n",
       "      <td>RR</td>\n",
       "      <td>CEFALEXINA</td>\n",
       "      <td>500</td>\n",
       "    </tr>\n",
       "    <tr>\n",
       "      <th>22</th>\n",
       "      <td>RS</td>\n",
       "      <td>AZITROMICINA DI-HIDRATADA</td>\n",
       "      <td>12517</td>\n",
       "    </tr>\n",
       "    <tr>\n",
       "      <th>23</th>\n",
       "      <td>SC</td>\n",
       "      <td>AZITROMICINA DI-HIDRATADA</td>\n",
       "      <td>6055</td>\n",
       "    </tr>\n",
       "    <tr>\n",
       "      <th>24</th>\n",
       "      <td>SE</td>\n",
       "      <td>AZITROMICINA DI-HIDRATADA</td>\n",
       "      <td>1165</td>\n",
       "    </tr>\n",
       "    <tr>\n",
       "      <th>25</th>\n",
       "      <td>SP</td>\n",
       "      <td>AZITROMICINA DI-HIDRATADA</td>\n",
       "      <td>30545</td>\n",
       "    </tr>\n",
       "    <tr>\n",
       "      <th>26</th>\n",
       "      <td>TO</td>\n",
       "      <td>AZITROMICINA DI-HIDRATADA</td>\n",
       "      <td>1094</td>\n",
       "    </tr>\n",
       "  </tbody>\n",
       "</table>\n",
       "</div>"
      ],
      "text/plain": [
       "   UF_VENDA            PRINCIPIO_ATIVO  QTD_VENDIDA\n",
       "0        AC    CEFALEXINA MONOIDRATADA          446\n",
       "1        AL    CEFALEXINA MONOIDRATADA         1248\n",
       "2        AM    CEFALEXINA MONOIDRATADA         1809\n",
       "3        AP    CEFALEXINA MONOIDRATADA          862\n",
       "4        BA  AZITROMICINA DI-HIDRATADA         4158\n",
       "5        CE  AZITROMICINA DI-HIDRATADA         2037\n",
       "6        DF  AZITROMICINA DI-HIDRATADA         2289\n",
       "7        ES  AZITROMICINA DI-HIDRATADA         2657\n",
       "8        GO  AZITROMICINA DI-HIDRATADA         5951\n",
       "9        MA  AZITROMICINA DI-HIDRATADA         2213\n",
       "10       MG  AZITROMICINA DI-HIDRATADA        14114\n",
       "11       MS  AZITROMICINA DI-HIDRATADA         1330\n",
       "12       MT    CEFALEXINA MONOIDRATADA         2484\n",
       "13       PA    CEFALEXINA MONOIDRATADA         3345\n",
       "14       PB                 CEFALEXINA         3343\n",
       "15       PE    CEFALEXINA MONOIDRATADA         2775\n",
       "16       PI    CEFALEXINA MONOIDRATADA          941\n",
       "17       PR  AZITROMICINA DI-HIDRATADA         7524\n",
       "18       RJ  AZITROMICINA DI-HIDRATADA         7768\n",
       "19       RN  AZITROMICINA DI-HIDRATADA         2815\n",
       "20       RO    CEFALEXINA MONOIDRATADA         1864\n",
       "21       RR                 CEFALEXINA          500\n",
       "22       RS  AZITROMICINA DI-HIDRATADA        12517\n",
       "23       SC  AZITROMICINA DI-HIDRATADA         6055\n",
       "24       SE  AZITROMICINA DI-HIDRATADA         1165\n",
       "25       SP  AZITROMICINA DI-HIDRATADA        30545\n",
       "26       TO  AZITROMICINA DI-HIDRATADA         1094"
      ]
     },
     "execution_count": 44,
     "metadata": {},
     "output_type": "execute_result"
    }
   ],
   "source": [
    "medicamentos_idade"
   ]
  },
  {
   "cell_type": "code",
   "execution_count": 45,
   "metadata": {},
   "outputs": [],
   "source": [
    "import plotly.express as px"
   ]
  },
  {
   "cell_type": "code",
   "execution_count": 46,
   "metadata": {},
   "outputs": [],
   "source": [
    "df_estados = pd.DataFrame({\n",
    "    'UF_VENDA': ['AC', 'AL', 'AP', 'AM', 'BA', 'CE', 'DF', 'ES', 'GO', 'MA', 'MT', 'MS', 'MG', 'PA', 'PB', 'PR', 'PE', 'PI', 'RJ', 'RN', 'RS', 'RO', 'RR', 'SC', 'SP', 'SE', 'TO'],\n",
    "    'estado': ['Acre', 'Alagoas', 'Amapá', 'Amazonas', 'Bahia', 'Ceará', 'Distrito Federal', 'Espírito Santo', 'Goiás', 'Maranhão', 'Mato Grosso', 'Mato Grosso do Sul', 'Minas Gerais', 'Pará', 'Paraíba', 'Paraná', 'Pernambuco', 'Piauí', 'Rio de Janeiro', 'Rio Grande do Norte', 'Rio Grande do Sul', 'Rondônia', 'Roraima', 'Santa Catarina', 'São Paulo', 'Sergipe', 'Tocantins'],\n",
    "})"
   ]
  },
  {
   "cell_type": "code",
   "execution_count": 47,
   "metadata": {},
   "outputs": [],
   "source": [
    "medicamentos_idade_com_estados = pd.merge(medicamentos_idade, df_estados, on='UF_VENDA')"
   ]
  },
  {
   "cell_type": "code",
   "execution_count": 48,
   "metadata": {},
   "outputs": [
    {
     "data": {
      "text/html": [
       "<div>\n",
       "<style scoped>\n",
       "    .dataframe tbody tr th:only-of-type {\n",
       "        vertical-align: middle;\n",
       "    }\n",
       "\n",
       "    .dataframe tbody tr th {\n",
       "        vertical-align: top;\n",
       "    }\n",
       "\n",
       "    .dataframe thead th {\n",
       "        text-align: right;\n",
       "    }\n",
       "</style>\n",
       "<table border=\"1\" class=\"dataframe\">\n",
       "  <thead>\n",
       "    <tr style=\"text-align: right;\">\n",
       "      <th></th>\n",
       "      <th>UF_VENDA</th>\n",
       "      <th>PRINCIPIO_ATIVO</th>\n",
       "      <th>QTD_VENDIDA</th>\n",
       "      <th>estado</th>\n",
       "    </tr>\n",
       "  </thead>\n",
       "  <tbody>\n",
       "    <tr>\n",
       "      <th>0</th>\n",
       "      <td>AC</td>\n",
       "      <td>CEFALEXINA MONOIDRATADA</td>\n",
       "      <td>446</td>\n",
       "      <td>Acre</td>\n",
       "    </tr>\n",
       "    <tr>\n",
       "      <th>1</th>\n",
       "      <td>AL</td>\n",
       "      <td>CEFALEXINA MONOIDRATADA</td>\n",
       "      <td>1248</td>\n",
       "      <td>Alagoas</td>\n",
       "    </tr>\n",
       "    <tr>\n",
       "      <th>2</th>\n",
       "      <td>AM</td>\n",
       "      <td>CEFALEXINA MONOIDRATADA</td>\n",
       "      <td>1809</td>\n",
       "      <td>Amazonas</td>\n",
       "    </tr>\n",
       "    <tr>\n",
       "      <th>3</th>\n",
       "      <td>AP</td>\n",
       "      <td>CEFALEXINA MONOIDRATADA</td>\n",
       "      <td>862</td>\n",
       "      <td>Amapá</td>\n",
       "    </tr>\n",
       "    <tr>\n",
       "      <th>4</th>\n",
       "      <td>BA</td>\n",
       "      <td>AZITROMICINA DI-HIDRATADA</td>\n",
       "      <td>4158</td>\n",
       "      <td>Bahia</td>\n",
       "    </tr>\n",
       "    <tr>\n",
       "      <th>5</th>\n",
       "      <td>CE</td>\n",
       "      <td>AZITROMICINA DI-HIDRATADA</td>\n",
       "      <td>2037</td>\n",
       "      <td>Ceará</td>\n",
       "    </tr>\n",
       "    <tr>\n",
       "      <th>6</th>\n",
       "      <td>DF</td>\n",
       "      <td>AZITROMICINA DI-HIDRATADA</td>\n",
       "      <td>2289</td>\n",
       "      <td>Distrito Federal</td>\n",
       "    </tr>\n",
       "    <tr>\n",
       "      <th>7</th>\n",
       "      <td>ES</td>\n",
       "      <td>AZITROMICINA DI-HIDRATADA</td>\n",
       "      <td>2657</td>\n",
       "      <td>Espírito Santo</td>\n",
       "    </tr>\n",
       "    <tr>\n",
       "      <th>8</th>\n",
       "      <td>GO</td>\n",
       "      <td>AZITROMICINA DI-HIDRATADA</td>\n",
       "      <td>5951</td>\n",
       "      <td>Goiás</td>\n",
       "    </tr>\n",
       "    <tr>\n",
       "      <th>9</th>\n",
       "      <td>MA</td>\n",
       "      <td>AZITROMICINA DI-HIDRATADA</td>\n",
       "      <td>2213</td>\n",
       "      <td>Maranhão</td>\n",
       "    </tr>\n",
       "    <tr>\n",
       "      <th>10</th>\n",
       "      <td>MG</td>\n",
       "      <td>AZITROMICINA DI-HIDRATADA</td>\n",
       "      <td>14114</td>\n",
       "      <td>Minas Gerais</td>\n",
       "    </tr>\n",
       "    <tr>\n",
       "      <th>11</th>\n",
       "      <td>MS</td>\n",
       "      <td>AZITROMICINA DI-HIDRATADA</td>\n",
       "      <td>1330</td>\n",
       "      <td>Mato Grosso do Sul</td>\n",
       "    </tr>\n",
       "    <tr>\n",
       "      <th>12</th>\n",
       "      <td>MT</td>\n",
       "      <td>CEFALEXINA MONOIDRATADA</td>\n",
       "      <td>2484</td>\n",
       "      <td>Mato Grosso</td>\n",
       "    </tr>\n",
       "    <tr>\n",
       "      <th>13</th>\n",
       "      <td>PA</td>\n",
       "      <td>CEFALEXINA MONOIDRATADA</td>\n",
       "      <td>3345</td>\n",
       "      <td>Pará</td>\n",
       "    </tr>\n",
       "    <tr>\n",
       "      <th>14</th>\n",
       "      <td>PB</td>\n",
       "      <td>CEFALEXINA</td>\n",
       "      <td>3343</td>\n",
       "      <td>Paraíba</td>\n",
       "    </tr>\n",
       "    <tr>\n",
       "      <th>15</th>\n",
       "      <td>PE</td>\n",
       "      <td>CEFALEXINA MONOIDRATADA</td>\n",
       "      <td>2775</td>\n",
       "      <td>Pernambuco</td>\n",
       "    </tr>\n",
       "    <tr>\n",
       "      <th>16</th>\n",
       "      <td>PI</td>\n",
       "      <td>CEFALEXINA MONOIDRATADA</td>\n",
       "      <td>941</td>\n",
       "      <td>Piauí</td>\n",
       "    </tr>\n",
       "    <tr>\n",
       "      <th>17</th>\n",
       "      <td>PR</td>\n",
       "      <td>AZITROMICINA DI-HIDRATADA</td>\n",
       "      <td>7524</td>\n",
       "      <td>Paraná</td>\n",
       "    </tr>\n",
       "    <tr>\n",
       "      <th>18</th>\n",
       "      <td>RJ</td>\n",
       "      <td>AZITROMICINA DI-HIDRATADA</td>\n",
       "      <td>7768</td>\n",
       "      <td>Rio de Janeiro</td>\n",
       "    </tr>\n",
       "    <tr>\n",
       "      <th>19</th>\n",
       "      <td>RN</td>\n",
       "      <td>AZITROMICINA DI-HIDRATADA</td>\n",
       "      <td>2815</td>\n",
       "      <td>Rio Grande do Norte</td>\n",
       "    </tr>\n",
       "    <tr>\n",
       "      <th>20</th>\n",
       "      <td>RO</td>\n",
       "      <td>CEFALEXINA MONOIDRATADA</td>\n",
       "      <td>1864</td>\n",
       "      <td>Rondônia</td>\n",
       "    </tr>\n",
       "    <tr>\n",
       "      <th>21</th>\n",
       "      <td>RR</td>\n",
       "      <td>CEFALEXINA</td>\n",
       "      <td>500</td>\n",
       "      <td>Roraima</td>\n",
       "    </tr>\n",
       "    <tr>\n",
       "      <th>22</th>\n",
       "      <td>RS</td>\n",
       "      <td>AZITROMICINA DI-HIDRATADA</td>\n",
       "      <td>12517</td>\n",
       "      <td>Rio Grande do Sul</td>\n",
       "    </tr>\n",
       "    <tr>\n",
       "      <th>23</th>\n",
       "      <td>SC</td>\n",
       "      <td>AZITROMICINA DI-HIDRATADA</td>\n",
       "      <td>6055</td>\n",
       "      <td>Santa Catarina</td>\n",
       "    </tr>\n",
       "    <tr>\n",
       "      <th>24</th>\n",
       "      <td>SE</td>\n",
       "      <td>AZITROMICINA DI-HIDRATADA</td>\n",
       "      <td>1165</td>\n",
       "      <td>Sergipe</td>\n",
       "    </tr>\n",
       "    <tr>\n",
       "      <th>25</th>\n",
       "      <td>SP</td>\n",
       "      <td>AZITROMICINA DI-HIDRATADA</td>\n",
       "      <td>30545</td>\n",
       "      <td>São Paulo</td>\n",
       "    </tr>\n",
       "    <tr>\n",
       "      <th>26</th>\n",
       "      <td>TO</td>\n",
       "      <td>AZITROMICINA DI-HIDRATADA</td>\n",
       "      <td>1094</td>\n",
       "      <td>Tocantins</td>\n",
       "    </tr>\n",
       "  </tbody>\n",
       "</table>\n",
       "</div>"
      ],
      "text/plain": [
       "   UF_VENDA            PRINCIPIO_ATIVO  QTD_VENDIDA               estado\n",
       "0        AC    CEFALEXINA MONOIDRATADA          446                 Acre\n",
       "1        AL    CEFALEXINA MONOIDRATADA         1248              Alagoas\n",
       "2        AM    CEFALEXINA MONOIDRATADA         1809             Amazonas\n",
       "3        AP    CEFALEXINA MONOIDRATADA          862                Amapá\n",
       "4        BA  AZITROMICINA DI-HIDRATADA         4158                Bahia\n",
       "5        CE  AZITROMICINA DI-HIDRATADA         2037                Ceará\n",
       "6        DF  AZITROMICINA DI-HIDRATADA         2289     Distrito Federal\n",
       "7        ES  AZITROMICINA DI-HIDRATADA         2657       Espírito Santo\n",
       "8        GO  AZITROMICINA DI-HIDRATADA         5951                Goiás\n",
       "9        MA  AZITROMICINA DI-HIDRATADA         2213             Maranhão\n",
       "10       MG  AZITROMICINA DI-HIDRATADA        14114         Minas Gerais\n",
       "11       MS  AZITROMICINA DI-HIDRATADA         1330   Mato Grosso do Sul\n",
       "12       MT    CEFALEXINA MONOIDRATADA         2484          Mato Grosso\n",
       "13       PA    CEFALEXINA MONOIDRATADA         3345                 Pará\n",
       "14       PB                 CEFALEXINA         3343              Paraíba\n",
       "15       PE    CEFALEXINA MONOIDRATADA         2775           Pernambuco\n",
       "16       PI    CEFALEXINA MONOIDRATADA          941                Piauí\n",
       "17       PR  AZITROMICINA DI-HIDRATADA         7524               Paraná\n",
       "18       RJ  AZITROMICINA DI-HIDRATADA         7768       Rio de Janeiro\n",
       "19       RN  AZITROMICINA DI-HIDRATADA         2815  Rio Grande do Norte\n",
       "20       RO    CEFALEXINA MONOIDRATADA         1864             Rondônia\n",
       "21       RR                 CEFALEXINA          500              Roraima\n",
       "22       RS  AZITROMICINA DI-HIDRATADA        12517    Rio Grande do Sul\n",
       "23       SC  AZITROMICINA DI-HIDRATADA         6055       Santa Catarina\n",
       "24       SE  AZITROMICINA DI-HIDRATADA         1165              Sergipe\n",
       "25       SP  AZITROMICINA DI-HIDRATADA        30545            São Paulo\n",
       "26       TO  AZITROMICINA DI-HIDRATADA         1094            Tocantins"
      ]
     },
     "execution_count": 48,
     "metadata": {},
     "output_type": "execute_result"
    }
   ],
   "source": [
    "medicamentos_idade_com_estados"
   ]
  },
  {
   "cell_type": "code",
   "execution_count": 49,
   "metadata": {},
   "outputs": [
    {
     "name": "stdout",
     "output_type": "stream",
     "text": [
      "<class 'pandas.core.frame.DataFrame'>\n",
      "Int64Index: 27 entries, 0 to 26\n",
      "Data columns (total 4 columns):\n",
      " #   Column           Non-Null Count  Dtype \n",
      "---  ------           --------------  ----- \n",
      " 0   UF_VENDA         27 non-null     object\n",
      " 1   PRINCIPIO_ATIVO  27 non-null     object\n",
      " 2   QTD_VENDIDA      27 non-null     int64 \n",
      " 3   estado           27 non-null     object\n",
      "dtypes: int64(1), object(3)\n",
      "memory usage: 1.1+ KB\n"
     ]
    }
   ],
   "source": [
    "medicamentos_idade_com_estados.info()"
   ]
  },
  {
   "cell_type": "code",
   "execution_count": 50,
   "metadata": {},
   "outputs": [],
   "source": [
    "medicamentos_idade_com_estados = medicamentos_idade_com_estados.rename(columns={\"UF_VENDA\": \"sigla\"})"
   ]
  },
  {
   "cell_type": "code",
   "execution_count": 51,
   "metadata": {},
   "outputs": [
    {
     "name": "stdout",
     "output_type": "stream",
     "text": [
      "<class 'pandas.core.frame.DataFrame'>\n",
      "Int64Index: 27 entries, 0 to 26\n",
      "Data columns (total 4 columns):\n",
      " #   Column           Non-Null Count  Dtype \n",
      "---  ------           --------------  ----- \n",
      " 0   sigla            27 non-null     object\n",
      " 1   PRINCIPIO_ATIVO  27 non-null     object\n",
      " 2   QTD_VENDIDA      27 non-null     int64 \n",
      " 3   estado           27 non-null     object\n",
      "dtypes: int64(1), object(3)\n",
      "memory usage: 1.1+ KB\n"
     ]
    }
   ],
   "source": [
    "medicamentos_idade_com_estados.info()"
   ]
  },
  {
   "cell_type": "code",
   "execution_count": 199,
   "metadata": {},
   "outputs": [],
   "source": [
    "import json\n",
    "\n",
    "with open(\"brazil-states.json\") as arquivo:\n",
    "    geojson = json.load(arquivo)\n",
    "    \n",
    "fig = px.choropleth(medicamentos_idade_com_estados,\n",
    "                    locations='sigla',\n",
    "                    title = \"Medicamentos mais vendidos por Estado de 20 a 30 anos\",\n",
    "                    geojson=geojson,\n",
    "                    color='QTD_VENDIDA',\n",
    "                    hover_data=['QTD_VENDIDA','estado','PRINCIPIO_ATIVO'],\n",
    "                    scope='south america',\n",
    "                    width=600,\n",
    "                    height=600\n",
    ")\n",
    "                    "
   ]
  },
  {
   "cell_type": "code",
   "execution_count": null,
   "metadata": {},
   "outputs": [],
   "source": [
    "# fig.show()"
   ]
  },
  {
   "cell_type": "markdown",
   "metadata": {},
   "source": [
    "# estado q mais vende por tamanho de população"
   ]
  },
  {
   "cell_type": "code",
   "execution_count": 71,
   "metadata": {},
   "outputs": [
    {
     "data": {
      "text/plain": [
       "UF_VENDA\n",
       "AC      59935\n",
       "AL     233059\n",
       "AM     125676\n",
       "AP      56166\n",
       "BA    1082199\n",
       "CE     719334\n",
       "DF    1272893\n",
       "ES     563710\n",
       "GO    1203127\n",
       "MA     431015\n",
       "MG    3902135\n",
       "MS     354738\n",
       "MT     377057\n",
       "PA     448861\n",
       "PB     606068\n",
       "PE    1072268\n",
       "PI     226218\n",
       "PR    1755949\n",
       "RJ    2180755\n",
       "RN     557518\n",
       "RO     204815\n",
       "RR      33992\n",
       "RS    5471156\n",
       "SC    2028813\n",
       "SE     248773\n",
       "SP    7776115\n",
       "TO     140791\n",
       "Name: QTD_VENDIDA, dtype: int64"
      ]
     },
     "execution_count": 71,
     "metadata": {},
     "output_type": "execute_result"
    }
   ],
   "source": [
    "qtd_vendida_populacao = qtd_vendida.groupby('UF_VENDA')[\"QTD_VENDIDA\"].sum()\n",
    "qtd_vendida_populacao"
   ]
  },
  {
   "cell_type": "code",
   "execution_count": 99,
   "metadata": {},
   "outputs": [],
   "source": [
    "df_estados_populacao = pd.DataFrame({\n",
    "    'UF_VENDA': ['AC', 'AL', 'AP', 'AM', 'BA', 'CE', 'DF', 'ES', 'GO', 'MA', 'MT', 'MS', 'MG', 'PA', 'PB', 'PR', 'PE', 'PI', 'RJ', 'RN', 'RS', 'RO', 'RR', 'SC', 'SP', 'SE', 'TO'],\n",
    "    'estado': ['Acre', 'Alagoas', 'Amapá', 'Amazonas', 'Bahia', 'Ceará', 'Distrito Federal', 'Espírito Santo', 'Goiás', 'Maranhão', 'Mato Grosso', 'Mato Grosso do Sul', 'Minas Gerais', 'Pará', 'Paraíba', 'Paraná', 'Pernambuco', 'Piauí', 'Rio de Janeiro', 'Rio Grande do Norte', 'Rio Grande do Sul', 'Rondônia', 'Roraima', 'Santa Catarina', 'São Paulo', 'Sergipe', 'Tocantins'],\n",
    "    'população': [894470,3351543,861773,4207714,14930634,9187103,3055149,4064052,7113540,7114598,3526220,2809394,21292666,8690745,4039277,11516840,9616621,3281480,17366189,3534165,11422973,1796460,652713,7252502,46289333,2318822,1590248]\n",
    "})"
   ]
  },
  {
   "cell_type": "code",
   "execution_count": 147,
   "metadata": {},
   "outputs": [
    {
     "data": {
      "text/html": [
       "<div>\n",
       "<style scoped>\n",
       "    .dataframe tbody tr th:only-of-type {\n",
       "        vertical-align: middle;\n",
       "    }\n",
       "\n",
       "    .dataframe tbody tr th {\n",
       "        vertical-align: top;\n",
       "    }\n",
       "\n",
       "    .dataframe thead th {\n",
       "        text-align: right;\n",
       "    }\n",
       "</style>\n",
       "<table border=\"1\" class=\"dataframe\">\n",
       "  <thead>\n",
       "    <tr style=\"text-align: right;\">\n",
       "      <th></th>\n",
       "      <th>UF_VENDA</th>\n",
       "      <th>QTD_VENDIDA</th>\n",
       "      <th>estado</th>\n",
       "      <th>população</th>\n",
       "    </tr>\n",
       "  </thead>\n",
       "  <tbody>\n",
       "    <tr>\n",
       "      <th>0</th>\n",
       "      <td>AC</td>\n",
       "      <td>59935</td>\n",
       "      <td>Acre</td>\n",
       "      <td>894470</td>\n",
       "    </tr>\n",
       "    <tr>\n",
       "      <th>1</th>\n",
       "      <td>AL</td>\n",
       "      <td>233059</td>\n",
       "      <td>Alagoas</td>\n",
       "      <td>3351543</td>\n",
       "    </tr>\n",
       "    <tr>\n",
       "      <th>2</th>\n",
       "      <td>AM</td>\n",
       "      <td>125676</td>\n",
       "      <td>Amazonas</td>\n",
       "      <td>4207714</td>\n",
       "    </tr>\n",
       "    <tr>\n",
       "      <th>3</th>\n",
       "      <td>AP</td>\n",
       "      <td>56166</td>\n",
       "      <td>Amapá</td>\n",
       "      <td>861773</td>\n",
       "    </tr>\n",
       "    <tr>\n",
       "      <th>4</th>\n",
       "      <td>BA</td>\n",
       "      <td>1082199</td>\n",
       "      <td>Bahia</td>\n",
       "      <td>14930634</td>\n",
       "    </tr>\n",
       "    <tr>\n",
       "      <th>5</th>\n",
       "      <td>CE</td>\n",
       "      <td>719334</td>\n",
       "      <td>Ceará</td>\n",
       "      <td>9187103</td>\n",
       "    </tr>\n",
       "    <tr>\n",
       "      <th>6</th>\n",
       "      <td>DF</td>\n",
       "      <td>1272893</td>\n",
       "      <td>Distrito Federal</td>\n",
       "      <td>3055149</td>\n",
       "    </tr>\n",
       "    <tr>\n",
       "      <th>7</th>\n",
       "      <td>ES</td>\n",
       "      <td>563710</td>\n",
       "      <td>Espírito Santo</td>\n",
       "      <td>4064052</td>\n",
       "    </tr>\n",
       "    <tr>\n",
       "      <th>8</th>\n",
       "      <td>GO</td>\n",
       "      <td>1203127</td>\n",
       "      <td>Goiás</td>\n",
       "      <td>7113540</td>\n",
       "    </tr>\n",
       "    <tr>\n",
       "      <th>9</th>\n",
       "      <td>MA</td>\n",
       "      <td>431015</td>\n",
       "      <td>Maranhão</td>\n",
       "      <td>7114598</td>\n",
       "    </tr>\n",
       "    <tr>\n",
       "      <th>10</th>\n",
       "      <td>MG</td>\n",
       "      <td>3902135</td>\n",
       "      <td>Minas Gerais</td>\n",
       "      <td>21292666</td>\n",
       "    </tr>\n",
       "    <tr>\n",
       "      <th>11</th>\n",
       "      <td>MS</td>\n",
       "      <td>354738</td>\n",
       "      <td>Mato Grosso do Sul</td>\n",
       "      <td>2809394</td>\n",
       "    </tr>\n",
       "    <tr>\n",
       "      <th>12</th>\n",
       "      <td>MT</td>\n",
       "      <td>377057</td>\n",
       "      <td>Mato Grosso</td>\n",
       "      <td>3526220</td>\n",
       "    </tr>\n",
       "    <tr>\n",
       "      <th>13</th>\n",
       "      <td>PA</td>\n",
       "      <td>448861</td>\n",
       "      <td>Pará</td>\n",
       "      <td>8690745</td>\n",
       "    </tr>\n",
       "    <tr>\n",
       "      <th>14</th>\n",
       "      <td>PB</td>\n",
       "      <td>606068</td>\n",
       "      <td>Paraíba</td>\n",
       "      <td>4039277</td>\n",
       "    </tr>\n",
       "    <tr>\n",
       "      <th>15</th>\n",
       "      <td>PE</td>\n",
       "      <td>1072268</td>\n",
       "      <td>Pernambuco</td>\n",
       "      <td>9616621</td>\n",
       "    </tr>\n",
       "    <tr>\n",
       "      <th>16</th>\n",
       "      <td>PI</td>\n",
       "      <td>226218</td>\n",
       "      <td>Piauí</td>\n",
       "      <td>3281480</td>\n",
       "    </tr>\n",
       "    <tr>\n",
       "      <th>17</th>\n",
       "      <td>PR</td>\n",
       "      <td>1755949</td>\n",
       "      <td>Paraná</td>\n",
       "      <td>11516840</td>\n",
       "    </tr>\n",
       "    <tr>\n",
       "      <th>18</th>\n",
       "      <td>RJ</td>\n",
       "      <td>2180755</td>\n",
       "      <td>Rio de Janeiro</td>\n",
       "      <td>17366189</td>\n",
       "    </tr>\n",
       "    <tr>\n",
       "      <th>19</th>\n",
       "      <td>RN</td>\n",
       "      <td>557518</td>\n",
       "      <td>Rio Grande do Norte</td>\n",
       "      <td>3534165</td>\n",
       "    </tr>\n",
       "    <tr>\n",
       "      <th>20</th>\n",
       "      <td>RO</td>\n",
       "      <td>204815</td>\n",
       "      <td>Rondônia</td>\n",
       "      <td>1796460</td>\n",
       "    </tr>\n",
       "    <tr>\n",
       "      <th>21</th>\n",
       "      <td>RR</td>\n",
       "      <td>33992</td>\n",
       "      <td>Roraima</td>\n",
       "      <td>652713</td>\n",
       "    </tr>\n",
       "    <tr>\n",
       "      <th>22</th>\n",
       "      <td>RS</td>\n",
       "      <td>5471156</td>\n",
       "      <td>Rio Grande do Sul</td>\n",
       "      <td>11422973</td>\n",
       "    </tr>\n",
       "    <tr>\n",
       "      <th>23</th>\n",
       "      <td>SC</td>\n",
       "      <td>2028813</td>\n",
       "      <td>Santa Catarina</td>\n",
       "      <td>7252502</td>\n",
       "    </tr>\n",
       "    <tr>\n",
       "      <th>24</th>\n",
       "      <td>SE</td>\n",
       "      <td>248773</td>\n",
       "      <td>Sergipe</td>\n",
       "      <td>2318822</td>\n",
       "    </tr>\n",
       "    <tr>\n",
       "      <th>25</th>\n",
       "      <td>SP</td>\n",
       "      <td>7776115</td>\n",
       "      <td>São Paulo</td>\n",
       "      <td>46289333</td>\n",
       "    </tr>\n",
       "    <tr>\n",
       "      <th>26</th>\n",
       "      <td>TO</td>\n",
       "      <td>140791</td>\n",
       "      <td>Tocantins</td>\n",
       "      <td>1590248</td>\n",
       "    </tr>\n",
       "  </tbody>\n",
       "</table>\n",
       "</div>"
      ],
      "text/plain": [
       "   UF_VENDA  QTD_VENDIDA               estado  população\n",
       "0        AC        59935                 Acre     894470\n",
       "1        AL       233059              Alagoas    3351543\n",
       "2        AM       125676             Amazonas    4207714\n",
       "3        AP        56166                Amapá     861773\n",
       "4        BA      1082199                Bahia   14930634\n",
       "5        CE       719334                Ceará    9187103\n",
       "6        DF      1272893     Distrito Federal    3055149\n",
       "7        ES       563710       Espírito Santo    4064052\n",
       "8        GO      1203127                Goiás    7113540\n",
       "9        MA       431015             Maranhão    7114598\n",
       "10       MG      3902135         Minas Gerais   21292666\n",
       "11       MS       354738   Mato Grosso do Sul    2809394\n",
       "12       MT       377057          Mato Grosso    3526220\n",
       "13       PA       448861                 Pará    8690745\n",
       "14       PB       606068              Paraíba    4039277\n",
       "15       PE      1072268           Pernambuco    9616621\n",
       "16       PI       226218                Piauí    3281480\n",
       "17       PR      1755949               Paraná   11516840\n",
       "18       RJ      2180755       Rio de Janeiro   17366189\n",
       "19       RN       557518  Rio Grande do Norte    3534165\n",
       "20       RO       204815             Rondônia    1796460\n",
       "21       RR        33992              Roraima     652713\n",
       "22       RS      5471156    Rio Grande do Sul   11422973\n",
       "23       SC      2028813       Santa Catarina    7252502\n",
       "24       SE       248773              Sergipe    2318822\n",
       "25       SP      7776115            São Paulo   46289333\n",
       "26       TO       140791            Tocantins    1590248"
      ]
     },
     "execution_count": 147,
     "metadata": {},
     "output_type": "execute_result"
    }
   ],
   "source": [
    "medicamentos_idade_população = pd.merge(qtd_vendida_populacao, df_estados_populacao, on='UF_VENDA')\n",
    "medicamentos_idade_população"
   ]
  },
  {
   "cell_type": "code",
   "execution_count": 173,
   "metadata": {},
   "outputs": [
    {
     "data": {
      "text/html": [
       "<div>\n",
       "<style scoped>\n",
       "    .dataframe tbody tr th:only-of-type {\n",
       "        vertical-align: middle;\n",
       "    }\n",
       "\n",
       "    .dataframe tbody tr th {\n",
       "        vertical-align: top;\n",
       "    }\n",
       "\n",
       "    .dataframe thead th {\n",
       "        text-align: right;\n",
       "    }\n",
       "</style>\n",
       "<table border=\"1\" class=\"dataframe\">\n",
       "  <thead>\n",
       "    <tr style=\"text-align: right;\">\n",
       "      <th></th>\n",
       "      <th>UF_VENDA</th>\n",
       "      <th>QTD_VENDIDA</th>\n",
       "      <th>estado</th>\n",
       "      <th>população</th>\n",
       "      <th>QTD_POP</th>\n",
       "    </tr>\n",
       "  </thead>\n",
       "  <tbody>\n",
       "    <tr>\n",
       "      <th>22</th>\n",
       "      <td>RS</td>\n",
       "      <td>5471156</td>\n",
       "      <td>Rio Grande do Sul</td>\n",
       "      <td>11422973</td>\n",
       "      <td>0.478961</td>\n",
       "    </tr>\n",
       "    <tr>\n",
       "      <th>6</th>\n",
       "      <td>DF</td>\n",
       "      <td>1272893</td>\n",
       "      <td>Distrito Federal</td>\n",
       "      <td>3055149</td>\n",
       "      <td>0.416639</td>\n",
       "    </tr>\n",
       "    <tr>\n",
       "      <th>23</th>\n",
       "      <td>SC</td>\n",
       "      <td>2028813</td>\n",
       "      <td>Santa Catarina</td>\n",
       "      <td>7252502</td>\n",
       "      <td>0.279740</td>\n",
       "    </tr>\n",
       "    <tr>\n",
       "      <th>10</th>\n",
       "      <td>MG</td>\n",
       "      <td>3902135</td>\n",
       "      <td>Minas Gerais</td>\n",
       "      <td>21292666</td>\n",
       "      <td>0.183262</td>\n",
       "    </tr>\n",
       "    <tr>\n",
       "      <th>8</th>\n",
       "      <td>GO</td>\n",
       "      <td>1203127</td>\n",
       "      <td>Goiás</td>\n",
       "      <td>7113540</td>\n",
       "      <td>0.169132</td>\n",
       "    </tr>\n",
       "    <tr>\n",
       "      <th>25</th>\n",
       "      <td>SP</td>\n",
       "      <td>7776115</td>\n",
       "      <td>São Paulo</td>\n",
       "      <td>46289333</td>\n",
       "      <td>0.167989</td>\n",
       "    </tr>\n",
       "    <tr>\n",
       "      <th>19</th>\n",
       "      <td>RN</td>\n",
       "      <td>557518</td>\n",
       "      <td>Rio Grande do Norte</td>\n",
       "      <td>3534165</td>\n",
       "      <td>0.157751</td>\n",
       "    </tr>\n",
       "    <tr>\n",
       "      <th>17</th>\n",
       "      <td>PR</td>\n",
       "      <td>1755949</td>\n",
       "      <td>Paraná</td>\n",
       "      <td>11516840</td>\n",
       "      <td>0.152468</td>\n",
       "    </tr>\n",
       "    <tr>\n",
       "      <th>14</th>\n",
       "      <td>PB</td>\n",
       "      <td>606068</td>\n",
       "      <td>Paraíba</td>\n",
       "      <td>4039277</td>\n",
       "      <td>0.150044</td>\n",
       "    </tr>\n",
       "    <tr>\n",
       "      <th>7</th>\n",
       "      <td>ES</td>\n",
       "      <td>563710</td>\n",
       "      <td>Espírito Santo</td>\n",
       "      <td>4064052</td>\n",
       "      <td>0.138706</td>\n",
       "    </tr>\n",
       "    <tr>\n",
       "      <th>11</th>\n",
       "      <td>MS</td>\n",
       "      <td>354738</td>\n",
       "      <td>Mato Grosso do Sul</td>\n",
       "      <td>2809394</td>\n",
       "      <td>0.126269</td>\n",
       "    </tr>\n",
       "    <tr>\n",
       "      <th>18</th>\n",
       "      <td>RJ</td>\n",
       "      <td>2180755</td>\n",
       "      <td>Rio de Janeiro</td>\n",
       "      <td>17366189</td>\n",
       "      <td>0.125575</td>\n",
       "    </tr>\n",
       "    <tr>\n",
       "      <th>20</th>\n",
       "      <td>RO</td>\n",
       "      <td>204815</td>\n",
       "      <td>Rondônia</td>\n",
       "      <td>1796460</td>\n",
       "      <td>0.114010</td>\n",
       "    </tr>\n",
       "    <tr>\n",
       "      <th>15</th>\n",
       "      <td>PE</td>\n",
       "      <td>1072268</td>\n",
       "      <td>Pernambuco</td>\n",
       "      <td>9616621</td>\n",
       "      <td>0.111502</td>\n",
       "    </tr>\n",
       "    <tr>\n",
       "      <th>24</th>\n",
       "      <td>SE</td>\n",
       "      <td>248773</td>\n",
       "      <td>Sergipe</td>\n",
       "      <td>2318822</td>\n",
       "      <td>0.107284</td>\n",
       "    </tr>\n",
       "    <tr>\n",
       "      <th>12</th>\n",
       "      <td>MT</td>\n",
       "      <td>377057</td>\n",
       "      <td>Mato Grosso</td>\n",
       "      <td>3526220</td>\n",
       "      <td>0.106930</td>\n",
       "    </tr>\n",
       "    <tr>\n",
       "      <th>26</th>\n",
       "      <td>TO</td>\n",
       "      <td>140791</td>\n",
       "      <td>Tocantins</td>\n",
       "      <td>1590248</td>\n",
       "      <td>0.088534</td>\n",
       "    </tr>\n",
       "    <tr>\n",
       "      <th>5</th>\n",
       "      <td>CE</td>\n",
       "      <td>719334</td>\n",
       "      <td>Ceará</td>\n",
       "      <td>9187103</td>\n",
       "      <td>0.078298</td>\n",
       "    </tr>\n",
       "    <tr>\n",
       "      <th>4</th>\n",
       "      <td>BA</td>\n",
       "      <td>1082199</td>\n",
       "      <td>Bahia</td>\n",
       "      <td>14930634</td>\n",
       "      <td>0.072482</td>\n",
       "    </tr>\n",
       "    <tr>\n",
       "      <th>1</th>\n",
       "      <td>AL</td>\n",
       "      <td>233059</td>\n",
       "      <td>Alagoas</td>\n",
       "      <td>3351543</td>\n",
       "      <td>0.069538</td>\n",
       "    </tr>\n",
       "    <tr>\n",
       "      <th>16</th>\n",
       "      <td>PI</td>\n",
       "      <td>226218</td>\n",
       "      <td>Piauí</td>\n",
       "      <td>3281480</td>\n",
       "      <td>0.068938</td>\n",
       "    </tr>\n",
       "    <tr>\n",
       "      <th>0</th>\n",
       "      <td>AC</td>\n",
       "      <td>59935</td>\n",
       "      <td>Acre</td>\n",
       "      <td>894470</td>\n",
       "      <td>0.067006</td>\n",
       "    </tr>\n",
       "    <tr>\n",
       "      <th>3</th>\n",
       "      <td>AP</td>\n",
       "      <td>56166</td>\n",
       "      <td>Amapá</td>\n",
       "      <td>861773</td>\n",
       "      <td>0.065175</td>\n",
       "    </tr>\n",
       "    <tr>\n",
       "      <th>9</th>\n",
       "      <td>MA</td>\n",
       "      <td>431015</td>\n",
       "      <td>Maranhão</td>\n",
       "      <td>7114598</td>\n",
       "      <td>0.060582</td>\n",
       "    </tr>\n",
       "    <tr>\n",
       "      <th>21</th>\n",
       "      <td>RR</td>\n",
       "      <td>33992</td>\n",
       "      <td>Roraima</td>\n",
       "      <td>652713</td>\n",
       "      <td>0.052078</td>\n",
       "    </tr>\n",
       "    <tr>\n",
       "      <th>13</th>\n",
       "      <td>PA</td>\n",
       "      <td>448861</td>\n",
       "      <td>Pará</td>\n",
       "      <td>8690745</td>\n",
       "      <td>0.051648</td>\n",
       "    </tr>\n",
       "    <tr>\n",
       "      <th>2</th>\n",
       "      <td>AM</td>\n",
       "      <td>125676</td>\n",
       "      <td>Amazonas</td>\n",
       "      <td>4207714</td>\n",
       "      <td>0.029868</td>\n",
       "    </tr>\n",
       "  </tbody>\n",
       "</table>\n",
       "</div>"
      ],
      "text/plain": [
       "   UF_VENDA  QTD_VENDIDA               estado  população   QTD_POP\n",
       "22       RS      5471156    Rio Grande do Sul   11422973  0.478961\n",
       "6        DF      1272893     Distrito Federal    3055149  0.416639\n",
       "23       SC      2028813       Santa Catarina    7252502  0.279740\n",
       "10       MG      3902135         Minas Gerais   21292666  0.183262\n",
       "8        GO      1203127                Goiás    7113540  0.169132\n",
       "25       SP      7776115            São Paulo   46289333  0.167989\n",
       "19       RN       557518  Rio Grande do Norte    3534165  0.157751\n",
       "17       PR      1755949               Paraná   11516840  0.152468\n",
       "14       PB       606068              Paraíba    4039277  0.150044\n",
       "7        ES       563710       Espírito Santo    4064052  0.138706\n",
       "11       MS       354738   Mato Grosso do Sul    2809394  0.126269\n",
       "18       RJ      2180755       Rio de Janeiro   17366189  0.125575\n",
       "20       RO       204815             Rondônia    1796460  0.114010\n",
       "15       PE      1072268           Pernambuco    9616621  0.111502\n",
       "24       SE       248773              Sergipe    2318822  0.107284\n",
       "12       MT       377057          Mato Grosso    3526220  0.106930\n",
       "26       TO       140791            Tocantins    1590248  0.088534\n",
       "5        CE       719334                Ceará    9187103  0.078298\n",
       "4        BA      1082199                Bahia   14930634  0.072482\n",
       "1        AL       233059              Alagoas    3351543  0.069538\n",
       "16       PI       226218                Piauí    3281480  0.068938\n",
       "0        AC        59935                 Acre     894470  0.067006\n",
       "3        AP        56166                Amapá     861773  0.065175\n",
       "9        MA       431015             Maranhão    7114598  0.060582\n",
       "21       RR        33992              Roraima     652713  0.052078\n",
       "13       PA       448861                 Pará    8690745  0.051648\n",
       "2        AM       125676             Amazonas    4207714  0.029868"
      ]
     },
     "execution_count": 173,
     "metadata": {},
     "output_type": "execute_result"
    }
   ],
   "source": [
    "medicamentos_idade_população[\"QTD_POP\"] = (medicamentos_idade_população[\"QTD_VENDIDA\"]/medicamentos_idade_população[\"população\"])\n",
    "medicamentos_idade_população = medicamentos_idade_população.sort_values(by='QTD_POP', ascending=False)\n",
    "medicamentos_idade_população"
   ]
  },
  {
   "cell_type": "markdown",
   "metadata": {},
   "source": [
    "# normalizando"
   ]
  },
  {
   "cell_type": "code",
   "execution_count": 182,
   "metadata": {},
   "outputs": [
    {
     "data": {
      "text/html": [
       "<div>\n",
       "<style scoped>\n",
       "    .dataframe tbody tr th:only-of-type {\n",
       "        vertical-align: middle;\n",
       "    }\n",
       "\n",
       "    .dataframe tbody tr th {\n",
       "        vertical-align: top;\n",
       "    }\n",
       "\n",
       "    .dataframe thead th {\n",
       "        text-align: right;\n",
       "    }\n",
       "</style>\n",
       "<table border=\"1\" class=\"dataframe\">\n",
       "  <thead>\n",
       "    <tr style=\"text-align: right;\">\n",
       "      <th></th>\n",
       "      <th>UF_VENDA</th>\n",
       "      <th>QTD_VENDIDA</th>\n",
       "      <th>estado</th>\n",
       "      <th>população</th>\n",
       "      <th>QTD_POP</th>\n",
       "      <th>normalizado</th>\n",
       "    </tr>\n",
       "  </thead>\n",
       "  <tbody>\n",
       "    <tr>\n",
       "      <th>22</th>\n",
       "      <td>RS</td>\n",
       "      <td>5471156</td>\n",
       "      <td>Rio Grande do Sul</td>\n",
       "      <td>11422973</td>\n",
       "      <td>0.478961</td>\n",
       "      <td>12.978536</td>\n",
       "    </tr>\n",
       "    <tr>\n",
       "      <th>6</th>\n",
       "      <td>DF</td>\n",
       "      <td>1272893</td>\n",
       "      <td>Distrito Federal</td>\n",
       "      <td>3055149</td>\n",
       "      <td>0.416639</td>\n",
       "      <td>11.289774</td>\n",
       "    </tr>\n",
       "    <tr>\n",
       "      <th>23</th>\n",
       "      <td>SC</td>\n",
       "      <td>2028813</td>\n",
       "      <td>Santa Catarina</td>\n",
       "      <td>7252502</td>\n",
       "      <td>0.279740</td>\n",
       "      <td>7.580187</td>\n",
       "    </tr>\n",
       "    <tr>\n",
       "      <th>10</th>\n",
       "      <td>MG</td>\n",
       "      <td>3902135</td>\n",
       "      <td>Minas Gerais</td>\n",
       "      <td>21292666</td>\n",
       "      <td>0.183262</td>\n",
       "      <td>4.965900</td>\n",
       "    </tr>\n",
       "    <tr>\n",
       "      <th>8</th>\n",
       "      <td>GO</td>\n",
       "      <td>1203127</td>\n",
       "      <td>Goiás</td>\n",
       "      <td>7113540</td>\n",
       "      <td>0.169132</td>\n",
       "      <td>4.583017</td>\n",
       "    </tr>\n",
       "    <tr>\n",
       "      <th>25</th>\n",
       "      <td>SP</td>\n",
       "      <td>7776115</td>\n",
       "      <td>São Paulo</td>\n",
       "      <td>46289333</td>\n",
       "      <td>0.167989</td>\n",
       "      <td>4.552055</td>\n",
       "    </tr>\n",
       "    <tr>\n",
       "      <th>19</th>\n",
       "      <td>RN</td>\n",
       "      <td>557518</td>\n",
       "      <td>Rio Grande do Norte</td>\n",
       "      <td>3534165</td>\n",
       "      <td>0.157751</td>\n",
       "      <td>4.274623</td>\n",
       "    </tr>\n",
       "    <tr>\n",
       "      <th>17</th>\n",
       "      <td>PR</td>\n",
       "      <td>1755949</td>\n",
       "      <td>Paraná</td>\n",
       "      <td>11516840</td>\n",
       "      <td>0.152468</td>\n",
       "      <td>4.131467</td>\n",
       "    </tr>\n",
       "    <tr>\n",
       "      <th>14</th>\n",
       "      <td>PB</td>\n",
       "      <td>606068</td>\n",
       "      <td>Paraíba</td>\n",
       "      <td>4039277</td>\n",
       "      <td>0.150044</td>\n",
       "      <td>4.065776</td>\n",
       "    </tr>\n",
       "    <tr>\n",
       "      <th>7</th>\n",
       "      <td>ES</td>\n",
       "      <td>563710</td>\n",
       "      <td>Espírito Santo</td>\n",
       "      <td>4064052</td>\n",
       "      <td>0.138706</td>\n",
       "      <td>3.758566</td>\n",
       "    </tr>\n",
       "    <tr>\n",
       "      <th>11</th>\n",
       "      <td>MS</td>\n",
       "      <td>354738</td>\n",
       "      <td>Mato Grosso do Sul</td>\n",
       "      <td>2809394</td>\n",
       "      <td>0.126269</td>\n",
       "      <td>3.421534</td>\n",
       "    </tr>\n",
       "    <tr>\n",
       "      <th>18</th>\n",
       "      <td>RJ</td>\n",
       "      <td>2180755</td>\n",
       "      <td>Rio de Janeiro</td>\n",
       "      <td>17366189</td>\n",
       "      <td>0.125575</td>\n",
       "      <td>3.402735</td>\n",
       "    </tr>\n",
       "    <tr>\n",
       "      <th>20</th>\n",
       "      <td>RO</td>\n",
       "      <td>204815</td>\n",
       "      <td>Rondônia</td>\n",
       "      <td>1796460</td>\n",
       "      <td>0.114010</td>\n",
       "      <td>3.089370</td>\n",
       "    </tr>\n",
       "    <tr>\n",
       "      <th>15</th>\n",
       "      <td>PE</td>\n",
       "      <td>1072268</td>\n",
       "      <td>Pernambuco</td>\n",
       "      <td>9616621</td>\n",
       "      <td>0.111502</td>\n",
       "      <td>3.021389</td>\n",
       "    </tr>\n",
       "    <tr>\n",
       "      <th>24</th>\n",
       "      <td>SE</td>\n",
       "      <td>248773</td>\n",
       "      <td>Sergipe</td>\n",
       "      <td>2318822</td>\n",
       "      <td>0.107284</td>\n",
       "      <td>2.907111</td>\n",
       "    </tr>\n",
       "    <tr>\n",
       "      <th>12</th>\n",
       "      <td>MT</td>\n",
       "      <td>377057</td>\n",
       "      <td>Mato Grosso</td>\n",
       "      <td>3526220</td>\n",
       "      <td>0.106930</td>\n",
       "      <td>2.897499</td>\n",
       "    </tr>\n",
       "    <tr>\n",
       "      <th>26</th>\n",
       "      <td>TO</td>\n",
       "      <td>140791</td>\n",
       "      <td>Tocantins</td>\n",
       "      <td>1590248</td>\n",
       "      <td>0.088534</td>\n",
       "      <td>2.399031</td>\n",
       "    </tr>\n",
       "    <tr>\n",
       "      <th>5</th>\n",
       "      <td>CE</td>\n",
       "      <td>719334</td>\n",
       "      <td>Ceará</td>\n",
       "      <td>9187103</td>\n",
       "      <td>0.078298</td>\n",
       "      <td>2.121670</td>\n",
       "    </tr>\n",
       "    <tr>\n",
       "      <th>4</th>\n",
       "      <td>BA</td>\n",
       "      <td>1082199</td>\n",
       "      <td>Bahia</td>\n",
       "      <td>14930634</td>\n",
       "      <td>0.072482</td>\n",
       "      <td>1.964059</td>\n",
       "    </tr>\n",
       "    <tr>\n",
       "      <th>1</th>\n",
       "      <td>AL</td>\n",
       "      <td>233059</td>\n",
       "      <td>Alagoas</td>\n",
       "      <td>3351543</td>\n",
       "      <td>0.069538</td>\n",
       "      <td>1.884286</td>\n",
       "    </tr>\n",
       "    <tr>\n",
       "      <th>16</th>\n",
       "      <td>PI</td>\n",
       "      <td>226218</td>\n",
       "      <td>Piauí</td>\n",
       "      <td>3281480</td>\n",
       "      <td>0.068938</td>\n",
       "      <td>1.868027</td>\n",
       "    </tr>\n",
       "    <tr>\n",
       "      <th>0</th>\n",
       "      <td>AC</td>\n",
       "      <td>59935</td>\n",
       "      <td>Acre</td>\n",
       "      <td>894470</td>\n",
       "      <td>0.067006</td>\n",
       "      <td>1.815685</td>\n",
       "    </tr>\n",
       "    <tr>\n",
       "      <th>3</th>\n",
       "      <td>AP</td>\n",
       "      <td>56166</td>\n",
       "      <td>Amapá</td>\n",
       "      <td>861773</td>\n",
       "      <td>0.065175</td>\n",
       "      <td>1.766064</td>\n",
       "    </tr>\n",
       "    <tr>\n",
       "      <th>9</th>\n",
       "      <td>MA</td>\n",
       "      <td>431015</td>\n",
       "      <td>Maranhão</td>\n",
       "      <td>7114598</td>\n",
       "      <td>0.060582</td>\n",
       "      <td>1.641602</td>\n",
       "    </tr>\n",
       "    <tr>\n",
       "      <th>21</th>\n",
       "      <td>RR</td>\n",
       "      <td>33992</td>\n",
       "      <td>Roraima</td>\n",
       "      <td>652713</td>\n",
       "      <td>0.052078</td>\n",
       "      <td>1.411173</td>\n",
       "    </tr>\n",
       "    <tr>\n",
       "      <th>13</th>\n",
       "      <td>PA</td>\n",
       "      <td>448861</td>\n",
       "      <td>Pará</td>\n",
       "      <td>8690745</td>\n",
       "      <td>0.051648</td>\n",
       "      <td>1.399525</td>\n",
       "    </tr>\n",
       "    <tr>\n",
       "      <th>2</th>\n",
       "      <td>AM</td>\n",
       "      <td>125676</td>\n",
       "      <td>Amazonas</td>\n",
       "      <td>4207714</td>\n",
       "      <td>0.029868</td>\n",
       "      <td>0.809342</td>\n",
       "    </tr>\n",
       "  </tbody>\n",
       "</table>\n",
       "</div>"
      ],
      "text/plain": [
       "   UF_VENDA  QTD_VENDIDA               estado  população   QTD_POP  \\\n",
       "22       RS      5471156    Rio Grande do Sul   11422973  0.478961   \n",
       "6        DF      1272893     Distrito Federal    3055149  0.416639   \n",
       "23       SC      2028813       Santa Catarina    7252502  0.279740   \n",
       "10       MG      3902135         Minas Gerais   21292666  0.183262   \n",
       "8        GO      1203127                Goiás    7113540  0.169132   \n",
       "25       SP      7776115            São Paulo   46289333  0.167989   \n",
       "19       RN       557518  Rio Grande do Norte    3534165  0.157751   \n",
       "17       PR      1755949               Paraná   11516840  0.152468   \n",
       "14       PB       606068              Paraíba    4039277  0.150044   \n",
       "7        ES       563710       Espírito Santo    4064052  0.138706   \n",
       "11       MS       354738   Mato Grosso do Sul    2809394  0.126269   \n",
       "18       RJ      2180755       Rio de Janeiro   17366189  0.125575   \n",
       "20       RO       204815             Rondônia    1796460  0.114010   \n",
       "15       PE      1072268           Pernambuco    9616621  0.111502   \n",
       "24       SE       248773              Sergipe    2318822  0.107284   \n",
       "12       MT       377057          Mato Grosso    3526220  0.106930   \n",
       "26       TO       140791            Tocantins    1590248  0.088534   \n",
       "5        CE       719334                Ceará    9187103  0.078298   \n",
       "4        BA      1082199                Bahia   14930634  0.072482   \n",
       "1        AL       233059              Alagoas    3351543  0.069538   \n",
       "16       PI       226218                Piauí    3281480  0.068938   \n",
       "0        AC        59935                 Acre     894470  0.067006   \n",
       "3        AP        56166                Amapá     861773  0.065175   \n",
       "9        MA       431015             Maranhão    7114598  0.060582   \n",
       "21       RR        33992              Roraima     652713  0.052078   \n",
       "13       PA       448861                 Pará    8690745  0.051648   \n",
       "2        AM       125676             Amazonas    4207714  0.029868   \n",
       "\n",
       "    normalizado  \n",
       "22    12.978536  \n",
       "6     11.289774  \n",
       "23     7.580187  \n",
       "10     4.965900  \n",
       "8      4.583017  \n",
       "25     4.552055  \n",
       "19     4.274623  \n",
       "17     4.131467  \n",
       "14     4.065776  \n",
       "7      3.758566  \n",
       "11     3.421534  \n",
       "18     3.402735  \n",
       "20     3.089370  \n",
       "15     3.021389  \n",
       "24     2.907111  \n",
       "12     2.897499  \n",
       "26     2.399031  \n",
       "5      2.121670  \n",
       "4      1.964059  \n",
       "1      1.884286  \n",
       "16     1.868027  \n",
       "0      1.815685  \n",
       "3      1.766064  \n",
       "9      1.641602  \n",
       "21     1.411173  \n",
       "13     1.399525  \n",
       "2      0.809342  "
      ]
     },
     "execution_count": 182,
     "metadata": {},
     "output_type": "execute_result"
    }
   ],
   "source": [
    "medicamentos_idade_população[\"normalizado\"] = (medicamentos_idade_população[\"QTD_POP\"]/medicamentos_idade_população[\"QTD_POP\"].sum())*100\n",
    "medicamentos_idade_população"
   ]
  },
  {
   "cell_type": "code",
   "execution_count": 183,
   "metadata": {},
   "outputs": [],
   "source": [
    "import plotly.graph_objs as go"
   ]
  },
  {
   "cell_type": "code",
   "execution_count": 184,
   "metadata": {},
   "outputs": [],
   "source": [
    "pizza = go.Figure(\n",
    "    data=[go.Pie(\n",
    "        labels=medicamentos_idade_população['UF_VENDA'],\n",
    "        values=medicamentos_idade_população['normalizado'],\n",
    "        hole=0.5,\n",
    "        marker=dict(colors=['#ff7f0e', '#2ca02c', '#d62728']),\n",
    "        hoverinfo='label+percent',\n",
    "        textinfo='value'\n",
    "   )]\n",
    ")"
   ]
  },
  {
   "cell_type": "code",
   "execution_count": 185,
   "metadata": {},
   "outputs": [
    {
     "data": {
      "application/vnd.plotly.v1+json": {
       "config": {
        "plotlyServerURL": "https://plot.ly"
       },
       "data": [
        {
         "hole": 0.5,
         "hoverinfo": "label+percent",
         "labels": [
          "RS",
          "DF",
          "SC",
          "MG",
          "GO",
          "SP",
          "RN",
          "PR",
          "PB",
          "ES",
          "MS",
          "RJ",
          "RO",
          "PE",
          "SE",
          "MT",
          "TO",
          "CE",
          "BA",
          "AL",
          "PI",
          "AC",
          "AP",
          "MA",
          "RR",
          "PA",
          "AM"
         ],
         "marker": {
          "colors": [
           "#ff7f0e",
           "#2ca02c",
           "#d62728"
          ]
         },
         "textinfo": "value",
         "type": "pie",
         "values": [
          12.978535564776362,
          11.289773947549394,
          7.580186754154347,
          4.965900258380403,
          4.583016691373533,
          4.552054945034131,
          4.274622975475877,
          4.1314671926397,
          4.065776124716672,
          3.758566397077654,
          3.421533577483909,
          3.4027347587311287,
          3.08937019205793,
          3.021388617245015,
          2.9071107365006683,
          2.897499350022458,
          2.399030554789461,
          2.1216695644465835,
          1.9640594191228247,
          1.8842860230128586,
          1.8680269630899686,
          1.8156848683482503,
          1.7660636679787858,
          1.6416015835293278,
          1.411172807490717,
          1.3995248337969164,
          0.8093416311751225
         ]
        }
       ],
       "layout": {
        "height": 600,
        "template": {
         "data": {
          "bar": [
           {
            "error_x": {
             "color": "#2a3f5f"
            },
            "error_y": {
             "color": "#2a3f5f"
            },
            "marker": {
             "line": {
              "color": "#E5ECF6",
              "width": 0.5
             },
             "pattern": {
              "fillmode": "overlay",
              "size": 10,
              "solidity": 0.2
             }
            },
            "type": "bar"
           }
          ],
          "barpolar": [
           {
            "marker": {
             "line": {
              "color": "#E5ECF6",
              "width": 0.5
             },
             "pattern": {
              "fillmode": "overlay",
              "size": 10,
              "solidity": 0.2
             }
            },
            "type": "barpolar"
           }
          ],
          "carpet": [
           {
            "aaxis": {
             "endlinecolor": "#2a3f5f",
             "gridcolor": "white",
             "linecolor": "white",
             "minorgridcolor": "white",
             "startlinecolor": "#2a3f5f"
            },
            "baxis": {
             "endlinecolor": "#2a3f5f",
             "gridcolor": "white",
             "linecolor": "white",
             "minorgridcolor": "white",
             "startlinecolor": "#2a3f5f"
            },
            "type": "carpet"
           }
          ],
          "choropleth": [
           {
            "colorbar": {
             "outlinewidth": 0,
             "ticks": ""
            },
            "type": "choropleth"
           }
          ],
          "contour": [
           {
            "colorbar": {
             "outlinewidth": 0,
             "ticks": ""
            },
            "colorscale": [
             [
              0,
              "#0d0887"
             ],
             [
              0.1111111111111111,
              "#46039f"
             ],
             [
              0.2222222222222222,
              "#7201a8"
             ],
             [
              0.3333333333333333,
              "#9c179e"
             ],
             [
              0.4444444444444444,
              "#bd3786"
             ],
             [
              0.5555555555555556,
              "#d8576b"
             ],
             [
              0.6666666666666666,
              "#ed7953"
             ],
             [
              0.7777777777777778,
              "#fb9f3a"
             ],
             [
              0.8888888888888888,
              "#fdca26"
             ],
             [
              1,
              "#f0f921"
             ]
            ],
            "type": "contour"
           }
          ],
          "contourcarpet": [
           {
            "colorbar": {
             "outlinewidth": 0,
             "ticks": ""
            },
            "type": "contourcarpet"
           }
          ],
          "heatmap": [
           {
            "colorbar": {
             "outlinewidth": 0,
             "ticks": ""
            },
            "colorscale": [
             [
              0,
              "#0d0887"
             ],
             [
              0.1111111111111111,
              "#46039f"
             ],
             [
              0.2222222222222222,
              "#7201a8"
             ],
             [
              0.3333333333333333,
              "#9c179e"
             ],
             [
              0.4444444444444444,
              "#bd3786"
             ],
             [
              0.5555555555555556,
              "#d8576b"
             ],
             [
              0.6666666666666666,
              "#ed7953"
             ],
             [
              0.7777777777777778,
              "#fb9f3a"
             ],
             [
              0.8888888888888888,
              "#fdca26"
             ],
             [
              1,
              "#f0f921"
             ]
            ],
            "type": "heatmap"
           }
          ],
          "heatmapgl": [
           {
            "colorbar": {
             "outlinewidth": 0,
             "ticks": ""
            },
            "colorscale": [
             [
              0,
              "#0d0887"
             ],
             [
              0.1111111111111111,
              "#46039f"
             ],
             [
              0.2222222222222222,
              "#7201a8"
             ],
             [
              0.3333333333333333,
              "#9c179e"
             ],
             [
              0.4444444444444444,
              "#bd3786"
             ],
             [
              0.5555555555555556,
              "#d8576b"
             ],
             [
              0.6666666666666666,
              "#ed7953"
             ],
             [
              0.7777777777777778,
              "#fb9f3a"
             ],
             [
              0.8888888888888888,
              "#fdca26"
             ],
             [
              1,
              "#f0f921"
             ]
            ],
            "type": "heatmapgl"
           }
          ],
          "histogram": [
           {
            "marker": {
             "pattern": {
              "fillmode": "overlay",
              "size": 10,
              "solidity": 0.2
             }
            },
            "type": "histogram"
           }
          ],
          "histogram2d": [
           {
            "colorbar": {
             "outlinewidth": 0,
             "ticks": ""
            },
            "colorscale": [
             [
              0,
              "#0d0887"
             ],
             [
              0.1111111111111111,
              "#46039f"
             ],
             [
              0.2222222222222222,
              "#7201a8"
             ],
             [
              0.3333333333333333,
              "#9c179e"
             ],
             [
              0.4444444444444444,
              "#bd3786"
             ],
             [
              0.5555555555555556,
              "#d8576b"
             ],
             [
              0.6666666666666666,
              "#ed7953"
             ],
             [
              0.7777777777777778,
              "#fb9f3a"
             ],
             [
              0.8888888888888888,
              "#fdca26"
             ],
             [
              1,
              "#f0f921"
             ]
            ],
            "type": "histogram2d"
           }
          ],
          "histogram2dcontour": [
           {
            "colorbar": {
             "outlinewidth": 0,
             "ticks": ""
            },
            "colorscale": [
             [
              0,
              "#0d0887"
             ],
             [
              0.1111111111111111,
              "#46039f"
             ],
             [
              0.2222222222222222,
              "#7201a8"
             ],
             [
              0.3333333333333333,
              "#9c179e"
             ],
             [
              0.4444444444444444,
              "#bd3786"
             ],
             [
              0.5555555555555556,
              "#d8576b"
             ],
             [
              0.6666666666666666,
              "#ed7953"
             ],
             [
              0.7777777777777778,
              "#fb9f3a"
             ],
             [
              0.8888888888888888,
              "#fdca26"
             ],
             [
              1,
              "#f0f921"
             ]
            ],
            "type": "histogram2dcontour"
           }
          ],
          "mesh3d": [
           {
            "colorbar": {
             "outlinewidth": 0,
             "ticks": ""
            },
            "type": "mesh3d"
           }
          ],
          "parcoords": [
           {
            "line": {
             "colorbar": {
              "outlinewidth": 0,
              "ticks": ""
             }
            },
            "type": "parcoords"
           }
          ],
          "pie": [
           {
            "automargin": true,
            "type": "pie"
           }
          ],
          "scatter": [
           {
            "fillpattern": {
             "fillmode": "overlay",
             "size": 10,
             "solidity": 0.2
            },
            "type": "scatter"
           }
          ],
          "scatter3d": [
           {
            "line": {
             "colorbar": {
              "outlinewidth": 0,
              "ticks": ""
             }
            },
            "marker": {
             "colorbar": {
              "outlinewidth": 0,
              "ticks": ""
             }
            },
            "type": "scatter3d"
           }
          ],
          "scattercarpet": [
           {
            "marker": {
             "colorbar": {
              "outlinewidth": 0,
              "ticks": ""
             }
            },
            "type": "scattercarpet"
           }
          ],
          "scattergeo": [
           {
            "marker": {
             "colorbar": {
              "outlinewidth": 0,
              "ticks": ""
             }
            },
            "type": "scattergeo"
           }
          ],
          "scattergl": [
           {
            "marker": {
             "colorbar": {
              "outlinewidth": 0,
              "ticks": ""
             }
            },
            "type": "scattergl"
           }
          ],
          "scattermapbox": [
           {
            "marker": {
             "colorbar": {
              "outlinewidth": 0,
              "ticks": ""
             }
            },
            "type": "scattermapbox"
           }
          ],
          "scatterpolar": [
           {
            "marker": {
             "colorbar": {
              "outlinewidth": 0,
              "ticks": ""
             }
            },
            "type": "scatterpolar"
           }
          ],
          "scatterpolargl": [
           {
            "marker": {
             "colorbar": {
              "outlinewidth": 0,
              "ticks": ""
             }
            },
            "type": "scatterpolargl"
           }
          ],
          "scatterternary": [
           {
            "marker": {
             "colorbar": {
              "outlinewidth": 0,
              "ticks": ""
             }
            },
            "type": "scatterternary"
           }
          ],
          "surface": [
           {
            "colorbar": {
             "outlinewidth": 0,
             "ticks": ""
            },
            "colorscale": [
             [
              0,
              "#0d0887"
             ],
             [
              0.1111111111111111,
              "#46039f"
             ],
             [
              0.2222222222222222,
              "#7201a8"
             ],
             [
              0.3333333333333333,
              "#9c179e"
             ],
             [
              0.4444444444444444,
              "#bd3786"
             ],
             [
              0.5555555555555556,
              "#d8576b"
             ],
             [
              0.6666666666666666,
              "#ed7953"
             ],
             [
              0.7777777777777778,
              "#fb9f3a"
             ],
             [
              0.8888888888888888,
              "#fdca26"
             ],
             [
              1,
              "#f0f921"
             ]
            ],
            "type": "surface"
           }
          ],
          "table": [
           {
            "cells": {
             "fill": {
              "color": "#EBF0F8"
             },
             "line": {
              "color": "white"
             }
            },
            "header": {
             "fill": {
              "color": "#C8D4E3"
             },
             "line": {
              "color": "white"
             }
            },
            "type": "table"
           }
          ]
         },
         "layout": {
          "annotationdefaults": {
           "arrowcolor": "#2a3f5f",
           "arrowhead": 0,
           "arrowwidth": 1
          },
          "autotypenumbers": "strict",
          "coloraxis": {
           "colorbar": {
            "outlinewidth": 0,
            "ticks": ""
           }
          },
          "colorscale": {
           "diverging": [
            [
             0,
             "#8e0152"
            ],
            [
             0.1,
             "#c51b7d"
            ],
            [
             0.2,
             "#de77ae"
            ],
            [
             0.3,
             "#f1b6da"
            ],
            [
             0.4,
             "#fde0ef"
            ],
            [
             0.5,
             "#f7f7f7"
            ],
            [
             0.6,
             "#e6f5d0"
            ],
            [
             0.7,
             "#b8e186"
            ],
            [
             0.8,
             "#7fbc41"
            ],
            [
             0.9,
             "#4d9221"
            ],
            [
             1,
             "#276419"
            ]
           ],
           "sequential": [
            [
             0,
             "#0d0887"
            ],
            [
             0.1111111111111111,
             "#46039f"
            ],
            [
             0.2222222222222222,
             "#7201a8"
            ],
            [
             0.3333333333333333,
             "#9c179e"
            ],
            [
             0.4444444444444444,
             "#bd3786"
            ],
            [
             0.5555555555555556,
             "#d8576b"
            ],
            [
             0.6666666666666666,
             "#ed7953"
            ],
            [
             0.7777777777777778,
             "#fb9f3a"
            ],
            [
             0.8888888888888888,
             "#fdca26"
            ],
            [
             1,
             "#f0f921"
            ]
           ],
           "sequentialminus": [
            [
             0,
             "#0d0887"
            ],
            [
             0.1111111111111111,
             "#46039f"
            ],
            [
             0.2222222222222222,
             "#7201a8"
            ],
            [
             0.3333333333333333,
             "#9c179e"
            ],
            [
             0.4444444444444444,
             "#bd3786"
            ],
            [
             0.5555555555555556,
             "#d8576b"
            ],
            [
             0.6666666666666666,
             "#ed7953"
            ],
            [
             0.7777777777777778,
             "#fb9f3a"
            ],
            [
             0.8888888888888888,
             "#fdca26"
            ],
            [
             1,
             "#f0f921"
            ]
           ]
          },
          "colorway": [
           "#636efa",
           "#EF553B",
           "#00cc96",
           "#ab63fa",
           "#FFA15A",
           "#19d3f3",
           "#FF6692",
           "#B6E880",
           "#FF97FF",
           "#FECB52"
          ],
          "font": {
           "color": "#2a3f5f"
          },
          "geo": {
           "bgcolor": "white",
           "lakecolor": "white",
           "landcolor": "#E5ECF6",
           "showlakes": true,
           "showland": true,
           "subunitcolor": "white"
          },
          "hoverlabel": {
           "align": "left"
          },
          "hovermode": "closest",
          "mapbox": {
           "style": "light"
          },
          "paper_bgcolor": "white",
          "plot_bgcolor": "#E5ECF6",
          "polar": {
           "angularaxis": {
            "gridcolor": "white",
            "linecolor": "white",
            "ticks": ""
           },
           "bgcolor": "#E5ECF6",
           "radialaxis": {
            "gridcolor": "white",
            "linecolor": "white",
            "ticks": ""
           }
          },
          "scene": {
           "xaxis": {
            "backgroundcolor": "#E5ECF6",
            "gridcolor": "white",
            "gridwidth": 2,
            "linecolor": "white",
            "showbackground": true,
            "ticks": "",
            "zerolinecolor": "white"
           },
           "yaxis": {
            "backgroundcolor": "#E5ECF6",
            "gridcolor": "white",
            "gridwidth": 2,
            "linecolor": "white",
            "showbackground": true,
            "ticks": "",
            "zerolinecolor": "white"
           },
           "zaxis": {
            "backgroundcolor": "#E5ECF6",
            "gridcolor": "white",
            "gridwidth": 2,
            "linecolor": "white",
            "showbackground": true,
            "ticks": "",
            "zerolinecolor": "white"
           }
          },
          "shapedefaults": {
           "line": {
            "color": "#2a3f5f"
           }
          },
          "ternary": {
           "aaxis": {
            "gridcolor": "white",
            "linecolor": "white",
            "ticks": ""
           },
           "baxis": {
            "gridcolor": "white",
            "linecolor": "white",
            "ticks": ""
           },
           "bgcolor": "#E5ECF6",
           "caxis": {
            "gridcolor": "white",
            "linecolor": "white",
            "ticks": ""
           }
          },
          "title": {
           "x": 0.05
          },
          "xaxis": {
           "automargin": true,
           "gridcolor": "white",
           "linecolor": "white",
           "ticks": "",
           "title": {
            "standoff": 15
           },
           "zerolinecolor": "white",
           "zerolinewidth": 2
          },
          "yaxis": {
           "automargin": true,
           "gridcolor": "white",
           "linecolor": "white",
           "ticks": "",
           "title": {
            "standoff": 15
           },
           "zerolinecolor": "white",
           "zerolinewidth": 2
          }
         }
        },
        "title": {
         "text": "Medicamentos Vendidos per Capita por Estado"
        },
        "width": 800
       }
      }
     },
     "metadata": {},
     "output_type": "display_data"
    }
   ],
   "source": [
    "pizza.update_layout(\n",
    "    title='Medicamentos Vendidos per Capita por Estado',\n",
    "    width=800,\n",
    "    height=600\n",
    ")\n",
    "\n",
    "pizza.show()"
   ]
  },
  {
   "cell_type": "markdown",
   "metadata": {},
   "source": [
    "- Municipios que mais vende medicamentos por Estado"
   ]
  },
  {
   "cell_type": "code",
   "execution_count": 186,
   "metadata": {},
   "outputs": [],
   "source": [
    "#Carregando a base de dados original, extraída: https://dados.gov.br/dados/conjuntos-dados/venda-de-medicamentos-controlados-e-antimicrobianos---medicamentos-industrializados\n",
    "   # Medicamentos Controlados e Antimicrobiano # \n",
    "\n",
    "medicamentos = pd.read_csv('EDA_Industrializados_202110.csv', sep =\";\", encoding=\"latin1\")"
   ]
  },
  {
   "cell_type": "code",
   "execution_count": 187,
   "metadata": {},
   "outputs": [],
   "source": [
    "#---Filtrando as colunas com as informações para responder a pergunta formulada---#\n",
    "df = medicamentos.filter([\"UF_VENDA\", \"MUNICIPIO_VENDA\", \"PRINCIPIO_ATIVO\", \"QTD_VENDIDA\", \"IDADE\"])"
   ]
  },
  {
   "cell_type": "code",
   "execution_count": 188,
   "metadata": {},
   "outputs": [],
   "source": [
    "#---Sumarizando a quantidade vendida, utilzando a chave UF e Municipio---#\n",
    "df2 = df.groupby([\"UF_VENDA\",\"MUNICIPIO_VENDA\"])[\"QTD_VENDIDA\"].sum().reset_index()"
   ]
  },
  {
   "cell_type": "code",
   "execution_count": 189,
   "metadata": {},
   "outputs": [],
   "source": [
    "#---Gerando um ndarray com os UFs únicos---#\n",
    "capitais = df2[\"UF_VENDA\"].unique()"
   ]
  },
  {
   "cell_type": "code",
   "execution_count": 190,
   "metadata": {},
   "outputs": [],
   "source": [
    "#---Gerando um df com os municipios que mais vende por estado\n",
    "maior_venda_municipio = pd.DataFrame() \n",
    "# Percorrendo o data frame df2 através das UFs armazenadas em \"capitais\" para filtrar o maior valor vendido\n",
    "for i in capitais: \n",
    "    df3 = df2[df2[\"UF_VENDA\"] == i]\n",
    "    df4 = df3.sort_values(by=\"QTD_VENDIDA\", ascending=False).head(1) \n",
    "    maior_venda_municipio = pd.concat([df4,maior_venda_municipio])"
   ]
  },
  {
   "cell_type": "code",
   "execution_count": 191,
   "metadata": {},
   "outputs": [
    {
     "data": {
      "text/html": [
       "<div>\n",
       "<style scoped>\n",
       "    .dataframe tbody tr th:only-of-type {\n",
       "        vertical-align: middle;\n",
       "    }\n",
       "\n",
       "    .dataframe tbody tr th {\n",
       "        vertical-align: top;\n",
       "    }\n",
       "\n",
       "    .dataframe thead th {\n",
       "        text-align: right;\n",
       "    }\n",
       "</style>\n",
       "<table border=\"1\" class=\"dataframe\">\n",
       "  <thead>\n",
       "    <tr style=\"text-align: right;\">\n",
       "      <th></th>\n",
       "      <th>UF_VENDA</th>\n",
       "      <th>MUNICIPIO_VENDA</th>\n",
       "      <th>QTD_VENDIDA</th>\n",
       "    </tr>\n",
       "  </thead>\n",
       "  <tbody>\n",
       "    <tr>\n",
       "      <th>4839</th>\n",
       "      <td>SP</td>\n",
       "      <td>SÃO PAULO</td>\n",
       "      <td>2109512</td>\n",
       "    </tr>\n",
       "    <tr>\n",
       "      <th>3898</th>\n",
       "      <td>RS</td>\n",
       "      <td>TUPANCIRETÃ</td>\n",
       "      <td>1445626</td>\n",
       "    </tr>\n",
       "    <tr>\n",
       "      <th>675</th>\n",
       "      <td>DF</td>\n",
       "      <td>BRASÍLIA</td>\n",
       "      <td>1111312</td>\n",
       "    </tr>\n",
       "    <tr>\n",
       "      <th>3217</th>\n",
       "      <td>RJ</td>\n",
       "      <td>RIO DE JANEIRO</td>\n",
       "      <td>933949</td>\n",
       "    </tr>\n",
       "    <tr>\n",
       "      <th>4096</th>\n",
       "      <td>SC</td>\n",
       "      <td>NOVA VENEZA</td>\n",
       "      <td>638058</td>\n",
       "    </tr>\n",
       "  </tbody>\n",
       "</table>\n",
       "</div>"
      ],
      "text/plain": [
       "     UF_VENDA MUNICIPIO_VENDA  QTD_VENDIDA\n",
       "4839       SP       SÃO PAULO      2109512\n",
       "3898       RS     TUPANCIRETÃ      1445626\n",
       "675        DF        BRASÍLIA      1111312\n",
       "3217       RJ  RIO DE JANEIRO       933949\n",
       "4096       SC     NOVA VENEZA       638058"
      ]
     },
     "execution_count": 191,
     "metadata": {},
     "output_type": "execute_result"
    }
   ],
   "source": [
    "#---Ordenamos e selecionamos os 5 maiores municipios que venderam medicamentos por Estado\n",
    "maior_venda_municipio.sort_values(by=\"QTD_VENDIDA\", ascending=False).head(5)"
   ]
  },
  {
   "cell_type": "markdown",
   "metadata": {},
   "source": [
    "- Agora, medicamentos mais vendidos para esses estados"
   ]
  },
  {
   "cell_type": "code",
   "execution_count": 192,
   "metadata": {},
   "outputs": [],
   "source": [
    "df5 = maior_venda_municipio.sort_values(by=\"QTD_VENDIDA\", ascending=False).head(5).reset_index()\n",
    "top_capitais = df5[\"UF_VENDA\"] "
   ]
  },
  {
   "cell_type": "code",
   "execution_count": 193,
   "metadata": {},
   "outputs": [],
   "source": [
    "#---Sumarizando a quantidade vendida, utilzando a chave UF e Principio Ativo---#\n",
    "df6= df.groupby([\"UF_VENDA\",\"PRINCIPIO_ATIVO\"])[\"QTD_VENDIDA\"].sum().reset_index() "
   ]
  },
  {
   "cell_type": "code",
   "execution_count": 194,
   "metadata": {},
   "outputs": [],
   "source": [
    "#---Gerando um df com os principio ativos que mais vende por estado\n",
    "maior_venda_principio = pd.DataFrame() \n",
    "# Percorrendo o data frame df2 através das UFs armazenadas em \"capitais\" para filtrar o maior valor vendido\n",
    "for i in top_capitais: \n",
    "    df3 = df6[df6[\"UF_VENDA\"] == i]\n",
    "    df4 = df3.sort_values(by=\"QTD_VENDIDA\", ascending=False).head(1) \n",
    "    maior_venda_principio = pd.concat([df4,maior_venda_principio])"
   ]
  },
  {
   "cell_type": "code",
   "execution_count": 195,
   "metadata": {},
   "outputs": [
    {
     "data": {
      "text/html": [
       "<div>\n",
       "<style scoped>\n",
       "    .dataframe tbody tr th:only-of-type {\n",
       "        vertical-align: middle;\n",
       "    }\n",
       "\n",
       "    .dataframe tbody tr th {\n",
       "        vertical-align: top;\n",
       "    }\n",
       "\n",
       "    .dataframe thead th {\n",
       "        text-align: right;\n",
       "    }\n",
       "</style>\n",
       "<table border=\"1\" class=\"dataframe\">\n",
       "  <thead>\n",
       "    <tr style=\"text-align: right;\">\n",
       "      <th></th>\n",
       "      <th>UF_VENDA</th>\n",
       "      <th>PRINCIPIO_ATIVO</th>\n",
       "      <th>QTD_VENDIDA</th>\n",
       "    </tr>\n",
       "  </thead>\n",
       "  <tbody>\n",
       "    <tr>\n",
       "      <th>6866</th>\n",
       "      <td>RS</td>\n",
       "      <td>HEMIFUMARATO DE QUETIAPINA</td>\n",
       "      <td>1520140</td>\n",
       "    </tr>\n",
       "    <tr>\n",
       "      <th>7817</th>\n",
       "      <td>SP</td>\n",
       "      <td>DECANOATO DE NANDROLONA</td>\n",
       "      <td>731319</td>\n",
       "    </tr>\n",
       "    <tr>\n",
       "      <th>1668</th>\n",
       "      <td>DF</td>\n",
       "      <td>CARBONATO DE LÍTIO</td>\n",
       "      <td>724357</td>\n",
       "    </tr>\n",
       "    <tr>\n",
       "      <th>7296</th>\n",
       "      <td>SC</td>\n",
       "      <td>UNDECILATO DE TESTOSTERONA</td>\n",
       "      <td>637521</td>\n",
       "    </tr>\n",
       "    <tr>\n",
       "      <th>5652</th>\n",
       "      <td>RJ</td>\n",
       "      <td>CLONAZEPAM</td>\n",
       "      <td>193386</td>\n",
       "    </tr>\n",
       "  </tbody>\n",
       "</table>\n",
       "</div>"
      ],
      "text/plain": [
       "     UF_VENDA             PRINCIPIO_ATIVO  QTD_VENDIDA\n",
       "6866       RS  HEMIFUMARATO DE QUETIAPINA      1520140\n",
       "7817       SP     DECANOATO DE NANDROLONA       731319\n",
       "1668       DF          CARBONATO DE LÍTIO       724357\n",
       "7296       SC  UNDECILATO DE TESTOSTERONA       637521\n",
       "5652       RJ                  CLONAZEPAM       193386"
      ]
     },
     "execution_count": 195,
     "metadata": {},
     "output_type": "execute_result"
    }
   ],
   "source": [
    "maior_venda_principio.sort_values(by=\"QTD_VENDIDA\", ascending=False)"
   ]
  }
 ],
 "metadata": {
  "kernelspec": {
   "display_name": "Python 3",
   "language": "python",
   "name": "python3"
  },
  "language_info": {
   "codemirror_mode": {
    "name": "ipython",
    "version": 3
   },
   "file_extension": ".py",
   "mimetype": "text/x-python",
   "name": "python",
   "nbconvert_exporter": "python",
   "pygments_lexer": "ipython3",
   "version": "3.9.16"
  },
  "orig_nbformat": 4
 },
 "nbformat": 4,
 "nbformat_minor": 2
}
